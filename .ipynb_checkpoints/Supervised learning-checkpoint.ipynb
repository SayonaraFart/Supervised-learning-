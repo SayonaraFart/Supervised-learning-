{
 "cells": [
  {
   "cell_type": "markdown",
   "metadata": {},
   "source": [
    "# Отток клиентов"
   ]
  },
  {
   "cell_type": "markdown",
   "metadata": {},
   "source": [
    "Из «Бета-Банка» стали уходить клиенты. Каждый месяц. Немного, но заметно. Банковские маркетологи посчитали: сохранять текущих клиентов дешевле, чем привлекать новых.\n",
    "\n",
    "Нужно спрогнозировать, уйдёт клиент из банка в ближайшее время или нет. Нам предоставлены исторические данные о поведении клиентов и расторжении договоров с банком. \n",
    "\n",
    "Построим модель с предельно большим значением *F1*-меры.\n",
    "\n",
    "Дополнительно измерим *AUC-ROC*, сравнивая её значение с *F1*-мерой.\n",
    "\n",
    "Источник данных: [https://www.kaggle.com/barelydedicated/bank-customer-churn-modeling](https://www.kaggle.com/barelydedicated/bank-customer-churn-modeling)"
   ]
  },
  {
   "cell_type": "markdown",
   "metadata": {},
   "source": [
    "## Подготовка данных"
   ]
  },
  {
   "cell_type": "code",
   "execution_count": 1,
   "metadata": {},
   "outputs": [],
   "source": [
    "import pandas as pd\n",
    "import seaborn as sns\n",
    "from sklearn.model_selection import train_test_split\n",
    "from sklearn.metrics import confusion_matrix\n",
    "from sklearn.tree import DecisionTreeClassifier\n",
    "from sklearn.preprocessing import StandardScaler \n",
    "from sklearn.ensemble import RandomForestClassifier\n",
    "from sklearn.linear_model import LogisticRegression\n",
    "from sklearn.metrics import accuracy_score\n",
    "from sklearn.metrics import f1_score\n",
    "from sklearn.metrics import roc_auc_score\n",
    "from sklearn.utils import shuffle\n",
    "pd.options.mode.chained_assignment = None\n",
    "from sklearn.dummy import DummyClassifier"
   ]
  },
  {
   "cell_type": "code",
   "execution_count": 2,
   "metadata": {},
   "outputs": [],
   "source": [
    "data = pd.read_csv('******')"
   ]
  },
  {
   "cell_type": "markdown",
   "metadata": {},
   "source": [
    "### Изучим данные"
   ]
  },
  {
   "cell_type": "code",
   "execution_count": 3,
   "metadata": {},
   "outputs": [
    {
     "name": "stdout",
     "output_type": "stream",
     "text": [
      "<class 'pandas.core.frame.DataFrame'>\n",
      "RangeIndex: 10000 entries, 0 to 9999\n",
      "Data columns (total 14 columns):\n",
      " #   Column           Non-Null Count  Dtype  \n",
      "---  ------           --------------  -----  \n",
      " 0   RowNumber        10000 non-null  int64  \n",
      " 1   CustomerId       10000 non-null  int64  \n",
      " 2   Surname          10000 non-null  object \n",
      " 3   CreditScore      10000 non-null  int64  \n",
      " 4   Geography        10000 non-null  object \n",
      " 5   Gender           10000 non-null  object \n",
      " 6   Age              10000 non-null  int64  \n",
      " 7   Tenure           9091 non-null   float64\n",
      " 8   Balance          10000 non-null  float64\n",
      " 9   NumOfProducts    10000 non-null  int64  \n",
      " 10  HasCrCard        10000 non-null  int64  \n",
      " 11  IsActiveMember   10000 non-null  int64  \n",
      " 12  EstimatedSalary  10000 non-null  float64\n",
      " 13  Exited           10000 non-null  int64  \n",
      "dtypes: float64(3), int64(8), object(3)\n",
      "memory usage: 1.1+ MB\n"
     ]
    }
   ],
   "source": [
    "data.info()"
   ]
  },
  {
   "cell_type": "code",
   "execution_count": 4,
   "metadata": {},
   "outputs": [
    {
     "data": {
      "text/html": [
       "<div>\n",
       "<style scoped>\n",
       "    .dataframe tbody tr th:only-of-type {\n",
       "        vertical-align: middle;\n",
       "    }\n",
       "\n",
       "    .dataframe tbody tr th {\n",
       "        vertical-align: top;\n",
       "    }\n",
       "\n",
       "    .dataframe thead th {\n",
       "        text-align: right;\n",
       "    }\n",
       "</style>\n",
       "<table border=\"1\" class=\"dataframe\">\n",
       "  <thead>\n",
       "    <tr style=\"text-align: right;\">\n",
       "      <th></th>\n",
       "      <th>RowNumber</th>\n",
       "      <th>CustomerId</th>\n",
       "      <th>Surname</th>\n",
       "      <th>CreditScore</th>\n",
       "      <th>Geography</th>\n",
       "      <th>Gender</th>\n",
       "      <th>Age</th>\n",
       "      <th>Tenure</th>\n",
       "      <th>Balance</th>\n",
       "      <th>NumOfProducts</th>\n",
       "      <th>HasCrCard</th>\n",
       "      <th>IsActiveMember</th>\n",
       "      <th>EstimatedSalary</th>\n",
       "      <th>Exited</th>\n",
       "    </tr>\n",
       "  </thead>\n",
       "  <tbody>\n",
       "    <tr>\n",
       "      <th>0</th>\n",
       "      <td>1</td>\n",
       "      <td>15634602</td>\n",
       "      <td>Hargrave</td>\n",
       "      <td>619</td>\n",
       "      <td>France</td>\n",
       "      <td>Female</td>\n",
       "      <td>42</td>\n",
       "      <td>2.0</td>\n",
       "      <td>0.00</td>\n",
       "      <td>1</td>\n",
       "      <td>1</td>\n",
       "      <td>1</td>\n",
       "      <td>101348.88</td>\n",
       "      <td>1</td>\n",
       "    </tr>\n",
       "    <tr>\n",
       "      <th>1</th>\n",
       "      <td>2</td>\n",
       "      <td>15647311</td>\n",
       "      <td>Hill</td>\n",
       "      <td>608</td>\n",
       "      <td>Spain</td>\n",
       "      <td>Female</td>\n",
       "      <td>41</td>\n",
       "      <td>1.0</td>\n",
       "      <td>83807.86</td>\n",
       "      <td>1</td>\n",
       "      <td>0</td>\n",
       "      <td>1</td>\n",
       "      <td>112542.58</td>\n",
       "      <td>0</td>\n",
       "    </tr>\n",
       "    <tr>\n",
       "      <th>2</th>\n",
       "      <td>3</td>\n",
       "      <td>15619304</td>\n",
       "      <td>Onio</td>\n",
       "      <td>502</td>\n",
       "      <td>France</td>\n",
       "      <td>Female</td>\n",
       "      <td>42</td>\n",
       "      <td>8.0</td>\n",
       "      <td>159660.80</td>\n",
       "      <td>3</td>\n",
       "      <td>1</td>\n",
       "      <td>0</td>\n",
       "      <td>113931.57</td>\n",
       "      <td>1</td>\n",
       "    </tr>\n",
       "    <tr>\n",
       "      <th>3</th>\n",
       "      <td>4</td>\n",
       "      <td>15701354</td>\n",
       "      <td>Boni</td>\n",
       "      <td>699</td>\n",
       "      <td>France</td>\n",
       "      <td>Female</td>\n",
       "      <td>39</td>\n",
       "      <td>1.0</td>\n",
       "      <td>0.00</td>\n",
       "      <td>2</td>\n",
       "      <td>0</td>\n",
       "      <td>0</td>\n",
       "      <td>93826.63</td>\n",
       "      <td>0</td>\n",
       "    </tr>\n",
       "    <tr>\n",
       "      <th>4</th>\n",
       "      <td>5</td>\n",
       "      <td>15737888</td>\n",
       "      <td>Mitchell</td>\n",
       "      <td>850</td>\n",
       "      <td>Spain</td>\n",
       "      <td>Female</td>\n",
       "      <td>43</td>\n",
       "      <td>2.0</td>\n",
       "      <td>125510.82</td>\n",
       "      <td>1</td>\n",
       "      <td>1</td>\n",
       "      <td>1</td>\n",
       "      <td>79084.10</td>\n",
       "      <td>0</td>\n",
       "    </tr>\n",
       "  </tbody>\n",
       "</table>\n",
       "</div>"
      ],
      "text/plain": [
       "   RowNumber  CustomerId   Surname  CreditScore Geography  Gender  Age  \\\n",
       "0          1    15634602  Hargrave          619    France  Female   42   \n",
       "1          2    15647311      Hill          608     Spain  Female   41   \n",
       "2          3    15619304      Onio          502    France  Female   42   \n",
       "3          4    15701354      Boni          699    France  Female   39   \n",
       "4          5    15737888  Mitchell          850     Spain  Female   43   \n",
       "\n",
       "   Tenure    Balance  NumOfProducts  HasCrCard  IsActiveMember  \\\n",
       "0     2.0       0.00              1          1               1   \n",
       "1     1.0   83807.86              1          0               1   \n",
       "2     8.0  159660.80              3          1               0   \n",
       "3     1.0       0.00              2          0               0   \n",
       "4     2.0  125510.82              1          1               1   \n",
       "\n",
       "   EstimatedSalary  Exited  \n",
       "0        101348.88       1  \n",
       "1        112542.58       0  \n",
       "2        113931.57       1  \n",
       "3         93826.63       0  \n",
       "4         79084.10       0  "
      ]
     },
     "metadata": {},
     "output_type": "display_data"
    }
   ],
   "source": [
    "display(data.head(5)) "
   ]
  },
  {
   "cell_type": "code",
   "execution_count": 5,
   "metadata": {},
   "outputs": [
    {
     "data": {
      "text/html": [
       "<div>\n",
       "<style scoped>\n",
       "    .dataframe tbody tr th:only-of-type {\n",
       "        vertical-align: middle;\n",
       "    }\n",
       "\n",
       "    .dataframe tbody tr th {\n",
       "        vertical-align: top;\n",
       "    }\n",
       "\n",
       "    .dataframe thead th {\n",
       "        text-align: right;\n",
       "    }\n",
       "</style>\n",
       "<table border=\"1\" class=\"dataframe\">\n",
       "  <thead>\n",
       "    <tr style=\"text-align: right;\">\n",
       "      <th></th>\n",
       "      <th>RowNumber</th>\n",
       "      <th>CustomerId</th>\n",
       "      <th>CreditScore</th>\n",
       "      <th>Age</th>\n",
       "      <th>Tenure</th>\n",
       "      <th>Balance</th>\n",
       "      <th>NumOfProducts</th>\n",
       "      <th>HasCrCard</th>\n",
       "      <th>IsActiveMember</th>\n",
       "      <th>EstimatedSalary</th>\n",
       "      <th>Exited</th>\n",
       "    </tr>\n",
       "  </thead>\n",
       "  <tbody>\n",
       "    <tr>\n",
       "      <th>count</th>\n",
       "      <td>10000.00000</td>\n",
       "      <td>1.000000e+04</td>\n",
       "      <td>10000.000000</td>\n",
       "      <td>10000.000000</td>\n",
       "      <td>9091.000000</td>\n",
       "      <td>10000.000000</td>\n",
       "      <td>10000.000000</td>\n",
       "      <td>10000.00000</td>\n",
       "      <td>10000.000000</td>\n",
       "      <td>10000.000000</td>\n",
       "      <td>10000.000000</td>\n",
       "    </tr>\n",
       "    <tr>\n",
       "      <th>mean</th>\n",
       "      <td>5000.50000</td>\n",
       "      <td>1.569094e+07</td>\n",
       "      <td>650.528800</td>\n",
       "      <td>38.921800</td>\n",
       "      <td>4.997690</td>\n",
       "      <td>76485.889288</td>\n",
       "      <td>1.530200</td>\n",
       "      <td>0.70550</td>\n",
       "      <td>0.515100</td>\n",
       "      <td>100090.239881</td>\n",
       "      <td>0.203700</td>\n",
       "    </tr>\n",
       "    <tr>\n",
       "      <th>std</th>\n",
       "      <td>2886.89568</td>\n",
       "      <td>7.193619e+04</td>\n",
       "      <td>96.653299</td>\n",
       "      <td>10.487806</td>\n",
       "      <td>2.894723</td>\n",
       "      <td>62397.405202</td>\n",
       "      <td>0.581654</td>\n",
       "      <td>0.45584</td>\n",
       "      <td>0.499797</td>\n",
       "      <td>57510.492818</td>\n",
       "      <td>0.402769</td>\n",
       "    </tr>\n",
       "    <tr>\n",
       "      <th>min</th>\n",
       "      <td>1.00000</td>\n",
       "      <td>1.556570e+07</td>\n",
       "      <td>350.000000</td>\n",
       "      <td>18.000000</td>\n",
       "      <td>0.000000</td>\n",
       "      <td>0.000000</td>\n",
       "      <td>1.000000</td>\n",
       "      <td>0.00000</td>\n",
       "      <td>0.000000</td>\n",
       "      <td>11.580000</td>\n",
       "      <td>0.000000</td>\n",
       "    </tr>\n",
       "    <tr>\n",
       "      <th>25%</th>\n",
       "      <td>2500.75000</td>\n",
       "      <td>1.562853e+07</td>\n",
       "      <td>584.000000</td>\n",
       "      <td>32.000000</td>\n",
       "      <td>2.000000</td>\n",
       "      <td>0.000000</td>\n",
       "      <td>1.000000</td>\n",
       "      <td>0.00000</td>\n",
       "      <td>0.000000</td>\n",
       "      <td>51002.110000</td>\n",
       "      <td>0.000000</td>\n",
       "    </tr>\n",
       "    <tr>\n",
       "      <th>50%</th>\n",
       "      <td>5000.50000</td>\n",
       "      <td>1.569074e+07</td>\n",
       "      <td>652.000000</td>\n",
       "      <td>37.000000</td>\n",
       "      <td>5.000000</td>\n",
       "      <td>97198.540000</td>\n",
       "      <td>1.000000</td>\n",
       "      <td>1.00000</td>\n",
       "      <td>1.000000</td>\n",
       "      <td>100193.915000</td>\n",
       "      <td>0.000000</td>\n",
       "    </tr>\n",
       "    <tr>\n",
       "      <th>75%</th>\n",
       "      <td>7500.25000</td>\n",
       "      <td>1.575323e+07</td>\n",
       "      <td>718.000000</td>\n",
       "      <td>44.000000</td>\n",
       "      <td>7.000000</td>\n",
       "      <td>127644.240000</td>\n",
       "      <td>2.000000</td>\n",
       "      <td>1.00000</td>\n",
       "      <td>1.000000</td>\n",
       "      <td>149388.247500</td>\n",
       "      <td>0.000000</td>\n",
       "    </tr>\n",
       "    <tr>\n",
       "      <th>max</th>\n",
       "      <td>10000.00000</td>\n",
       "      <td>1.581569e+07</td>\n",
       "      <td>850.000000</td>\n",
       "      <td>92.000000</td>\n",
       "      <td>10.000000</td>\n",
       "      <td>250898.090000</td>\n",
       "      <td>4.000000</td>\n",
       "      <td>1.00000</td>\n",
       "      <td>1.000000</td>\n",
       "      <td>199992.480000</td>\n",
       "      <td>1.000000</td>\n",
       "    </tr>\n",
       "  </tbody>\n",
       "</table>\n",
       "</div>"
      ],
      "text/plain": [
       "         RowNumber    CustomerId   CreditScore           Age       Tenure  \\\n",
       "count  10000.00000  1.000000e+04  10000.000000  10000.000000  9091.000000   \n",
       "mean    5000.50000  1.569094e+07    650.528800     38.921800     4.997690   \n",
       "std     2886.89568  7.193619e+04     96.653299     10.487806     2.894723   \n",
       "min        1.00000  1.556570e+07    350.000000     18.000000     0.000000   \n",
       "25%     2500.75000  1.562853e+07    584.000000     32.000000     2.000000   \n",
       "50%     5000.50000  1.569074e+07    652.000000     37.000000     5.000000   \n",
       "75%     7500.25000  1.575323e+07    718.000000     44.000000     7.000000   \n",
       "max    10000.00000  1.581569e+07    850.000000     92.000000    10.000000   \n",
       "\n",
       "             Balance  NumOfProducts    HasCrCard  IsActiveMember  \\\n",
       "count   10000.000000   10000.000000  10000.00000    10000.000000   \n",
       "mean    76485.889288       1.530200      0.70550        0.515100   \n",
       "std     62397.405202       0.581654      0.45584        0.499797   \n",
       "min         0.000000       1.000000      0.00000        0.000000   \n",
       "25%         0.000000       1.000000      0.00000        0.000000   \n",
       "50%     97198.540000       1.000000      1.00000        1.000000   \n",
       "75%    127644.240000       2.000000      1.00000        1.000000   \n",
       "max    250898.090000       4.000000      1.00000        1.000000   \n",
       "\n",
       "       EstimatedSalary        Exited  \n",
       "count     10000.000000  10000.000000  \n",
       "mean     100090.239881      0.203700  \n",
       "std       57510.492818      0.402769  \n",
       "min          11.580000      0.000000  \n",
       "25%       51002.110000      0.000000  \n",
       "50%      100193.915000      0.000000  \n",
       "75%      149388.247500      0.000000  \n",
       "max      199992.480000      1.000000  "
      ]
     },
     "execution_count": 5,
     "metadata": {},
     "output_type": "execute_result"
    }
   ],
   "source": [
    "data.describe()"
   ]
  },
  {
   "cell_type": "markdown",
   "metadata": {},
   "source": [
    "###### Пропуски присутствуют только в столбце `Tenure`."
   ]
  },
  {
   "cell_type": "markdown",
   "metadata": {},
   "source": [
    "##### Рассмотрим каждый столбец отдельно:"
   ]
  },
  {
   "cell_type": "code",
   "execution_count": 6,
   "metadata": {},
   "outputs": [
    {
     "data": {
      "text/plain": [
       "0"
      ]
     },
     "execution_count": 6,
     "metadata": {},
     "output_type": "execute_result"
    }
   ],
   "source": [
    "data['RowNumber'].duplicated().sum() # Столбец с индексацией. Можно удалить"
   ]
  },
  {
   "cell_type": "code",
   "execution_count": 7,
   "metadata": {},
   "outputs": [],
   "source": [
    "data = data.drop('RowNumber', axis = 1)"
   ]
  },
  {
   "cell_type": "code",
   "execution_count": 8,
   "metadata": {},
   "outputs": [],
   "source": [
    "data = data.drop('CustomerId', axis = 1)\n",
    "# Также удалим"
   ]
  },
  {
   "cell_type": "code",
   "execution_count": 9,
   "metadata": {},
   "outputs": [],
   "source": [
    "data = data.drop('Surname', axis = 1)\n",
    "#этот столбец также не нужен"
   ]
  },
  {
   "cell_type": "code",
   "execution_count": 10,
   "metadata": {},
   "outputs": [],
   "source": [
    "data.rename(columns = {'CreditScore' : 'Credit_score'}, inplace = True)\n",
    "# В данных о кредитном рейтинге также поменяем только название столбца"
   ]
  },
  {
   "cell_type": "code",
   "execution_count": 11,
   "metadata": {},
   "outputs": [
    {
     "data": {
      "text/plain": [
       "France     0.5014\n",
       "Germany    0.2509\n",
       "Spain      0.2477\n",
       "Name: Geography, dtype: float64"
      ]
     },
     "execution_count": 11,
     "metadata": {},
     "output_type": "execute_result"
    }
   ],
   "source": [
    "data['Geography'].value_counts(normalize = True) # Оставим без изменений"
   ]
  },
  {
   "cell_type": "code",
   "execution_count": 12,
   "metadata": {},
   "outputs": [
    {
     "data": {
      "text/plain": [
       "Male      0.5457\n",
       "Female    0.4543\n",
       "Name: Gender, dtype: float64"
      ]
     },
     "execution_count": 12,
     "metadata": {},
     "output_type": "execute_result"
    }
   ],
   "source": [
    "data['Gender'].value_counts(normalize = True)  # Оставим без изменений"
   ]
  },
  {
   "cell_type": "code",
   "execution_count": 13,
   "metadata": {},
   "outputs": [
    {
     "data": {
      "text/plain": [
       "37    0.0478\n",
       "38    0.0477\n",
       "35    0.0474\n",
       "36    0.0456\n",
       "34    0.0447\n",
       "       ...  \n",
       "92    0.0002\n",
       "88    0.0001\n",
       "82    0.0001\n",
       "85    0.0001\n",
       "83    0.0001\n",
       "Name: Age, Length: 70, dtype: float64"
      ]
     },
     "execution_count": 13,
     "metadata": {},
     "output_type": "execute_result"
    }
   ],
   "source": [
    "data['Age'].value_counts(normalize = True)  # Оставим без изменений"
   ]
  },
  {
   "cell_type": "code",
   "execution_count": 14,
   "metadata": {},
   "outputs": [
    {
     "data": {
      "text/plain": [
       "9.09"
      ]
     },
     "execution_count": 14,
     "metadata": {},
     "output_type": "execute_result"
    }
   ],
   "source": [
    "(data['Tenure'].isna().sum() / len(data['Tenure'])) * 100"
   ]
  },
  {
   "cell_type": "code",
   "execution_count": 15,
   "metadata": {},
   "outputs": [
    {
     "data": {
      "text/html": [
       "<div>\n",
       "<style scoped>\n",
       "    .dataframe tbody tr th:only-of-type {\n",
       "        vertical-align: middle;\n",
       "    }\n",
       "\n",
       "    .dataframe tbody tr th {\n",
       "        vertical-align: top;\n",
       "    }\n",
       "\n",
       "    .dataframe thead th {\n",
       "        text-align: right;\n",
       "    }\n",
       "</style>\n",
       "<table border=\"1\" class=\"dataframe\">\n",
       "  <thead>\n",
       "    <tr style=\"text-align: right;\">\n",
       "      <th></th>\n",
       "      <th>Credit_score</th>\n",
       "      <th>Geography</th>\n",
       "      <th>Gender</th>\n",
       "      <th>Age</th>\n",
       "      <th>Tenure</th>\n",
       "      <th>Balance</th>\n",
       "      <th>NumOfProducts</th>\n",
       "      <th>HasCrCard</th>\n",
       "      <th>IsActiveMember</th>\n",
       "      <th>EstimatedSalary</th>\n",
       "      <th>Exited</th>\n",
       "    </tr>\n",
       "  </thead>\n",
       "  <tbody>\n",
       "    <tr>\n",
       "      <th>29</th>\n",
       "      <td>411</td>\n",
       "      <td>France</td>\n",
       "      <td>Male</td>\n",
       "      <td>29</td>\n",
       "      <td>0.0</td>\n",
       "      <td>59697.17</td>\n",
       "      <td>2</td>\n",
       "      <td>1</td>\n",
       "      <td>1</td>\n",
       "      <td>53483.21</td>\n",
       "      <td>0</td>\n",
       "    </tr>\n",
       "    <tr>\n",
       "      <th>35</th>\n",
       "      <td>475</td>\n",
       "      <td>France</td>\n",
       "      <td>Female</td>\n",
       "      <td>45</td>\n",
       "      <td>0.0</td>\n",
       "      <td>134264.04</td>\n",
       "      <td>1</td>\n",
       "      <td>1</td>\n",
       "      <td>0</td>\n",
       "      <td>27822.99</td>\n",
       "      <td>1</td>\n",
       "    </tr>\n",
       "    <tr>\n",
       "      <th>57</th>\n",
       "      <td>725</td>\n",
       "      <td>Germany</td>\n",
       "      <td>Male</td>\n",
       "      <td>19</td>\n",
       "      <td>0.0</td>\n",
       "      <td>75888.20</td>\n",
       "      <td>1</td>\n",
       "      <td>0</td>\n",
       "      <td>0</td>\n",
       "      <td>45613.75</td>\n",
       "      <td>0</td>\n",
       "    </tr>\n",
       "    <tr>\n",
       "      <th>72</th>\n",
       "      <td>657</td>\n",
       "      <td>Spain</td>\n",
       "      <td>Female</td>\n",
       "      <td>37</td>\n",
       "      <td>0.0</td>\n",
       "      <td>163607.18</td>\n",
       "      <td>1</td>\n",
       "      <td>0</td>\n",
       "      <td>1</td>\n",
       "      <td>44203.55</td>\n",
       "      <td>0</td>\n",
       "    </tr>\n",
       "    <tr>\n",
       "      <th>127</th>\n",
       "      <td>625</td>\n",
       "      <td>Germany</td>\n",
       "      <td>Male</td>\n",
       "      <td>56</td>\n",
       "      <td>0.0</td>\n",
       "      <td>148507.24</td>\n",
       "      <td>1</td>\n",
       "      <td>1</td>\n",
       "      <td>0</td>\n",
       "      <td>46824.08</td>\n",
       "      <td>1</td>\n",
       "    </tr>\n",
       "    <tr>\n",
       "      <th>...</th>\n",
       "      <td>...</td>\n",
       "      <td>...</td>\n",
       "      <td>...</td>\n",
       "      <td>...</td>\n",
       "      <td>...</td>\n",
       "      <td>...</td>\n",
       "      <td>...</td>\n",
       "      <td>...</td>\n",
       "      <td>...</td>\n",
       "      <td>...</td>\n",
       "      <td>...</td>\n",
       "    </tr>\n",
       "    <tr>\n",
       "      <th>9793</th>\n",
       "      <td>772</td>\n",
       "      <td>Germany</td>\n",
       "      <td>Female</td>\n",
       "      <td>42</td>\n",
       "      <td>0.0</td>\n",
       "      <td>101979.16</td>\n",
       "      <td>1</td>\n",
       "      <td>1</td>\n",
       "      <td>0</td>\n",
       "      <td>90928.48</td>\n",
       "      <td>0</td>\n",
       "    </tr>\n",
       "    <tr>\n",
       "      <th>9799</th>\n",
       "      <td>653</td>\n",
       "      <td>France</td>\n",
       "      <td>Male</td>\n",
       "      <td>46</td>\n",
       "      <td>0.0</td>\n",
       "      <td>119556.10</td>\n",
       "      <td>1</td>\n",
       "      <td>1</td>\n",
       "      <td>0</td>\n",
       "      <td>78250.13</td>\n",
       "      <td>1</td>\n",
       "    </tr>\n",
       "    <tr>\n",
       "      <th>9843</th>\n",
       "      <td>646</td>\n",
       "      <td>Germany</td>\n",
       "      <td>Male</td>\n",
       "      <td>24</td>\n",
       "      <td>0.0</td>\n",
       "      <td>92398.08</td>\n",
       "      <td>1</td>\n",
       "      <td>1</td>\n",
       "      <td>1</td>\n",
       "      <td>18897.29</td>\n",
       "      <td>0</td>\n",
       "    </tr>\n",
       "    <tr>\n",
       "      <th>9868</th>\n",
       "      <td>718</td>\n",
       "      <td>France</td>\n",
       "      <td>Female</td>\n",
       "      <td>43</td>\n",
       "      <td>0.0</td>\n",
       "      <td>93143.39</td>\n",
       "      <td>1</td>\n",
       "      <td>1</td>\n",
       "      <td>0</td>\n",
       "      <td>167554.86</td>\n",
       "      <td>0</td>\n",
       "    </tr>\n",
       "    <tr>\n",
       "      <th>9919</th>\n",
       "      <td>688</td>\n",
       "      <td>France</td>\n",
       "      <td>Male</td>\n",
       "      <td>26</td>\n",
       "      <td>0.0</td>\n",
       "      <td>0.00</td>\n",
       "      <td>2</td>\n",
       "      <td>1</td>\n",
       "      <td>0</td>\n",
       "      <td>105784.85</td>\n",
       "      <td>0</td>\n",
       "    </tr>\n",
       "  </tbody>\n",
       "</table>\n",
       "<p>382 rows × 11 columns</p>\n",
       "</div>"
      ],
      "text/plain": [
       "      Credit_score Geography  Gender  Age  Tenure    Balance  NumOfProducts  \\\n",
       "29             411    France    Male   29     0.0   59697.17              2   \n",
       "35             475    France  Female   45     0.0  134264.04              1   \n",
       "57             725   Germany    Male   19     0.0   75888.20              1   \n",
       "72             657     Spain  Female   37     0.0  163607.18              1   \n",
       "127            625   Germany    Male   56     0.0  148507.24              1   \n",
       "...            ...       ...     ...  ...     ...        ...            ...   \n",
       "9793           772   Germany  Female   42     0.0  101979.16              1   \n",
       "9799           653    France    Male   46     0.0  119556.10              1   \n",
       "9843           646   Germany    Male   24     0.0   92398.08              1   \n",
       "9868           718    France  Female   43     0.0   93143.39              1   \n",
       "9919           688    France    Male   26     0.0       0.00              2   \n",
       "\n",
       "      HasCrCard  IsActiveMember  EstimatedSalary  Exited  \n",
       "29            1               1         53483.21       0  \n",
       "35            1               0         27822.99       1  \n",
       "57            0               0         45613.75       0  \n",
       "72            0               1         44203.55       0  \n",
       "127           1               0         46824.08       1  \n",
       "...         ...             ...              ...     ...  \n",
       "9793          1               0         90928.48       0  \n",
       "9799          1               0         78250.13       1  \n",
       "9843          1               1         18897.29       0  \n",
       "9868          1               0        167554.86       0  \n",
       "9919          1               0        105784.85       0  \n",
       "\n",
       "[382 rows x 11 columns]"
      ]
     },
     "execution_count": 15,
     "metadata": {},
     "output_type": "execute_result"
    }
   ],
   "source": [
    "data.loc[data['Tenure'] == 0]"
   ]
  },
  {
   "cell_type": "markdown",
   "metadata": {},
   "source": [
    "###### В столбце с информацией о том, сколько лет человек является клиентом банка, присутствует около 9% пропусков. Вероятнее всего это ошибка. Заменим их медианным значением."
   ]
  },
  {
   "cell_type": "code",
   "execution_count": 16,
   "metadata": {},
   "outputs": [],
   "source": [
    "data['Tenure'] = data['Tenure'].fillna(data['Tenure'].median())"
   ]
  },
  {
   "cell_type": "code",
   "execution_count": 17,
   "metadata": {},
   "outputs": [],
   "source": [
    "data['Tenure'] = data['Tenure'].astype(int) # поменяем формат"
   ]
  },
  {
   "cell_type": "code",
   "execution_count": 18,
   "metadata": {},
   "outputs": [
    {
     "data": {
      "text/plain": [
       "0.00         0.3617\n",
       "105473.74    0.0002\n",
       "130170.82    0.0002\n",
       "72594.00     0.0001\n",
       "139723.90    0.0001\n",
       "              ...  \n",
       "130306.49    0.0001\n",
       "92895.56     0.0001\n",
       "132005.77    0.0001\n",
       "166287.85    0.0001\n",
       "104001.38    0.0001\n",
       "Name: Balance, Length: 6382, dtype: float64"
      ]
     },
     "execution_count": 18,
     "metadata": {},
     "output_type": "execute_result"
    }
   ],
   "source": [
    "data['Balance'].value_counts(normalize = True) # ~36% клиентов имеют нулевой баланс"
   ]
  },
  {
   "cell_type": "code",
   "execution_count": 19,
   "metadata": {},
   "outputs": [
    {
     "data": {
      "text/plain": [
       "1    0.5084\n",
       "2    0.4590\n",
       "3    0.0266\n",
       "4    0.0060\n",
       "Name: NumOfProducts, dtype: float64"
      ]
     },
     "execution_count": 19,
     "metadata": {},
     "output_type": "execute_result"
    }
   ],
   "source": [
    "data['NumOfProducts'].value_counts(normalize = True) # Чуть больше половины клиентов используют только 1 продукт в банке"
   ]
  },
  {
   "cell_type": "code",
   "execution_count": 20,
   "metadata": {},
   "outputs": [],
   "source": [
    "data.rename(columns = {'NumOfProducts' : 'Num_of_products'}, inplace = True) # поменяем имя столбца"
   ]
  },
  {
   "cell_type": "code",
   "execution_count": 21,
   "metadata": {},
   "outputs": [
    {
     "data": {
      "text/plain": [
       "1    0.7055\n",
       "0    0.2945\n",
       "Name: HasCrCard, dtype: float64"
      ]
     },
     "execution_count": 21,
     "metadata": {},
     "output_type": "execute_result"
    }
   ],
   "source": [
    "data['HasCrCard'].value_counts(normalize = True)"
   ]
  },
  {
   "cell_type": "code",
   "execution_count": 22,
   "metadata": {},
   "outputs": [],
   "source": [
    "data.rename(columns = {'HasCrCard' : 'Has_сredit_сard'}, inplace = True) # поменяем имя столбца"
   ]
  },
  {
   "cell_type": "code",
   "execution_count": 23,
   "metadata": {},
   "outputs": [
    {
     "data": {
      "text/plain": [
       "1    0.5151\n",
       "0    0.4849\n",
       "Name: IsActiveMember, dtype: float64"
      ]
     },
     "execution_count": 23,
     "metadata": {},
     "output_type": "execute_result"
    }
   ],
   "source": [
    "data['IsActiveMember'].value_counts(normalize = True)"
   ]
  },
  {
   "cell_type": "code",
   "execution_count": 24,
   "metadata": {},
   "outputs": [],
   "source": [
    "data.rename(columns = {'IsActiveMember' : 'Is_active_member'}, inplace = True) # поменяем имя столбцов\n",
    "data.rename(columns = {'EstimatedSalary' : 'Estimated_salary'}, inplace = True)"
   ]
  },
  {
   "cell_type": "code",
   "execution_count": 25,
   "metadata": {},
   "outputs": [
    {
     "data": {
      "text/plain": [
       "0    0.7963\n",
       "1    0.2037\n",
       "Name: Exited, dtype: float64"
      ]
     },
     "execution_count": 25,
     "metadata": {},
     "output_type": "execute_result"
    }
   ],
   "source": [
    "data['Exited'].value_counts(normalize = True) # всего из банка ушло ~20% клиентов"
   ]
  },
  {
   "cell_type": "markdown",
   "metadata": {},
   "source": [
    "#### Преобразуем категориальные признаки в численные:"
   ]
  },
  {
   "cell_type": "code",
   "execution_count": 26,
   "metadata": {},
   "outputs": [],
   "source": [
    "data = pd.get_dummies(data, drop_first=True)"
   ]
  },
  {
   "cell_type": "code",
   "execution_count": 27,
   "metadata": {
    "scrolled": false
   },
   "outputs": [
    {
     "data": {
      "text/html": [
       "<div>\n",
       "<style scoped>\n",
       "    .dataframe tbody tr th:only-of-type {\n",
       "        vertical-align: middle;\n",
       "    }\n",
       "\n",
       "    .dataframe tbody tr th {\n",
       "        vertical-align: top;\n",
       "    }\n",
       "\n",
       "    .dataframe thead th {\n",
       "        text-align: right;\n",
       "    }\n",
       "</style>\n",
       "<table border=\"1\" class=\"dataframe\">\n",
       "  <thead>\n",
       "    <tr style=\"text-align: right;\">\n",
       "      <th></th>\n",
       "      <th>Credit_score</th>\n",
       "      <th>Age</th>\n",
       "      <th>Tenure</th>\n",
       "      <th>Balance</th>\n",
       "      <th>Num_of_products</th>\n",
       "      <th>Has_сredit_сard</th>\n",
       "      <th>Is_active_member</th>\n",
       "      <th>Estimated_salary</th>\n",
       "      <th>Exited</th>\n",
       "      <th>Geography_Germany</th>\n",
       "      <th>Geography_Spain</th>\n",
       "      <th>Gender_Male</th>\n",
       "    </tr>\n",
       "  </thead>\n",
       "  <tbody>\n",
       "    <tr>\n",
       "      <th>0</th>\n",
       "      <td>619</td>\n",
       "      <td>42</td>\n",
       "      <td>2</td>\n",
       "      <td>0.00</td>\n",
       "      <td>1</td>\n",
       "      <td>1</td>\n",
       "      <td>1</td>\n",
       "      <td>101348.88</td>\n",
       "      <td>1</td>\n",
       "      <td>0</td>\n",
       "      <td>0</td>\n",
       "      <td>0</td>\n",
       "    </tr>\n",
       "    <tr>\n",
       "      <th>1</th>\n",
       "      <td>608</td>\n",
       "      <td>41</td>\n",
       "      <td>1</td>\n",
       "      <td>83807.86</td>\n",
       "      <td>1</td>\n",
       "      <td>0</td>\n",
       "      <td>1</td>\n",
       "      <td>112542.58</td>\n",
       "      <td>0</td>\n",
       "      <td>0</td>\n",
       "      <td>1</td>\n",
       "      <td>0</td>\n",
       "    </tr>\n",
       "    <tr>\n",
       "      <th>2</th>\n",
       "      <td>502</td>\n",
       "      <td>42</td>\n",
       "      <td>8</td>\n",
       "      <td>159660.80</td>\n",
       "      <td>3</td>\n",
       "      <td>1</td>\n",
       "      <td>0</td>\n",
       "      <td>113931.57</td>\n",
       "      <td>1</td>\n",
       "      <td>0</td>\n",
       "      <td>0</td>\n",
       "      <td>0</td>\n",
       "    </tr>\n",
       "    <tr>\n",
       "      <th>3</th>\n",
       "      <td>699</td>\n",
       "      <td>39</td>\n",
       "      <td>1</td>\n",
       "      <td>0.00</td>\n",
       "      <td>2</td>\n",
       "      <td>0</td>\n",
       "      <td>0</td>\n",
       "      <td>93826.63</td>\n",
       "      <td>0</td>\n",
       "      <td>0</td>\n",
       "      <td>0</td>\n",
       "      <td>0</td>\n",
       "    </tr>\n",
       "    <tr>\n",
       "      <th>4</th>\n",
       "      <td>850</td>\n",
       "      <td>43</td>\n",
       "      <td>2</td>\n",
       "      <td>125510.82</td>\n",
       "      <td>1</td>\n",
       "      <td>1</td>\n",
       "      <td>1</td>\n",
       "      <td>79084.10</td>\n",
       "      <td>0</td>\n",
       "      <td>0</td>\n",
       "      <td>1</td>\n",
       "      <td>0</td>\n",
       "    </tr>\n",
       "    <tr>\n",
       "      <th>...</th>\n",
       "      <td>...</td>\n",
       "      <td>...</td>\n",
       "      <td>...</td>\n",
       "      <td>...</td>\n",
       "      <td>...</td>\n",
       "      <td>...</td>\n",
       "      <td>...</td>\n",
       "      <td>...</td>\n",
       "      <td>...</td>\n",
       "      <td>...</td>\n",
       "      <td>...</td>\n",
       "      <td>...</td>\n",
       "    </tr>\n",
       "    <tr>\n",
       "      <th>9995</th>\n",
       "      <td>771</td>\n",
       "      <td>39</td>\n",
       "      <td>5</td>\n",
       "      <td>0.00</td>\n",
       "      <td>2</td>\n",
       "      <td>1</td>\n",
       "      <td>0</td>\n",
       "      <td>96270.64</td>\n",
       "      <td>0</td>\n",
       "      <td>0</td>\n",
       "      <td>0</td>\n",
       "      <td>1</td>\n",
       "    </tr>\n",
       "    <tr>\n",
       "      <th>9996</th>\n",
       "      <td>516</td>\n",
       "      <td>35</td>\n",
       "      <td>10</td>\n",
       "      <td>57369.61</td>\n",
       "      <td>1</td>\n",
       "      <td>1</td>\n",
       "      <td>1</td>\n",
       "      <td>101699.77</td>\n",
       "      <td>0</td>\n",
       "      <td>0</td>\n",
       "      <td>0</td>\n",
       "      <td>1</td>\n",
       "    </tr>\n",
       "    <tr>\n",
       "      <th>9997</th>\n",
       "      <td>709</td>\n",
       "      <td>36</td>\n",
       "      <td>7</td>\n",
       "      <td>0.00</td>\n",
       "      <td>1</td>\n",
       "      <td>0</td>\n",
       "      <td>1</td>\n",
       "      <td>42085.58</td>\n",
       "      <td>1</td>\n",
       "      <td>0</td>\n",
       "      <td>0</td>\n",
       "      <td>0</td>\n",
       "    </tr>\n",
       "    <tr>\n",
       "      <th>9998</th>\n",
       "      <td>772</td>\n",
       "      <td>42</td>\n",
       "      <td>3</td>\n",
       "      <td>75075.31</td>\n",
       "      <td>2</td>\n",
       "      <td>1</td>\n",
       "      <td>0</td>\n",
       "      <td>92888.52</td>\n",
       "      <td>1</td>\n",
       "      <td>1</td>\n",
       "      <td>0</td>\n",
       "      <td>1</td>\n",
       "    </tr>\n",
       "    <tr>\n",
       "      <th>9999</th>\n",
       "      <td>792</td>\n",
       "      <td>28</td>\n",
       "      <td>5</td>\n",
       "      <td>130142.79</td>\n",
       "      <td>1</td>\n",
       "      <td>1</td>\n",
       "      <td>0</td>\n",
       "      <td>38190.78</td>\n",
       "      <td>0</td>\n",
       "      <td>0</td>\n",
       "      <td>0</td>\n",
       "      <td>0</td>\n",
       "    </tr>\n",
       "  </tbody>\n",
       "</table>\n",
       "<p>10000 rows × 12 columns</p>\n",
       "</div>"
      ],
      "text/plain": [
       "      Credit_score  Age  Tenure    Balance  Num_of_products  Has_сredit_сard  \\\n",
       "0              619   42       2       0.00                1                1   \n",
       "1              608   41       1   83807.86                1                0   \n",
       "2              502   42       8  159660.80                3                1   \n",
       "3              699   39       1       0.00                2                0   \n",
       "4              850   43       2  125510.82                1                1   \n",
       "...            ...  ...     ...        ...              ...              ...   \n",
       "9995           771   39       5       0.00                2                1   \n",
       "9996           516   35      10   57369.61                1                1   \n",
       "9997           709   36       7       0.00                1                0   \n",
       "9998           772   42       3   75075.31                2                1   \n",
       "9999           792   28       5  130142.79                1                1   \n",
       "\n",
       "      Is_active_member  Estimated_salary  Exited  Geography_Germany  \\\n",
       "0                    1         101348.88       1                  0   \n",
       "1                    1         112542.58       0                  0   \n",
       "2                    0         113931.57       1                  0   \n",
       "3                    0          93826.63       0                  0   \n",
       "4                    1          79084.10       0                  0   \n",
       "...                ...               ...     ...                ...   \n",
       "9995                 0          96270.64       0                  0   \n",
       "9996                 1         101699.77       0                  0   \n",
       "9997                 1          42085.58       1                  0   \n",
       "9998                 0          92888.52       1                  1   \n",
       "9999                 0          38190.78       0                  0   \n",
       "\n",
       "      Geography_Spain  Gender_Male  \n",
       "0                   0            0  \n",
       "1                   1            0  \n",
       "2                   0            0  \n",
       "3                   0            0  \n",
       "4                   1            0  \n",
       "...               ...          ...  \n",
       "9995                0            1  \n",
       "9996                0            1  \n",
       "9997                0            0  \n",
       "9998                0            1  \n",
       "9999                0            0  \n",
       "\n",
       "[10000 rows x 12 columns]"
      ]
     },
     "execution_count": 27,
     "metadata": {},
     "output_type": "execute_result"
    }
   ],
   "source": [
    "data"
   ]
  },
  {
   "cell_type": "markdown",
   "metadata": {},
   "source": [
    "### Информация о предобработке данных:"
   ]
  },
  {
   "cell_type": "markdown",
   "metadata": {},
   "source": [
    "- Был удален столбец с индексацией (`RowNumber`) и столбец с фамилиями (`Surname`) \n",
    "- В столбце с информацией о продолжительности пользования клиентом услугами банка в годах (`Tenure`), выявлены и заменены медианными значениями по столбцу 909 пропусков (9%)\n",
    "- Названия некоторых столбцов были заменены на более читаемые\n",
    "- Преобразовали категориальные признаки в численные"
   ]
  },
  {
   "cell_type": "markdown",
   "metadata": {},
   "source": [
    "## Исследование задачи"
   ]
  },
  {
   "cell_type": "markdown",
   "metadata": {},
   "source": [
    "#### Разделим данные на обучающую, валидационную и тестовую выборки"
   ]
  },
  {
   "cell_type": "code",
   "execution_count": 28,
   "metadata": {},
   "outputs": [
    {
     "name": "stdout",
     "output_type": "stream",
     "text": [
      "Размер обучающей выборки: 60.0 %\n",
      "Размер валидационной выборки: 20.0 %\n",
      "Размер тестовой выборки: 20.0 %\n"
     ]
    }
   ],
   "source": [
    "data_train, data_test = train_test_split(data, test_size = 0.4, random_state=12345) \n",
    "data_test, data_valid = train_test_split(data_test, test_size = 0.5, random_state=12345)\n",
    "print('Размер обучающей выборки:', data_train.shape[0] /len(data) * 100,'%')\n",
    "print('Размер валидационной выборки:', data_valid.shape[0] /len(data)* 100,'%')\n",
    "print('Размер тестовой выборки:', data_test.shape[0] /len(data)* 100,'%')"
   ]
  },
  {
   "cell_type": "markdown",
   "metadata": {},
   "source": [
    "#### Присвоим признаки и целевой признак"
   ]
  },
  {
   "cell_type": "code",
   "execution_count": 29,
   "metadata": {},
   "outputs": [],
   "source": [
    "features = data.drop(['Exited'], axis = 1)\n",
    "target = data['Exited']\n",
    "\n",
    "features_train = data_train.drop(['Exited'], axis = 1)\n",
    "target_train = data_train['Exited']\n",
    "\n",
    "features_valid = data_valid.drop(['Exited'], axis = 1)\n",
    "target_valid = data_valid['Exited']\n",
    "\n",
    "features_test = data_test.drop(['Exited'], axis = 1)\n",
    "target_test = data_test['Exited'] "
   ]
  },
  {
   "cell_type": "markdown",
   "metadata": {},
   "source": [
    "#### Проверим данные на дисбаланс:"
   ]
  },
  {
   "cell_type": "code",
   "execution_count": 30,
   "metadata": {},
   "outputs": [
    {
     "data": {
      "text/plain": [
       "((7963, 11), (2037, 11))"
      ]
     },
     "execution_count": 30,
     "metadata": {},
     "output_type": "execute_result"
    }
   ],
   "source": [
    "features[target == 0].shape, features[target == 1].shape"
   ]
  },
  {
   "cell_type": "markdown",
   "metadata": {},
   "source": [
    "### Используем аргумент `class_weight` для балансировки классов:"
   ]
  },
  {
   "cell_type": "markdown",
   "metadata": {},
   "source": [
    "#### RandomForestClassifier(`class_weight`)"
   ]
  },
  {
   "cell_type": "code",
   "execution_count": 35,
   "metadata": {
    "scrolled": true
   },
   "outputs": [
    {
     "name": "stdout",
     "output_type": "stream",
     "text": [
      "n_estimators =  1 : 0.724\n",
      "n_estimators =  1 : 0.724\n",
      "n_estimators =  1 : 0.72\n",
      "n_estimators =  1 : 0.7135\n",
      "n_estimators =  1 : 0.705\n",
      "n_estimators =  1 : 0.6895\n",
      "n_estimators =  1 : 0.7015\n",
      "n_estimators =  1 : 0.728\n",
      "n_estimators =  1 : 0.703\n",
      "n_estimators =  1 : 0.704\n",
      "n_estimators =  6 : 0.8185\n",
      "n_estimators =  6 : 0.8185\n",
      "n_estimators =  6 : 0.8115\n",
      "n_estimators =  6 : 0.8105\n",
      "n_estimators =  6 : 0.805\n",
      "n_estimators =  6 : 0.801\n",
      "n_estimators =  6 : 0.804\n",
      "n_estimators =  6 : 0.8035\n",
      "n_estimators =  6 : 0.818\n",
      "n_estimators =  6 : 0.798\n",
      "n_estimators =  11 : 0.8345\n",
      "n_estimators =  11 : 0.8345\n",
      "n_estimators =  11 : 0.8215\n",
      "n_estimators =  11 : 0.8135\n",
      "n_estimators =  11 : 0.8165\n",
      "n_estimators =  11 : 0.8165\n",
      "n_estimators =  11 : 0.8115\n",
      "n_estimators =  11 : 0.816\n",
      "n_estimators =  11 : 0.8155\n",
      "n_estimators =  11 : 0.8085\n",
      "n_estimators =  16 : 0.832\n",
      "n_estimators =  16 : 0.832\n",
      "n_estimators =  16 : 0.8225\n",
      "n_estimators =  16 : 0.826\n",
      "n_estimators =  16 : 0.8245\n",
      "n_estimators =  16 : 0.8185\n",
      "n_estimators =  16 : 0.8115\n",
      "n_estimators =  16 : 0.8165\n",
      "n_estimators =  16 : 0.8125\n",
      "n_estimators =  16 : 0.816\n",
      "n_estimators =  21 : 0.835\n",
      "n_estimators =  21 : 0.835\n",
      "n_estimators =  21 : 0.8275\n",
      "n_estimators =  21 : 0.8295\n",
      "n_estimators =  21 : 0.8215\n",
      "n_estimators =  21 : 0.816\n",
      "n_estimators =  21 : 0.8095\n",
      "n_estimators =  21 : 0.819\n",
      "n_estimators =  21 : 0.813\n",
      "n_estimators =  21 : 0.816\n",
      "n_estimators =  26 : 0.8355\n",
      "n_estimators =  26 : 0.8355\n",
      "n_estimators =  26 : 0.833\n",
      "n_estimators =  26 : 0.834\n",
      "n_estimators =  26 : 0.8235\n",
      "n_estimators =  26 : 0.8185\n",
      "n_estimators =  26 : 0.815\n",
      "n_estimators =  26 : 0.8185\n",
      "n_estimators =  26 : 0.818\n",
      "n_estimators =  26 : 0.815\n",
      "n_estimators =  31 : 0.845\n",
      "n_estimators =  31 : 0.845\n",
      "n_estimators =  31 : 0.8345\n",
      "n_estimators =  31 : 0.8295\n",
      "n_estimators =  31 : 0.8215\n",
      "n_estimators =  31 : 0.8215\n",
      "n_estimators =  31 : 0.8175\n",
      "n_estimators =  31 : 0.82\n",
      "n_estimators =  31 : 0.817\n",
      "n_estimators =  31 : 0.817\n",
      "n_estimators =  36 : 0.8485\n",
      "n_estimators =  36 : 0.8485\n",
      "n_estimators =  36 : 0.833\n",
      "n_estimators =  36 : 0.8325\n",
      "n_estimators =  36 : 0.823\n",
      "n_estimators =  36 : 0.822\n",
      "n_estimators =  36 : 0.8185\n",
      "n_estimators =  36 : 0.8225\n",
      "n_estimators =  36 : 0.8195\n",
      "n_estimators =  36 : 0.82\n",
      "n_estimators =  41 : 0.846\n",
      "n_estimators =  41 : 0.846\n",
      "n_estimators =  41 : 0.8375\n",
      "n_estimators =  41 : 0.83\n",
      "n_estimators =  41 : 0.828\n",
      "n_estimators =  41 : 0.8215\n",
      "n_estimators =  41 : 0.824\n",
      "n_estimators =  41 : 0.822\n",
      "n_estimators =  41 : 0.8235\n",
      "n_estimators =  41 : 0.8205\n",
      "n_estimators =  46 : 0.845\n",
      "n_estimators =  46 : 0.845\n",
      "n_estimators =  46 : 0.841\n",
      "n_estimators =  46 : 0.8335\n",
      "n_estimators =  46 : 0.8255\n",
      "n_estimators =  46 : 0.8235\n",
      "n_estimators =  46 : 0.8205\n",
      "n_estimators =  46 : 0.822\n",
      "n_estimators =  46 : 0.824\n",
      "n_estimators =  46 : 0.8195\n",
      "Лучшая модель: RandomForestClassifier(class_weight='balanced', max_depth=15,\n",
      "                       min_samples_leaf=4, n_estimators=36, random_state=12345)\n",
      "Accuracy: 0.8485\n",
      "F1-мера: 0.6266804550155118\n",
      "Roc_auc: 0.8587376755997488\n",
      "Матрица ошибок:\n",
      "[[1336  241]\n",
      " [ 120  303]]\n"
     ]
    }
   ],
   "source": [
    "best_model_RF = None\n",
    "best_result = 0\n",
    "for est in range(1,51, 5):\n",
    "    for samples_split in range(2,50,5):\n",
    "        model_RF = RandomForestClassifier(random_state = 12345,max_depth = 15, n_estimators = est, min_samples_split= samples_split,  min_samples_leaf = 4, class_weight = 'balanced') \n",
    "        model_RF.fit(features_train, target_train) \n",
    "        predictions_RF = model_RF.predict(features_valid)\n",
    "        result = model_RF.score(features_valid, target_valid) \n",
    "        probabilities_valid = model_RF.predict_proba(features_valid)\n",
    "        probabilities_valid_1 = probabilities_valid[:, 1]\n",
    "        if result > best_result:\n",
    "            best_model_RF =  model_RF         \n",
    "            best_result = result       \n",
    "        print('n_estimators = ', est, ':', result)\n",
    "print('Лучшая модель:', best_model_RF)\n",
    "print('Accuracy:', best_result)\n",
    "print('F1-мера:', f1_score(target_valid, predictions_RF))\n",
    "print('Roc_auc:', roc_auc_score(target_valid, probabilities_valid_1))\n",
    "print('Матрица ошибок:')\n",
    "print(confusion_matrix(target_valid, predictions_RF))"
   ]
  },
  {
   "cell_type": "markdown",
   "metadata": {},
   "source": [
    "### Результаты:"
   ]
  },
  {
   "cell_type": "markdown",
   "metadata": {},
   "source": [
    "\n",
    "- RandomForestClassifier:\n",
    "-  сlass_weight:\n",
    " - `Accuracy: 0.8485`\n",
    " - `F1-мера: 0.6266804550155118`\n",
    " - `Roc_auc: 0.8587376755997488`\n",
    " \n"
   ]
  },
  {
   "cell_type": "markdown",
   "metadata": {},
   "source": [
    "### Проверим эту модель на тестовой выборке"
   ]
  },
  {
   "cell_type": "markdown",
   "metadata": {},
   "source": [
    "## Тестирование модели"
   ]
  },
  {
   "cell_type": "code",
   "execution_count": 47,
   "metadata": {},
   "outputs": [
    {
     "name": "stdout",
     "output_type": "stream",
     "text": [
      "RandomForestClassifier accuracy = 0.8415\n",
      "F1-мера: 0.6203592814371257\n",
      "Roc_auc: 0.8501200708932427\n"
     ]
    }
   ],
   "source": [
    "predictions_RF = best_model_RF.predict(features_test)\n",
    "accuracy = accuracy_score(target_test, predictions_RF)\n",
    "probabilities_test = model_RF.predict_proba(features_test)\n",
    "probabilities_test_1 = probabilities_test[:, 1]\n",
    "print('RandomForestClassifier accuracy =', accuracy)\n",
    "print('F1-мера:', f1_score(target_test, predictions_RF))\n",
    "print('Roc_auc:', roc_auc_score(target_test, probabilities_test_1))"
   ]
  },
  {
   "cell_type": "markdown",
   "metadata": {},
   "source": [
    "### Проверим модель на адекватность:"
   ]
  },
  {
   "cell_type": "code",
   "execution_count": 48,
   "metadata": {},
   "outputs": [
    {
     "name": "stdout",
     "output_type": "stream",
     "text": [
      "Качество случайной модели: 0.4935\n",
      "F1-мера: 0.2911126662001399\n",
      "Roc_auc: 0.5\n"
     ]
    }
   ],
   "source": [
    "model_DUM = DummyClassifier(strategy='uniform', random_state=12345)\n",
    "model_DUM.fit(features_train, target_train)\n",
    "predictions_DUM = model_DUM.predict(features_test)\n",
    "score_DUM = accuracy_score(target_test, predictions_DUM)\n",
    "probabilities_test = model_DUM.predict_proba(features_test)\n",
    "probabilities_test_1 = probabilities_test[:, 1]\n",
    "print('Качество случайной модели:', score_DUM)\n",
    "print('F1-мера:', f1_score(target_test, predictions_DUM))\n",
    "print('Roc_auc:', roc_auc_score(target_test, probabilities_test_1))"
   ]
  },
  {
   "cell_type": "markdown",
   "metadata": {},
   "source": [
    "###### Модель можно считать адекватной"
   ]
  },
  {
   "cell_type": "markdown",
   "metadata": {},
   "source": [
    "## Вывод:\n",
    "\n",
    "###### По результатом тестов, лучший результат показала модель ` RandomForestClassifier` c аргументами (class_weight='balanced',max_depth=15,min_samples_leaf=3, min_samples_split=10, n_estimators=48, random_state=12345).\n",
    " #### Были получены слудующие результаты:\n",
    "- Валидационная выборка:\n",
    " - Accuracy: 0.8485\n",
    " - F1-мера: 0.6266804550155118\n",
    " - Roc_auc: 0.8587376755997488\n",
    "- Тестовая выборка:\n",
    " - Accuracy = 0.8415\n",
    " - F1-мера: 0.6203592814371257\n",
    " - Roc_auc: 0.8501200708932427\n",
    " \n",
    "###### Также, модель была проверена на адекватность с помощью `DummyClassifier`:\n",
    "- Accuracy: 0.4935\n",
    "- F1-мера: 0.2911126662001399\n",
    "- Roc_auc: 0.5"
   ]
  },
  {
   "cell_type": "markdown",
   "metadata": {},
   "source": [
    "### Ссылка на репозиторий:\n",
    "https://github.com/SayonaraFart/Supervised-learning-"
   ]
  }
 ],
 "metadata": {
  "ExecuteTimeLog": [
   {
    "duration": 409,
    "start_time": "2022-09-27T21:46:40.334Z"
   },
   {
    "duration": 83,
    "start_time": "2022-09-27T21:46:54.603Z"
   },
   {
    "duration": 29,
    "start_time": "2022-09-27T21:46:58.665Z"
   },
   {
    "duration": 6,
    "start_time": "2022-09-27T21:48:38.242Z"
   },
   {
    "duration": 21,
    "start_time": "2022-09-27T21:49:02.718Z"
   },
   {
    "duration": 9,
    "start_time": "2022-09-27T21:49:17.438Z"
   },
   {
    "duration": 13,
    "start_time": "2022-09-27T21:50:10.619Z"
   },
   {
    "duration": 14,
    "start_time": "2022-09-27T21:50:16.748Z"
   },
   {
    "duration": 23,
    "start_time": "2022-09-27T21:50:47.841Z"
   },
   {
    "duration": 407,
    "start_time": "2022-09-27T21:51:38.134Z"
   },
   {
    "duration": 41,
    "start_time": "2022-09-27T21:51:38.543Z"
   },
   {
    "duration": 13,
    "start_time": "2022-09-27T21:51:38.585Z"
   },
   {
    "duration": 20,
    "start_time": "2022-09-27T21:51:38.599Z"
   },
   {
    "duration": 2,
    "start_time": "2022-09-27T21:53:20.832Z"
   },
   {
    "duration": 6,
    "start_time": "2022-09-27T21:54:05.232Z"
   },
   {
    "duration": 7,
    "start_time": "2022-09-27T21:54:15.156Z"
   },
   {
    "duration": 7,
    "start_time": "2022-09-27T21:55:18.936Z"
   },
   {
    "duration": 74,
    "start_time": "2022-09-27T21:55:33.415Z"
   },
   {
    "duration": 5,
    "start_time": "2022-09-27T21:55:41.273Z"
   },
   {
    "duration": 22,
    "start_time": "2022-09-27T21:55:43.984Z"
   },
   {
    "duration": 5,
    "start_time": "2022-09-27T21:56:33.494Z"
   },
   {
    "duration": 60,
    "start_time": "2022-09-27T21:57:44.073Z"
   },
   {
    "duration": 7,
    "start_time": "2022-09-27T21:57:51.329Z"
   },
   {
    "duration": 7,
    "start_time": "2022-09-27T21:57:56.168Z"
   },
   {
    "duration": 6,
    "start_time": "2022-09-27T21:58:06.705Z"
   },
   {
    "duration": 10,
    "start_time": "2022-09-27T21:58:06.985Z"
   },
   {
    "duration": 4,
    "start_time": "2022-09-27T21:58:19.290Z"
   },
   {
    "duration": 5,
    "start_time": "2022-09-27T21:58:25.339Z"
   },
   {
    "duration": 865,
    "start_time": "2022-09-27T21:58:33.433Z"
   },
   {
    "duration": 427,
    "start_time": "2022-09-27T21:58:42.630Z"
   },
   {
    "duration": 40,
    "start_time": "2022-09-27T21:58:43.059Z"
   },
   {
    "duration": 13,
    "start_time": "2022-09-27T21:58:43.101Z"
   },
   {
    "duration": 19,
    "start_time": "2022-09-27T21:58:43.116Z"
   },
   {
    "duration": 4,
    "start_time": "2022-09-27T21:58:43.137Z"
   },
   {
    "duration": 14,
    "start_time": "2022-09-27T21:58:43.142Z"
   },
   {
    "duration": 22,
    "start_time": "2022-09-27T21:58:43.157Z"
   },
   {
    "duration": 10,
    "start_time": "2022-09-27T21:58:43.180Z"
   },
   {
    "duration": 6,
    "start_time": "2022-09-27T22:00:21.777Z"
   },
   {
    "duration": 5,
    "start_time": "2022-09-27T22:00:59.227Z"
   },
   {
    "duration": 4,
    "start_time": "2022-09-27T22:02:17.755Z"
   },
   {
    "duration": 2,
    "start_time": "2022-09-27T22:02:21.296Z"
   },
   {
    "duration": 65,
    "start_time": "2022-09-27T22:02:24.619Z"
   },
   {
    "duration": 7,
    "start_time": "2022-09-27T22:02:28.859Z"
   },
   {
    "duration": 9,
    "start_time": "2022-09-27T22:02:32.649Z"
   },
   {
    "duration": 436,
    "start_time": "2022-09-27T22:02:36.452Z"
   },
   {
    "duration": 48,
    "start_time": "2022-09-27T22:02:36.891Z"
   },
   {
    "duration": 15,
    "start_time": "2022-09-27T22:02:36.941Z"
   },
   {
    "duration": 36,
    "start_time": "2022-09-27T22:02:36.958Z"
   },
   {
    "duration": 7,
    "start_time": "2022-09-27T22:02:36.997Z"
   },
   {
    "duration": 26,
    "start_time": "2022-09-27T22:02:37.005Z"
   },
   {
    "duration": 15,
    "start_time": "2022-09-27T22:02:37.033Z"
   },
   {
    "duration": 20,
    "start_time": "2022-09-27T22:02:37.049Z"
   },
   {
    "duration": 14,
    "start_time": "2022-09-27T22:02:37.071Z"
   },
   {
    "duration": 3,
    "start_time": "2022-09-27T22:02:49.655Z"
   },
   {
    "duration": 373,
    "start_time": "2022-09-27T22:02:52.810Z"
   },
   {
    "duration": 41,
    "start_time": "2022-09-27T22:02:53.185Z"
   },
   {
    "duration": 14,
    "start_time": "2022-09-27T22:02:53.228Z"
   },
   {
    "duration": 31,
    "start_time": "2022-09-27T22:02:53.244Z"
   },
   {
    "duration": 6,
    "start_time": "2022-09-27T22:02:53.277Z"
   },
   {
    "duration": 14,
    "start_time": "2022-09-27T22:02:53.285Z"
   },
   {
    "duration": 7,
    "start_time": "2022-09-27T22:02:53.300Z"
   },
   {
    "duration": 23,
    "start_time": "2022-09-27T22:02:53.309Z"
   },
   {
    "duration": 62,
    "start_time": "2022-09-27T22:04:26.815Z"
   },
   {
    "duration": 4,
    "start_time": "2022-09-27T22:04:33.129Z"
   },
   {
    "duration": 3,
    "start_time": "2022-09-27T22:04:34.969Z"
   },
   {
    "duration": 407,
    "start_time": "2022-09-27T22:04:40.872Z"
   },
   {
    "duration": 42,
    "start_time": "2022-09-27T22:04:41.281Z"
   },
   {
    "duration": 14,
    "start_time": "2022-09-27T22:04:41.325Z"
   },
   {
    "duration": 27,
    "start_time": "2022-09-27T22:04:41.341Z"
   },
   {
    "duration": 6,
    "start_time": "2022-09-27T22:04:41.371Z"
   },
   {
    "duration": 16,
    "start_time": "2022-09-27T22:04:41.379Z"
   },
   {
    "duration": 7,
    "start_time": "2022-09-27T22:04:41.397Z"
   },
   {
    "duration": 5,
    "start_time": "2022-09-27T22:04:41.406Z"
   },
   {
    "duration": 10,
    "start_time": "2022-09-27T22:04:41.413Z"
   },
   {
    "duration": 67,
    "start_time": "2022-09-27T22:04:54.666Z"
   },
   {
    "duration": 2,
    "start_time": "2022-09-27T22:04:54.822Z"
   },
   {
    "duration": 8,
    "start_time": "2022-09-27T22:05:04.876Z"
   },
   {
    "duration": 3,
    "start_time": "2022-09-27T22:05:05.363Z"
   },
   {
    "duration": 379,
    "start_time": "2022-09-27T22:05:07.988Z"
   },
   {
    "duration": 40,
    "start_time": "2022-09-27T22:05:08.369Z"
   },
   {
    "duration": 13,
    "start_time": "2022-09-27T22:05:08.413Z"
   },
   {
    "duration": 20,
    "start_time": "2022-09-27T22:05:08.428Z"
   },
   {
    "duration": 7,
    "start_time": "2022-09-27T22:05:08.449Z"
   },
   {
    "duration": 8,
    "start_time": "2022-09-27T22:05:08.457Z"
   },
   {
    "duration": 10,
    "start_time": "2022-09-27T22:05:08.466Z"
   },
   {
    "duration": 6,
    "start_time": "2022-09-27T22:05:08.477Z"
   },
   {
    "duration": 28,
    "start_time": "2022-09-27T22:05:08.485Z"
   },
   {
    "duration": 936,
    "start_time": "2022-09-27T22:05:28.468Z"
   },
   {
    "duration": 391,
    "start_time": "2022-09-27T22:05:34.064Z"
   },
   {
    "duration": 40,
    "start_time": "2022-09-27T22:05:34.457Z"
   },
   {
    "duration": 13,
    "start_time": "2022-09-27T22:05:34.501Z"
   },
   {
    "duration": 20,
    "start_time": "2022-09-27T22:05:34.516Z"
   },
   {
    "duration": 5,
    "start_time": "2022-09-27T22:05:34.537Z"
   },
   {
    "duration": 12,
    "start_time": "2022-09-27T22:05:34.543Z"
   },
   {
    "duration": 6,
    "start_time": "2022-09-27T22:05:34.556Z"
   },
   {
    "duration": 22,
    "start_time": "2022-09-27T22:05:34.563Z"
   },
   {
    "duration": 424,
    "start_time": "2022-09-27T22:05:50.421Z"
   },
   {
    "duration": 46,
    "start_time": "2022-09-27T22:05:50.847Z"
   },
   {
    "duration": 14,
    "start_time": "2022-09-27T22:05:50.895Z"
   },
   {
    "duration": 20,
    "start_time": "2022-09-27T22:05:50.911Z"
   },
   {
    "duration": 4,
    "start_time": "2022-09-27T22:05:50.934Z"
   },
   {
    "duration": 5,
    "start_time": "2022-09-27T22:05:50.954Z"
   },
   {
    "duration": 18,
    "start_time": "2022-09-27T22:05:50.961Z"
   },
   {
    "duration": 10,
    "start_time": "2022-09-27T22:05:50.981Z"
   },
   {
    "duration": 29,
    "start_time": "2022-09-27T22:05:50.992Z"
   },
   {
    "duration": 429,
    "start_time": "2022-09-27T22:06:01.725Z"
   },
   {
    "duration": 41,
    "start_time": "2022-09-27T22:06:02.156Z"
   },
   {
    "duration": 13,
    "start_time": "2022-09-27T22:06:02.198Z"
   },
   {
    "duration": 28,
    "start_time": "2022-09-27T22:06:02.213Z"
   },
   {
    "duration": 9,
    "start_time": "2022-09-27T22:06:02.243Z"
   },
   {
    "duration": 11,
    "start_time": "2022-09-27T22:06:02.254Z"
   },
   {
    "duration": 11,
    "start_time": "2022-09-27T22:06:02.267Z"
   },
   {
    "duration": 12,
    "start_time": "2022-09-27T22:06:02.280Z"
   },
   {
    "duration": 35,
    "start_time": "2022-09-27T22:06:02.294Z"
   },
   {
    "duration": 5,
    "start_time": "2022-09-27T22:06:51.344Z"
   },
   {
    "duration": 7,
    "start_time": "2022-09-27T22:06:59.460Z"
   },
   {
    "duration": 5,
    "start_time": "2022-09-27T22:07:13.561Z"
   },
   {
    "duration": 5,
    "start_time": "2022-09-27T22:08:18.113Z"
   },
   {
    "duration": 3,
    "start_time": "2022-09-27T22:09:30.442Z"
   },
   {
    "duration": 20,
    "start_time": "2022-09-27T22:09:33.066Z"
   },
   {
    "duration": 7,
    "start_time": "2022-09-27T22:09:56.826Z"
   },
   {
    "duration": 7,
    "start_time": "2022-09-27T22:10:27.906Z"
   },
   {
    "duration": 7,
    "start_time": "2022-09-27T22:10:46.848Z"
   },
   {
    "duration": 7,
    "start_time": "2022-09-27T22:11:08.335Z"
   },
   {
    "duration": 4,
    "start_time": "2022-09-27T22:11:17.563Z"
   },
   {
    "duration": 6,
    "start_time": "2022-09-27T22:11:21.862Z"
   },
   {
    "duration": 6,
    "start_time": "2022-09-27T22:11:25.563Z"
   },
   {
    "duration": 7,
    "start_time": "2022-09-27T22:12:15.291Z"
   },
   {
    "duration": 4,
    "start_time": "2022-09-27T22:12:33.115Z"
   },
   {
    "duration": 5,
    "start_time": "2022-09-27T22:12:52.525Z"
   },
   {
    "duration": 5,
    "start_time": "2022-09-27T22:13:40.163Z"
   },
   {
    "duration": 5,
    "start_time": "2022-09-27T22:14:01.972Z"
   },
   {
    "duration": 6,
    "start_time": "2022-09-27T22:15:32.132Z"
   },
   {
    "duration": 70,
    "start_time": "2022-09-27T22:16:17.781Z"
   },
   {
    "duration": 384,
    "start_time": "2022-09-27T22:19:41.881Z"
   },
   {
    "duration": 41,
    "start_time": "2022-09-27T22:19:42.267Z"
   },
   {
    "duration": 13,
    "start_time": "2022-09-27T22:19:42.310Z"
   },
   {
    "duration": 21,
    "start_time": "2022-09-27T22:19:42.324Z"
   },
   {
    "duration": 10,
    "start_time": "2022-09-27T22:19:42.347Z"
   },
   {
    "duration": 10,
    "start_time": "2022-09-27T22:19:42.358Z"
   },
   {
    "duration": 9,
    "start_time": "2022-09-27T22:19:42.370Z"
   },
   {
    "duration": 5,
    "start_time": "2022-09-27T22:19:42.380Z"
   },
   {
    "duration": 7,
    "start_time": "2022-09-27T22:19:42.387Z"
   },
   {
    "duration": 20,
    "start_time": "2022-09-27T22:19:42.396Z"
   },
   {
    "duration": 12,
    "start_time": "2022-09-27T22:19:42.418Z"
   },
   {
    "duration": 12,
    "start_time": "2022-09-27T22:19:42.432Z"
   },
   {
    "duration": 14,
    "start_time": "2022-09-27T22:19:42.445Z"
   },
   {
    "duration": 9,
    "start_time": "2022-09-27T22:19:42.461Z"
   },
   {
    "duration": 28,
    "start_time": "2022-09-27T22:19:42.472Z"
   },
   {
    "duration": 20,
    "start_time": "2022-09-27T22:19:42.502Z"
   },
   {
    "duration": 6,
    "start_time": "2022-09-27T22:20:00.781Z"
   },
   {
    "duration": 4,
    "start_time": "2022-09-27T22:20:27.429Z"
   },
   {
    "duration": 468,
    "start_time": "2022-09-27T22:20:30.959Z"
   },
   {
    "duration": 50,
    "start_time": "2022-09-27T22:20:31.429Z"
   },
   {
    "duration": 49,
    "start_time": "2022-09-27T22:20:31.481Z"
   },
   {
    "duration": 40,
    "start_time": "2022-09-27T22:20:31.533Z"
   },
   {
    "duration": 9,
    "start_time": "2022-09-27T22:20:31.576Z"
   },
   {
    "duration": 17,
    "start_time": "2022-09-27T22:20:31.587Z"
   },
   {
    "duration": 20,
    "start_time": "2022-09-27T22:20:31.607Z"
   },
   {
    "duration": 31,
    "start_time": "2022-09-27T22:20:31.629Z"
   },
   {
    "duration": 50,
    "start_time": "2022-09-27T22:20:31.662Z"
   },
   {
    "duration": 35,
    "start_time": "2022-09-27T22:20:31.714Z"
   },
   {
    "duration": 65,
    "start_time": "2022-09-27T22:20:31.751Z"
   },
   {
    "duration": 24,
    "start_time": "2022-09-27T22:20:31.818Z"
   },
   {
    "duration": 35,
    "start_time": "2022-09-27T22:20:31.844Z"
   },
   {
    "duration": 20,
    "start_time": "2022-09-27T22:20:31.881Z"
   },
   {
    "duration": 45,
    "start_time": "2022-09-27T22:20:31.903Z"
   },
   {
    "duration": 4,
    "start_time": "2022-09-27T22:20:31.950Z"
   },
   {
    "duration": 48,
    "start_time": "2022-09-27T22:20:31.955Z"
   },
   {
    "duration": 5,
    "start_time": "2022-09-27T22:20:46.405Z"
   },
   {
    "duration": 4,
    "start_time": "2022-09-27T22:21:03.762Z"
   },
   {
    "duration": 6,
    "start_time": "2022-09-27T22:21:11.530Z"
   },
   {
    "duration": 432,
    "start_time": "2022-09-27T22:21:15.936Z"
   },
   {
    "duration": 45,
    "start_time": "2022-09-27T22:21:16.369Z"
   },
   {
    "duration": 13,
    "start_time": "2022-09-27T22:21:16.416Z"
   },
   {
    "duration": 19,
    "start_time": "2022-09-27T22:21:16.431Z"
   },
   {
    "duration": 5,
    "start_time": "2022-09-27T22:21:16.452Z"
   },
   {
    "duration": 8,
    "start_time": "2022-09-27T22:21:16.458Z"
   },
   {
    "duration": 8,
    "start_time": "2022-09-27T22:21:16.467Z"
   },
   {
    "duration": 6,
    "start_time": "2022-09-27T22:21:16.477Z"
   },
   {
    "duration": 8,
    "start_time": "2022-09-27T22:21:16.484Z"
   },
   {
    "duration": 5,
    "start_time": "2022-09-27T22:21:16.493Z"
   },
   {
    "duration": 14,
    "start_time": "2022-09-27T22:21:16.500Z"
   },
   {
    "duration": 9,
    "start_time": "2022-09-27T22:21:16.515Z"
   },
   {
    "duration": 9,
    "start_time": "2022-09-27T22:21:16.525Z"
   },
   {
    "duration": 20,
    "start_time": "2022-09-27T22:21:16.536Z"
   },
   {
    "duration": 22,
    "start_time": "2022-09-27T22:21:16.557Z"
   },
   {
    "duration": 3,
    "start_time": "2022-09-27T22:21:16.581Z"
   },
   {
    "duration": 8,
    "start_time": "2022-09-27T22:21:16.586Z"
   },
   {
    "duration": 23,
    "start_time": "2022-09-27T22:21:16.595Z"
   },
   {
    "duration": 39,
    "start_time": "2022-09-27T22:21:53.994Z"
   },
   {
    "duration": 8,
    "start_time": "2022-09-27T22:22:40.370Z"
   },
   {
    "duration": 6,
    "start_time": "2022-09-27T22:24:47.539Z"
   },
   {
    "duration": 7,
    "start_time": "2022-09-27T22:25:25.561Z"
   },
   {
    "duration": 3,
    "start_time": "2022-09-27T22:26:03.581Z"
   },
   {
    "duration": 4,
    "start_time": "2022-09-27T22:26:17.020Z"
   },
   {
    "duration": 6,
    "start_time": "2022-09-27T22:26:37.695Z"
   },
   {
    "duration": 3,
    "start_time": "2022-09-27T22:27:04.629Z"
   },
   {
    "duration": 4,
    "start_time": "2022-09-27T22:27:17.900Z"
   },
   {
    "duration": 6,
    "start_time": "2022-09-27T22:27:35.195Z"
   },
   {
    "duration": 5,
    "start_time": "2022-09-27T22:28:09.948Z"
   },
   {
    "duration": 3,
    "start_time": "2022-09-27T22:29:03.894Z"
   },
   {
    "duration": 5,
    "start_time": "2022-09-27T22:29:57.973Z"
   },
   {
    "duration": 5,
    "start_time": "2022-09-27T22:30:07.649Z"
   },
   {
    "duration": 6,
    "start_time": "2022-09-27T22:30:50.197Z"
   },
   {
    "duration": 20,
    "start_time": "2022-09-27T22:30:55.106Z"
   },
   {
    "duration": 421,
    "start_time": "2022-09-27T22:31:08.645Z"
   },
   {
    "duration": 41,
    "start_time": "2022-09-27T22:31:09.069Z"
   },
   {
    "duration": 14,
    "start_time": "2022-09-27T22:31:09.114Z"
   },
   {
    "duration": 20,
    "start_time": "2022-09-27T22:31:09.131Z"
   },
   {
    "duration": 42,
    "start_time": "2022-09-27T22:31:09.154Z"
   },
   {
    "duration": 4,
    "start_time": "2022-09-27T22:31:09.198Z"
   },
   {
    "duration": 8,
    "start_time": "2022-09-27T22:31:09.204Z"
   },
   {
    "duration": 17,
    "start_time": "2022-09-27T22:31:09.213Z"
   },
   {
    "duration": 15,
    "start_time": "2022-09-27T22:31:09.232Z"
   },
   {
    "duration": 10,
    "start_time": "2022-09-27T22:31:09.254Z"
   },
   {
    "duration": 13,
    "start_time": "2022-09-27T22:31:09.266Z"
   },
   {
    "duration": 8,
    "start_time": "2022-09-27T22:31:09.281Z"
   },
   {
    "duration": 7,
    "start_time": "2022-09-27T22:31:09.293Z"
   },
   {
    "duration": 13,
    "start_time": "2022-09-27T22:31:09.301Z"
   },
   {
    "duration": 9,
    "start_time": "2022-09-27T22:31:09.316Z"
   },
   {
    "duration": 34,
    "start_time": "2022-09-27T22:31:09.327Z"
   },
   {
    "duration": 3,
    "start_time": "2022-09-27T22:31:09.363Z"
   },
   {
    "duration": 8,
    "start_time": "2022-09-27T22:31:09.368Z"
   },
   {
    "duration": 8,
    "start_time": "2022-09-27T22:31:09.377Z"
   },
   {
    "duration": 5,
    "start_time": "2022-09-27T22:31:09.387Z"
   },
   {
    "duration": 6,
    "start_time": "2022-09-27T22:31:09.393Z"
   },
   {
    "duration": 9,
    "start_time": "2022-09-27T22:31:09.401Z"
   },
   {
    "duration": 7,
    "start_time": "2022-09-27T22:31:09.411Z"
   },
   {
    "duration": 9,
    "start_time": "2022-09-27T22:31:09.420Z"
   },
   {
    "duration": 4,
    "start_time": "2022-09-27T22:31:09.454Z"
   },
   {
    "duration": 10,
    "start_time": "2022-09-27T22:31:09.460Z"
   },
   {
    "duration": 383,
    "start_time": "2022-09-27T22:39:25.382Z"
   },
   {
    "duration": 42,
    "start_time": "2022-09-27T22:39:25.767Z"
   },
   {
    "duration": 12,
    "start_time": "2022-09-27T22:39:25.811Z"
   },
   {
    "duration": 22,
    "start_time": "2022-09-27T22:39:25.825Z"
   },
   {
    "duration": 40,
    "start_time": "2022-09-27T22:39:25.849Z"
   },
   {
    "duration": 5,
    "start_time": "2022-09-27T22:39:25.891Z"
   },
   {
    "duration": 14,
    "start_time": "2022-09-27T22:39:25.897Z"
   },
   {
    "duration": 20,
    "start_time": "2022-09-27T22:39:25.912Z"
   },
   {
    "duration": 21,
    "start_time": "2022-09-27T22:39:25.933Z"
   },
   {
    "duration": 18,
    "start_time": "2022-09-27T22:39:25.955Z"
   },
   {
    "duration": 14,
    "start_time": "2022-09-27T22:39:25.975Z"
   },
   {
    "duration": 16,
    "start_time": "2022-09-27T22:39:25.991Z"
   },
   {
    "duration": 23,
    "start_time": "2022-09-27T22:39:26.009Z"
   },
   {
    "duration": 17,
    "start_time": "2022-09-27T22:39:26.036Z"
   },
   {
    "duration": 28,
    "start_time": "2022-09-27T22:39:26.055Z"
   },
   {
    "duration": 31,
    "start_time": "2022-09-27T22:39:26.084Z"
   },
   {
    "duration": 4,
    "start_time": "2022-09-27T22:39:26.116Z"
   },
   {
    "duration": 15,
    "start_time": "2022-09-27T22:39:26.121Z"
   },
   {
    "duration": 21,
    "start_time": "2022-09-27T22:39:26.137Z"
   },
   {
    "duration": 19,
    "start_time": "2022-09-27T22:39:26.159Z"
   },
   {
    "duration": 10,
    "start_time": "2022-09-27T22:39:26.179Z"
   },
   {
    "duration": 16,
    "start_time": "2022-09-27T22:39:26.191Z"
   },
   {
    "duration": 11,
    "start_time": "2022-09-27T22:39:26.209Z"
   },
   {
    "duration": 18,
    "start_time": "2022-09-27T22:39:26.221Z"
   },
   {
    "duration": 13,
    "start_time": "2022-09-27T22:39:26.241Z"
   },
   {
    "duration": 27,
    "start_time": "2022-09-27T22:39:26.255Z"
   },
   {
    "duration": 376,
    "start_time": "2022-09-27T22:39:46.788Z"
   },
   {
    "duration": 42,
    "start_time": "2022-09-27T22:39:47.166Z"
   },
   {
    "duration": 14,
    "start_time": "2022-09-27T22:39:47.209Z"
   },
   {
    "duration": 20,
    "start_time": "2022-09-27T22:39:47.224Z"
   },
   {
    "duration": 44,
    "start_time": "2022-09-27T22:39:47.246Z"
   },
   {
    "duration": 5,
    "start_time": "2022-09-27T22:39:47.292Z"
   },
   {
    "duration": 8,
    "start_time": "2022-09-27T22:39:47.298Z"
   },
   {
    "duration": 9,
    "start_time": "2022-09-27T22:39:47.307Z"
   },
   {
    "duration": 7,
    "start_time": "2022-09-27T22:39:47.318Z"
   },
   {
    "duration": 29,
    "start_time": "2022-09-27T22:39:47.326Z"
   },
   {
    "duration": 10,
    "start_time": "2022-09-27T22:39:47.357Z"
   },
   {
    "duration": 10,
    "start_time": "2022-09-27T22:39:47.369Z"
   },
   {
    "duration": 10,
    "start_time": "2022-09-27T22:39:47.381Z"
   },
   {
    "duration": 8,
    "start_time": "2022-09-27T22:39:47.393Z"
   },
   {
    "duration": 11,
    "start_time": "2022-09-27T22:39:47.403Z"
   },
   {
    "duration": 41,
    "start_time": "2022-09-27T22:39:47.416Z"
   },
   {
    "duration": 4,
    "start_time": "2022-09-27T22:39:47.459Z"
   },
   {
    "duration": 6,
    "start_time": "2022-09-27T22:39:47.465Z"
   },
   {
    "duration": 9,
    "start_time": "2022-09-27T22:39:47.472Z"
   },
   {
    "duration": 5,
    "start_time": "2022-09-27T22:39:47.483Z"
   },
   {
    "duration": 9,
    "start_time": "2022-09-27T22:39:47.489Z"
   },
   {
    "duration": 8,
    "start_time": "2022-09-27T22:39:47.500Z"
   },
   {
    "duration": 7,
    "start_time": "2022-09-27T22:39:47.509Z"
   },
   {
    "duration": 38,
    "start_time": "2022-09-27T22:39:47.518Z"
   },
   {
    "duration": 7,
    "start_time": "2022-09-27T22:39:47.558Z"
   },
   {
    "duration": 9,
    "start_time": "2022-09-27T22:39:47.567Z"
   },
   {
    "duration": 386,
    "start_time": "2022-09-27T23:00:22.910Z"
   },
   {
    "duration": 41,
    "start_time": "2022-09-27T23:00:23.298Z"
   },
   {
    "duration": 14,
    "start_time": "2022-09-27T23:00:23.341Z"
   },
   {
    "duration": 20,
    "start_time": "2022-09-27T23:00:23.357Z"
   },
   {
    "duration": 44,
    "start_time": "2022-09-27T23:00:23.379Z"
   },
   {
    "duration": 33,
    "start_time": "2022-09-27T23:00:23.425Z"
   },
   {
    "duration": 8,
    "start_time": "2022-09-27T23:00:23.460Z"
   },
   {
    "duration": 7,
    "start_time": "2022-09-27T23:00:23.470Z"
   },
   {
    "duration": 5,
    "start_time": "2022-09-27T23:00:23.479Z"
   },
   {
    "duration": 8,
    "start_time": "2022-09-27T23:00:23.485Z"
   },
   {
    "duration": 5,
    "start_time": "2022-09-27T23:00:23.495Z"
   },
   {
    "duration": 16,
    "start_time": "2022-09-27T23:00:23.502Z"
   },
   {
    "duration": 36,
    "start_time": "2022-09-27T23:00:23.520Z"
   },
   {
    "duration": 8,
    "start_time": "2022-09-27T23:00:23.560Z"
   },
   {
    "duration": 10,
    "start_time": "2022-09-27T23:00:23.570Z"
   },
   {
    "duration": 28,
    "start_time": "2022-09-27T23:00:23.582Z"
   },
   {
    "duration": 4,
    "start_time": "2022-09-27T23:00:23.612Z"
   },
   {
    "duration": 12,
    "start_time": "2022-09-27T23:00:23.617Z"
   },
   {
    "duration": 33,
    "start_time": "2022-09-27T23:00:23.631Z"
   },
   {
    "duration": 6,
    "start_time": "2022-09-27T23:00:23.666Z"
   },
   {
    "duration": 6,
    "start_time": "2022-09-27T23:00:23.674Z"
   },
   {
    "duration": 11,
    "start_time": "2022-09-27T23:00:23.682Z"
   },
   {
    "duration": 8,
    "start_time": "2022-09-27T23:00:23.694Z"
   },
   {
    "duration": 17,
    "start_time": "2022-09-27T23:00:23.704Z"
   },
   {
    "duration": 9,
    "start_time": "2022-09-27T23:00:23.723Z"
   },
   {
    "duration": 22,
    "start_time": "2022-09-27T23:00:23.734Z"
   },
   {
    "duration": 397,
    "start_time": "2022-09-28T14:35:06.226Z"
   },
   {
    "duration": 153,
    "start_time": "2022-09-28T14:35:06.625Z"
   },
   {
    "duration": 15,
    "start_time": "2022-09-28T14:35:06.779Z"
   },
   {
    "duration": 36,
    "start_time": "2022-09-28T14:35:06.797Z"
   },
   {
    "duration": 45,
    "start_time": "2022-09-28T14:35:06.836Z"
   },
   {
    "duration": 4,
    "start_time": "2022-09-28T14:35:06.883Z"
   },
   {
    "duration": 32,
    "start_time": "2022-09-28T14:35:06.889Z"
   },
   {
    "duration": 20,
    "start_time": "2022-09-28T14:35:06.922Z"
   },
   {
    "duration": 21,
    "start_time": "2022-09-28T14:35:06.943Z"
   },
   {
    "duration": 23,
    "start_time": "2022-09-28T14:35:06.966Z"
   },
   {
    "duration": 21,
    "start_time": "2022-09-28T14:35:06.991Z"
   },
   {
    "duration": 32,
    "start_time": "2022-09-28T14:35:07.014Z"
   },
   {
    "duration": 33,
    "start_time": "2022-09-28T14:35:07.048Z"
   },
   {
    "duration": 21,
    "start_time": "2022-09-28T14:35:07.084Z"
   },
   {
    "duration": 20,
    "start_time": "2022-09-28T14:35:07.108Z"
   },
   {
    "duration": 37,
    "start_time": "2022-09-28T14:35:07.130Z"
   },
   {
    "duration": 3,
    "start_time": "2022-09-28T14:35:07.169Z"
   },
   {
    "duration": 8,
    "start_time": "2022-09-28T14:35:07.174Z"
   },
   {
    "duration": 9,
    "start_time": "2022-09-28T14:35:07.184Z"
   },
   {
    "duration": 7,
    "start_time": "2022-09-28T14:35:07.194Z"
   },
   {
    "duration": 5,
    "start_time": "2022-09-28T14:35:07.202Z"
   },
   {
    "duration": 10,
    "start_time": "2022-09-28T14:35:07.209Z"
   },
   {
    "duration": 22,
    "start_time": "2022-09-28T14:35:07.221Z"
   },
   {
    "duration": 29,
    "start_time": "2022-09-28T14:35:07.245Z"
   },
   {
    "duration": 16,
    "start_time": "2022-09-28T14:35:07.277Z"
   },
   {
    "duration": 22,
    "start_time": "2022-09-28T14:35:07.294Z"
   },
   {
    "duration": 1375,
    "start_time": "2022-09-28T14:49:12.167Z"
   },
   {
    "duration": 43,
    "start_time": "2022-09-28T14:49:13.544Z"
   },
   {
    "duration": 15,
    "start_time": "2022-09-28T14:49:13.589Z"
   },
   {
    "duration": 39,
    "start_time": "2022-09-28T14:49:13.606Z"
   },
   {
    "duration": 47,
    "start_time": "2022-09-28T14:49:13.649Z"
   },
   {
    "duration": 4,
    "start_time": "2022-09-28T14:49:13.698Z"
   },
   {
    "duration": 16,
    "start_time": "2022-09-28T14:49:13.704Z"
   },
   {
    "duration": 10,
    "start_time": "2022-09-28T14:49:13.722Z"
   },
   {
    "duration": 13,
    "start_time": "2022-09-28T14:49:13.733Z"
   },
   {
    "duration": 16,
    "start_time": "2022-09-28T14:49:13.748Z"
   },
   {
    "duration": 8,
    "start_time": "2022-09-28T14:49:13.766Z"
   },
   {
    "duration": 21,
    "start_time": "2022-09-28T14:49:13.775Z"
   },
   {
    "duration": 15,
    "start_time": "2022-09-28T14:49:13.798Z"
   },
   {
    "duration": 12,
    "start_time": "2022-09-28T14:49:13.816Z"
   },
   {
    "duration": 8,
    "start_time": "2022-09-28T14:49:13.830Z"
   },
   {
    "duration": 24,
    "start_time": "2022-09-28T14:49:13.839Z"
   },
   {
    "duration": 4,
    "start_time": "2022-09-28T14:49:13.864Z"
   },
   {
    "duration": 21,
    "start_time": "2022-09-28T14:49:13.869Z"
   },
   {
    "duration": 9,
    "start_time": "2022-09-28T14:49:13.892Z"
   },
   {
    "duration": 18,
    "start_time": "2022-09-28T14:49:13.902Z"
   },
   {
    "duration": 19,
    "start_time": "2022-09-28T14:49:13.921Z"
   },
   {
    "duration": 25,
    "start_time": "2022-09-28T14:49:13.942Z"
   },
   {
    "duration": 11,
    "start_time": "2022-09-28T14:49:13.969Z"
   },
   {
    "duration": 10,
    "start_time": "2022-09-28T14:49:13.982Z"
   },
   {
    "duration": 8,
    "start_time": "2022-09-28T14:49:13.994Z"
   },
   {
    "duration": 19,
    "start_time": "2022-09-28T14:49:14.003Z"
   },
   {
    "duration": 8009,
    "start_time": "2022-09-28T14:49:14.024Z"
   },
   {
    "duration": 1211,
    "start_time": "2022-09-28T14:50:09.521Z"
   },
   {
    "duration": 41,
    "start_time": "2022-09-28T14:50:10.739Z"
   },
   {
    "duration": 15,
    "start_time": "2022-09-28T14:50:10.782Z"
   },
   {
    "duration": 21,
    "start_time": "2022-09-28T14:50:10.800Z"
   },
   {
    "duration": 45,
    "start_time": "2022-09-28T14:50:10.823Z"
   },
   {
    "duration": 23,
    "start_time": "2022-09-28T14:50:10.869Z"
   },
   {
    "duration": 8,
    "start_time": "2022-09-28T14:50:10.894Z"
   },
   {
    "duration": 14,
    "start_time": "2022-09-28T14:50:10.903Z"
   },
   {
    "duration": 7,
    "start_time": "2022-09-28T14:50:10.919Z"
   },
   {
    "duration": 12,
    "start_time": "2022-09-28T14:50:10.928Z"
   },
   {
    "duration": 8,
    "start_time": "2022-09-28T14:50:10.942Z"
   },
   {
    "duration": 10,
    "start_time": "2022-09-28T14:50:10.952Z"
   },
   {
    "duration": 26,
    "start_time": "2022-09-28T14:50:10.964Z"
   },
   {
    "duration": 6,
    "start_time": "2022-09-28T14:50:10.993Z"
   },
   {
    "duration": 6,
    "start_time": "2022-09-28T14:50:11.001Z"
   },
   {
    "duration": 24,
    "start_time": "2022-09-28T14:50:11.009Z"
   },
   {
    "duration": 5,
    "start_time": "2022-09-28T14:50:11.035Z"
   },
   {
    "duration": 14,
    "start_time": "2022-09-28T14:50:11.042Z"
   },
   {
    "duration": 33,
    "start_time": "2022-09-28T14:50:11.057Z"
   },
   {
    "duration": 6,
    "start_time": "2022-09-28T14:50:11.092Z"
   },
   {
    "duration": 5,
    "start_time": "2022-09-28T14:50:11.100Z"
   },
   {
    "duration": 7,
    "start_time": "2022-09-28T14:50:11.107Z"
   },
   {
    "duration": 22,
    "start_time": "2022-09-28T14:50:11.116Z"
   },
   {
    "duration": 8,
    "start_time": "2022-09-28T14:50:11.140Z"
   },
   {
    "duration": 4,
    "start_time": "2022-09-28T14:50:11.150Z"
   },
   {
    "duration": 12,
    "start_time": "2022-09-28T14:50:11.155Z"
   },
   {
    "duration": 47464,
    "start_time": "2022-09-28T14:50:11.169Z"
   },
   {
    "duration": 97,
    "start_time": "2022-09-28T14:52:38.572Z"
   },
   {
    "duration": 254,
    "start_time": "2022-09-28T14:52:52.232Z"
   },
   {
    "duration": 25,
    "start_time": "2022-09-28T14:52:57.220Z"
   },
   {
    "duration": 11,
    "start_time": "2022-09-28T14:53:10.630Z"
   },
   {
    "duration": 9,
    "start_time": "2022-09-28T14:53:38.711Z"
   },
   {
    "duration": 12,
    "start_time": "2022-09-28T14:53:49.017Z"
   },
   {
    "duration": 47557,
    "start_time": "2022-09-28T14:57:08.902Z"
   },
   {
    "duration": 9,
    "start_time": "2022-09-28T14:58:52.725Z"
   },
   {
    "duration": 41,
    "start_time": "2022-09-28T15:01:31.408Z"
   },
   {
    "duration": 3,
    "start_time": "2022-09-28T15:03:16.696Z"
   },
   {
    "duration": 3,
    "start_time": "2022-09-28T15:03:59.641Z"
   },
   {
    "duration": 79,
    "start_time": "2022-09-28T15:05:06.594Z"
   },
   {
    "duration": 17,
    "start_time": "2022-09-28T15:05:10.744Z"
   },
   {
    "duration": 32,
    "start_time": "2022-09-28T15:05:20.195Z"
   },
   {
    "duration": 9,
    "start_time": "2022-09-28T15:12:55.871Z"
   },
   {
    "duration": 21,
    "start_time": "2022-09-28T15:13:05.714Z"
   },
   {
    "duration": 5,
    "start_time": "2022-09-28T15:15:50.613Z"
   },
   {
    "duration": 9,
    "start_time": "2022-09-28T15:15:52.789Z"
   },
   {
    "duration": 1357,
    "start_time": "2022-09-28T15:16:01.737Z"
   },
   {
    "duration": 9,
    "start_time": "2022-09-28T15:16:03.219Z"
   },
   {
    "duration": 1474,
    "start_time": "2022-09-28T15:16:09.309Z"
   },
   {
    "duration": 44,
    "start_time": "2022-09-28T15:16:10.785Z"
   },
   {
    "duration": 17,
    "start_time": "2022-09-28T15:16:10.831Z"
   },
   {
    "duration": 17,
    "start_time": "2022-09-28T15:16:10.850Z"
   },
   {
    "duration": 49,
    "start_time": "2022-09-28T15:16:10.869Z"
   },
   {
    "duration": 5,
    "start_time": "2022-09-28T15:16:10.920Z"
   },
   {
    "duration": 20,
    "start_time": "2022-09-28T15:16:10.926Z"
   },
   {
    "duration": 9,
    "start_time": "2022-09-28T15:16:10.948Z"
   },
   {
    "duration": 4,
    "start_time": "2022-09-28T15:16:10.958Z"
   },
   {
    "duration": 7,
    "start_time": "2022-09-28T15:16:10.964Z"
   },
   {
    "duration": 17,
    "start_time": "2022-09-28T15:16:10.972Z"
   },
   {
    "duration": 9,
    "start_time": "2022-09-28T15:16:10.991Z"
   },
   {
    "duration": 8,
    "start_time": "2022-09-28T15:16:11.002Z"
   },
   {
    "duration": 8,
    "start_time": "2022-09-28T15:16:11.013Z"
   },
   {
    "duration": 11,
    "start_time": "2022-09-28T15:16:11.023Z"
   },
   {
    "duration": 26,
    "start_time": "2022-09-28T15:16:11.035Z"
   },
   {
    "duration": 4,
    "start_time": "2022-09-28T15:16:11.062Z"
   },
   {
    "duration": 4,
    "start_time": "2022-09-28T15:16:11.090Z"
   },
   {
    "duration": 14,
    "start_time": "2022-09-28T15:16:11.096Z"
   },
   {
    "duration": 10,
    "start_time": "2022-09-28T15:16:11.112Z"
   },
   {
    "duration": 6,
    "start_time": "2022-09-28T15:16:11.124Z"
   },
   {
    "duration": 13,
    "start_time": "2022-09-28T15:16:11.131Z"
   },
   {
    "duration": 12,
    "start_time": "2022-09-28T15:16:11.146Z"
   },
   {
    "duration": 9,
    "start_time": "2022-09-28T15:16:11.160Z"
   },
   {
    "duration": 20,
    "start_time": "2022-09-28T15:16:11.171Z"
   },
   {
    "duration": 11,
    "start_time": "2022-09-28T15:16:11.193Z"
   },
   {
    "duration": 10,
    "start_time": "2022-09-28T15:16:11.206Z"
   },
   {
    "duration": 24,
    "start_time": "2022-09-28T15:16:11.218Z"
   },
   {
    "duration": 15,
    "start_time": "2022-09-28T15:16:11.243Z"
   },
   {
    "duration": 30,
    "start_time": "2022-09-28T15:16:11.260Z"
   },
   {
    "duration": 149,
    "start_time": "2022-09-28T15:16:11.292Z"
   },
   {
    "duration": 6,
    "start_time": "2022-09-28T15:16:39.859Z"
   },
   {
    "duration": 1435,
    "start_time": "2022-09-28T15:16:49.661Z"
   },
   {
    "duration": 41,
    "start_time": "2022-09-28T15:16:51.099Z"
   },
   {
    "duration": 13,
    "start_time": "2022-09-28T15:16:51.142Z"
   },
   {
    "duration": 16,
    "start_time": "2022-09-28T15:16:51.157Z"
   },
   {
    "duration": 39,
    "start_time": "2022-09-28T15:16:51.175Z"
   },
   {
    "duration": 5,
    "start_time": "2022-09-28T15:16:51.216Z"
   },
   {
    "duration": 6,
    "start_time": "2022-09-28T15:16:51.222Z"
   },
   {
    "duration": 9,
    "start_time": "2022-09-28T15:16:51.230Z"
   },
   {
    "duration": 5,
    "start_time": "2022-09-28T15:16:51.241Z"
   },
   {
    "duration": 10,
    "start_time": "2022-09-28T15:16:51.247Z"
   },
   {
    "duration": 4,
    "start_time": "2022-09-28T15:16:51.259Z"
   },
   {
    "duration": 29,
    "start_time": "2022-09-28T15:16:51.265Z"
   },
   {
    "duration": 8,
    "start_time": "2022-09-28T15:16:51.296Z"
   },
   {
    "duration": 10,
    "start_time": "2022-09-28T15:16:51.307Z"
   },
   {
    "duration": 7,
    "start_time": "2022-09-28T15:16:51.319Z"
   },
   {
    "duration": 23,
    "start_time": "2022-09-28T15:16:51.327Z"
   },
   {
    "duration": 4,
    "start_time": "2022-09-28T15:16:51.351Z"
   },
   {
    "duration": 32,
    "start_time": "2022-09-28T15:16:51.357Z"
   },
   {
    "duration": 12,
    "start_time": "2022-09-28T15:16:51.391Z"
   },
   {
    "duration": 7,
    "start_time": "2022-09-28T15:16:51.405Z"
   },
   {
    "duration": 7,
    "start_time": "2022-09-28T15:16:51.413Z"
   },
   {
    "duration": 8,
    "start_time": "2022-09-28T15:16:51.422Z"
   },
   {
    "duration": 4,
    "start_time": "2022-09-28T15:16:51.432Z"
   },
   {
    "duration": 6,
    "start_time": "2022-09-28T15:16:51.438Z"
   },
   {
    "duration": 12,
    "start_time": "2022-09-28T15:16:51.445Z"
   },
   {
    "duration": 9,
    "start_time": "2022-09-28T15:16:51.459Z"
   },
   {
    "duration": 39,
    "start_time": "2022-09-28T15:16:51.469Z"
   },
   {
    "duration": 15,
    "start_time": "2022-09-28T15:16:51.510Z"
   },
   {
    "duration": 6,
    "start_time": "2022-09-28T15:16:51.527Z"
   },
   {
    "duration": 140,
    "start_time": "2022-09-28T15:16:51.535Z"
   },
   {
    "duration": 26,
    "start_time": "2022-09-28T15:18:05.336Z"
   },
   {
    "duration": 217,
    "start_time": "2022-09-28T15:19:16.186Z"
   },
   {
    "duration": 36,
    "start_time": "2022-09-28T15:19:21.903Z"
   },
   {
    "duration": 15,
    "start_time": "2022-09-28T15:20:37.366Z"
   },
   {
    "duration": 1439,
    "start_time": "2022-09-28T15:20:42.278Z"
   },
   {
    "duration": 41,
    "start_time": "2022-09-28T15:20:43.719Z"
   },
   {
    "duration": 15,
    "start_time": "2022-09-28T15:20:43.762Z"
   },
   {
    "duration": 19,
    "start_time": "2022-09-28T15:20:43.780Z"
   },
   {
    "duration": 44,
    "start_time": "2022-09-28T15:20:43.801Z"
   },
   {
    "duration": 6,
    "start_time": "2022-09-28T15:20:43.847Z"
   },
   {
    "duration": 18,
    "start_time": "2022-09-28T15:20:43.854Z"
   },
   {
    "duration": 17,
    "start_time": "2022-09-28T15:20:43.874Z"
   },
   {
    "duration": 9,
    "start_time": "2022-09-28T15:20:43.893Z"
   },
   {
    "duration": 129,
    "start_time": "2022-09-28T15:20:43.905Z"
   },
   {
    "duration": 0,
    "start_time": "2022-09-28T15:20:44.036Z"
   },
   {
    "duration": 0,
    "start_time": "2022-09-28T15:20:44.038Z"
   },
   {
    "duration": 0,
    "start_time": "2022-09-28T15:20:44.039Z"
   },
   {
    "duration": 0,
    "start_time": "2022-09-28T15:20:44.040Z"
   },
   {
    "duration": 0,
    "start_time": "2022-09-28T15:20:44.041Z"
   },
   {
    "duration": 0,
    "start_time": "2022-09-28T15:20:44.042Z"
   },
   {
    "duration": 0,
    "start_time": "2022-09-28T15:20:44.043Z"
   },
   {
    "duration": 0,
    "start_time": "2022-09-28T15:20:44.044Z"
   },
   {
    "duration": 0,
    "start_time": "2022-09-28T15:20:44.047Z"
   },
   {
    "duration": 0,
    "start_time": "2022-09-28T15:20:44.048Z"
   },
   {
    "duration": 0,
    "start_time": "2022-09-28T15:20:44.049Z"
   },
   {
    "duration": 0,
    "start_time": "2022-09-28T15:20:44.050Z"
   },
   {
    "duration": 0,
    "start_time": "2022-09-28T15:20:44.051Z"
   },
   {
    "duration": 0,
    "start_time": "2022-09-28T15:20:44.052Z"
   },
   {
    "duration": 0,
    "start_time": "2022-09-28T15:20:44.053Z"
   },
   {
    "duration": 0,
    "start_time": "2022-09-28T15:20:44.054Z"
   },
   {
    "duration": 0,
    "start_time": "2022-09-28T15:20:44.056Z"
   },
   {
    "duration": 0,
    "start_time": "2022-09-28T15:20:44.089Z"
   },
   {
    "duration": 0,
    "start_time": "2022-09-28T15:20:44.090Z"
   },
   {
    "duration": 0,
    "start_time": "2022-09-28T15:20:44.092Z"
   },
   {
    "duration": 0,
    "start_time": "2022-09-28T15:20:44.093Z"
   },
   {
    "duration": 1529,
    "start_time": "2022-09-28T15:21:08.793Z"
   },
   {
    "duration": 44,
    "start_time": "2022-09-28T15:21:10.325Z"
   },
   {
    "duration": 14,
    "start_time": "2022-09-28T15:21:10.371Z"
   },
   {
    "duration": 18,
    "start_time": "2022-09-28T15:21:10.386Z"
   },
   {
    "duration": 42,
    "start_time": "2022-09-28T15:21:10.406Z"
   },
   {
    "duration": 5,
    "start_time": "2022-09-28T15:21:10.450Z"
   },
   {
    "duration": 8,
    "start_time": "2022-09-28T15:21:10.457Z"
   },
   {
    "duration": 24,
    "start_time": "2022-09-28T15:21:10.467Z"
   },
   {
    "duration": 4,
    "start_time": "2022-09-28T15:21:10.493Z"
   },
   {
    "duration": 7,
    "start_time": "2022-09-28T15:21:10.498Z"
   },
   {
    "duration": 5,
    "start_time": "2022-09-28T15:21:10.507Z"
   },
   {
    "duration": 10,
    "start_time": "2022-09-28T15:21:10.513Z"
   },
   {
    "duration": 10,
    "start_time": "2022-09-28T15:21:10.524Z"
   },
   {
    "duration": 6,
    "start_time": "2022-09-28T15:21:10.537Z"
   },
   {
    "duration": 6,
    "start_time": "2022-09-28T15:21:10.545Z"
   },
   {
    "duration": 53,
    "start_time": "2022-09-28T15:21:10.553Z"
   },
   {
    "duration": 3,
    "start_time": "2022-09-28T15:21:10.608Z"
   },
   {
    "duration": 6,
    "start_time": "2022-09-28T15:21:10.613Z"
   },
   {
    "duration": 9,
    "start_time": "2022-09-28T15:21:10.621Z"
   },
   {
    "duration": 9,
    "start_time": "2022-09-28T15:21:10.633Z"
   },
   {
    "duration": 5,
    "start_time": "2022-09-28T15:21:10.644Z"
   },
   {
    "duration": 9,
    "start_time": "2022-09-28T15:21:10.650Z"
   },
   {
    "duration": 28,
    "start_time": "2022-09-28T15:21:10.661Z"
   },
   {
    "duration": 11,
    "start_time": "2022-09-28T15:21:10.692Z"
   },
   {
    "duration": 4,
    "start_time": "2022-09-28T15:21:10.705Z"
   },
   {
    "duration": 10,
    "start_time": "2022-09-28T15:21:10.710Z"
   },
   {
    "duration": 13,
    "start_time": "2022-09-28T15:21:10.722Z"
   },
   {
    "duration": 23,
    "start_time": "2022-09-28T15:21:10.737Z"
   },
   {
    "duration": 36,
    "start_time": "2022-09-28T15:21:10.762Z"
   },
   {
    "duration": 12,
    "start_time": "2022-09-28T15:21:10.800Z"
   },
   {
    "duration": 149,
    "start_time": "2022-09-28T15:21:10.813Z"
   },
   {
    "duration": 18,
    "start_time": "2022-09-28T15:22:47.012Z"
   },
   {
    "duration": 1427,
    "start_time": "2022-09-28T15:24:29.102Z"
   },
   {
    "duration": 41,
    "start_time": "2022-09-28T15:24:30.531Z"
   },
   {
    "duration": 33,
    "start_time": "2022-09-28T15:24:30.573Z"
   },
   {
    "duration": 29,
    "start_time": "2022-09-28T15:24:30.607Z"
   },
   {
    "duration": 53,
    "start_time": "2022-09-28T15:24:30.638Z"
   },
   {
    "duration": 4,
    "start_time": "2022-09-28T15:24:30.693Z"
   },
   {
    "duration": 16,
    "start_time": "2022-09-28T15:24:30.698Z"
   },
   {
    "duration": 18,
    "start_time": "2022-09-28T15:24:30.716Z"
   },
   {
    "duration": 10,
    "start_time": "2022-09-28T15:24:30.736Z"
   },
   {
    "duration": 23,
    "start_time": "2022-09-28T15:24:30.747Z"
   },
   {
    "duration": 10,
    "start_time": "2022-09-28T15:24:30.772Z"
   },
   {
    "duration": 37,
    "start_time": "2022-09-28T15:24:30.783Z"
   },
   {
    "duration": 33,
    "start_time": "2022-09-28T15:24:30.822Z"
   },
   {
    "duration": 13,
    "start_time": "2022-09-28T15:24:30.858Z"
   },
   {
    "duration": 13,
    "start_time": "2022-09-28T15:24:30.873Z"
   },
   {
    "duration": 26,
    "start_time": "2022-09-28T15:24:30.888Z"
   },
   {
    "duration": 3,
    "start_time": "2022-09-28T15:24:30.916Z"
   },
   {
    "duration": 17,
    "start_time": "2022-09-28T15:24:30.920Z"
   },
   {
    "duration": 21,
    "start_time": "2022-09-28T15:24:30.939Z"
   },
   {
    "duration": 8,
    "start_time": "2022-09-28T15:24:30.961Z"
   },
   {
    "duration": 13,
    "start_time": "2022-09-28T15:24:30.971Z"
   },
   {
    "duration": 11,
    "start_time": "2022-09-28T15:24:30.986Z"
   },
   {
    "duration": 7,
    "start_time": "2022-09-28T15:24:30.999Z"
   },
   {
    "duration": 13,
    "start_time": "2022-09-28T15:24:31.008Z"
   },
   {
    "duration": 9,
    "start_time": "2022-09-28T15:24:31.023Z"
   },
   {
    "duration": 34,
    "start_time": "2022-09-28T15:24:31.034Z"
   },
   {
    "duration": 45,
    "start_time": "2022-09-28T15:24:31.070Z"
   },
   {
    "duration": 59,
    "start_time": "2022-09-28T15:24:31.117Z"
   },
   {
    "duration": 126,
    "start_time": "2022-09-28T15:24:31.177Z"
   },
   {
    "duration": 0,
    "start_time": "2022-09-28T15:24:31.305Z"
   },
   {
    "duration": 0,
    "start_time": "2022-09-28T15:24:31.306Z"
   },
   {
    "duration": 0,
    "start_time": "2022-09-28T15:24:31.308Z"
   },
   {
    "duration": 1504,
    "start_time": "2022-09-28T15:25:45.129Z"
   },
   {
    "duration": 42,
    "start_time": "2022-09-28T15:25:46.635Z"
   },
   {
    "duration": 13,
    "start_time": "2022-09-28T15:25:46.679Z"
   },
   {
    "duration": 16,
    "start_time": "2022-09-28T15:25:46.693Z"
   },
   {
    "duration": 39,
    "start_time": "2022-09-28T15:25:46.711Z"
   },
   {
    "duration": 5,
    "start_time": "2022-09-28T15:25:46.752Z"
   },
   {
    "duration": 9,
    "start_time": "2022-09-28T15:25:46.758Z"
   },
   {
    "duration": 21,
    "start_time": "2022-09-28T15:25:46.769Z"
   },
   {
    "duration": 3,
    "start_time": "2022-09-28T15:25:46.791Z"
   },
   {
    "duration": 6,
    "start_time": "2022-09-28T15:25:46.796Z"
   },
   {
    "duration": 7,
    "start_time": "2022-09-28T15:25:46.804Z"
   },
   {
    "duration": 8,
    "start_time": "2022-09-28T15:25:46.813Z"
   },
   {
    "duration": 9,
    "start_time": "2022-09-28T15:25:46.822Z"
   },
   {
    "duration": 12,
    "start_time": "2022-09-28T15:25:46.834Z"
   },
   {
    "duration": 5,
    "start_time": "2022-09-28T15:25:46.848Z"
   },
   {
    "duration": 44,
    "start_time": "2022-09-28T15:25:46.855Z"
   },
   {
    "duration": 3,
    "start_time": "2022-09-28T15:25:46.901Z"
   },
   {
    "duration": 8,
    "start_time": "2022-09-28T15:25:46.905Z"
   },
   {
    "duration": 25,
    "start_time": "2022-09-28T15:25:46.915Z"
   },
   {
    "duration": 12,
    "start_time": "2022-09-28T15:25:46.941Z"
   },
   {
    "duration": 18,
    "start_time": "2022-09-28T15:25:46.955Z"
   },
   {
    "duration": 11,
    "start_time": "2022-09-28T15:25:46.974Z"
   },
   {
    "duration": 16,
    "start_time": "2022-09-28T15:25:46.987Z"
   },
   {
    "duration": 15,
    "start_time": "2022-09-28T15:25:47.004Z"
   },
   {
    "duration": 16,
    "start_time": "2022-09-28T15:25:47.020Z"
   },
   {
    "duration": 13,
    "start_time": "2022-09-28T15:25:47.038Z"
   },
   {
    "duration": 26,
    "start_time": "2022-09-28T15:25:47.052Z"
   },
   {
    "duration": 37,
    "start_time": "2022-09-28T15:25:47.080Z"
   },
   {
    "duration": 30,
    "start_time": "2022-09-28T15:25:47.119Z"
   },
   {
    "duration": 16,
    "start_time": "2022-09-28T15:25:47.150Z"
   },
   {
    "duration": 126,
    "start_time": "2022-09-28T15:25:47.167Z"
   },
   {
    "duration": 210,
    "start_time": "2022-09-28T15:25:58.816Z"
   },
   {
    "duration": 210,
    "start_time": "2022-09-28T15:26:07.992Z"
   },
   {
    "duration": 226,
    "start_time": "2022-09-28T15:27:01.984Z"
   },
   {
    "duration": 16,
    "start_time": "2022-09-28T15:30:57.701Z"
   },
   {
    "duration": 1518,
    "start_time": "2022-09-28T15:33:31.497Z"
   },
   {
    "duration": 42,
    "start_time": "2022-09-28T15:33:33.017Z"
   },
   {
    "duration": 15,
    "start_time": "2022-09-28T15:33:33.061Z"
   },
   {
    "duration": 18,
    "start_time": "2022-09-28T15:33:33.078Z"
   },
   {
    "duration": 47,
    "start_time": "2022-09-28T15:33:33.098Z"
   },
   {
    "duration": 6,
    "start_time": "2022-09-28T15:33:33.147Z"
   },
   {
    "duration": 6,
    "start_time": "2022-09-28T15:33:33.155Z"
   },
   {
    "duration": 31,
    "start_time": "2022-09-28T15:33:33.162Z"
   },
   {
    "duration": 4,
    "start_time": "2022-09-28T15:33:33.195Z"
   },
   {
    "duration": 5,
    "start_time": "2022-09-28T15:33:33.201Z"
   },
   {
    "duration": 5,
    "start_time": "2022-09-28T15:33:33.208Z"
   },
   {
    "duration": 8,
    "start_time": "2022-09-28T15:33:33.214Z"
   },
   {
    "duration": 7,
    "start_time": "2022-09-28T15:33:33.224Z"
   },
   {
    "duration": 11,
    "start_time": "2022-09-28T15:33:33.234Z"
   },
   {
    "duration": 8,
    "start_time": "2022-09-28T15:33:33.247Z"
   },
   {
    "duration": 53,
    "start_time": "2022-09-28T15:33:33.256Z"
   },
   {
    "duration": 4,
    "start_time": "2022-09-28T15:33:33.311Z"
   },
   {
    "duration": 10,
    "start_time": "2022-09-28T15:33:33.317Z"
   },
   {
    "duration": 8,
    "start_time": "2022-09-28T15:33:33.329Z"
   },
   {
    "duration": 6,
    "start_time": "2022-09-28T15:33:33.338Z"
   },
   {
    "duration": 5,
    "start_time": "2022-09-28T15:33:33.346Z"
   },
   {
    "duration": 37,
    "start_time": "2022-09-28T15:33:33.353Z"
   },
   {
    "duration": 4,
    "start_time": "2022-09-28T15:33:33.392Z"
   },
   {
    "duration": 15,
    "start_time": "2022-09-28T15:33:33.398Z"
   },
   {
    "duration": 5,
    "start_time": "2022-09-28T15:33:33.415Z"
   },
   {
    "duration": 10,
    "start_time": "2022-09-28T15:33:33.422Z"
   },
   {
    "duration": 11,
    "start_time": "2022-09-28T15:33:33.434Z"
   },
   {
    "duration": 21,
    "start_time": "2022-09-28T15:33:33.447Z"
   },
   {
    "duration": 10,
    "start_time": "2022-09-28T15:33:33.489Z"
   },
   {
    "duration": 6,
    "start_time": "2022-09-28T15:33:33.501Z"
   },
   {
    "duration": 228,
    "start_time": "2022-09-28T15:33:33.509Z"
   },
   {
    "duration": 1516,
    "start_time": "2022-09-28T15:38:23.349Z"
   },
   {
    "duration": 40,
    "start_time": "2022-09-28T15:38:24.868Z"
   },
   {
    "duration": 15,
    "start_time": "2022-09-28T15:38:24.910Z"
   },
   {
    "duration": 19,
    "start_time": "2022-09-28T15:38:24.927Z"
   },
   {
    "duration": 67,
    "start_time": "2022-09-28T15:38:24.948Z"
   },
   {
    "duration": 5,
    "start_time": "2022-09-28T15:38:25.016Z"
   },
   {
    "duration": 6,
    "start_time": "2022-09-28T15:38:25.023Z"
   },
   {
    "duration": 8,
    "start_time": "2022-09-28T15:38:25.031Z"
   },
   {
    "duration": 8,
    "start_time": "2022-09-28T15:38:25.040Z"
   },
   {
    "duration": 7,
    "start_time": "2022-09-28T15:38:25.049Z"
   },
   {
    "duration": 31,
    "start_time": "2022-09-28T15:38:25.058Z"
   },
   {
    "duration": 8,
    "start_time": "2022-09-28T15:38:25.092Z"
   },
   {
    "duration": 10,
    "start_time": "2022-09-28T15:38:25.102Z"
   },
   {
    "duration": 9,
    "start_time": "2022-09-28T15:38:25.116Z"
   },
   {
    "duration": 8,
    "start_time": "2022-09-28T15:38:25.127Z"
   },
   {
    "duration": 61,
    "start_time": "2022-09-28T15:38:25.137Z"
   },
   {
    "duration": 4,
    "start_time": "2022-09-28T15:38:25.200Z"
   },
   {
    "duration": 9,
    "start_time": "2022-09-28T15:38:25.206Z"
   },
   {
    "duration": 11,
    "start_time": "2022-09-28T15:38:25.217Z"
   },
   {
    "duration": 7,
    "start_time": "2022-09-28T15:38:25.230Z"
   },
   {
    "duration": 6,
    "start_time": "2022-09-28T15:38:25.238Z"
   },
   {
    "duration": 11,
    "start_time": "2022-09-28T15:38:25.246Z"
   },
   {
    "duration": 5,
    "start_time": "2022-09-28T15:38:25.289Z"
   },
   {
    "duration": 14,
    "start_time": "2022-09-28T15:38:25.296Z"
   },
   {
    "duration": 5,
    "start_time": "2022-09-28T15:38:25.313Z"
   },
   {
    "duration": 19,
    "start_time": "2022-09-28T15:38:25.320Z"
   },
   {
    "duration": 21,
    "start_time": "2022-09-28T15:38:25.341Z"
   },
   {
    "duration": 51,
    "start_time": "2022-09-28T15:38:25.364Z"
   },
   {
    "duration": 17,
    "start_time": "2022-09-28T15:38:25.417Z"
   },
   {
    "duration": 11,
    "start_time": "2022-09-28T15:38:25.436Z"
   },
   {
    "duration": 226,
    "start_time": "2022-09-28T15:38:25.449Z"
   },
   {
    "duration": 3,
    "start_time": "2022-09-28T15:38:43.807Z"
   },
   {
    "duration": 1425,
    "start_time": "2022-09-28T15:38:46.586Z"
   },
   {
    "duration": 43,
    "start_time": "2022-09-28T15:38:48.013Z"
   },
   {
    "duration": 14,
    "start_time": "2022-09-28T15:38:48.058Z"
   },
   {
    "duration": 22,
    "start_time": "2022-09-28T15:38:48.074Z"
   },
   {
    "duration": 42,
    "start_time": "2022-09-28T15:38:48.098Z"
   },
   {
    "duration": 5,
    "start_time": "2022-09-28T15:38:48.142Z"
   },
   {
    "duration": 11,
    "start_time": "2022-09-28T15:38:48.149Z"
   },
   {
    "duration": 27,
    "start_time": "2022-09-28T15:38:48.162Z"
   },
   {
    "duration": 3,
    "start_time": "2022-09-28T15:38:48.192Z"
   },
   {
    "duration": 8,
    "start_time": "2022-09-28T15:38:48.198Z"
   },
   {
    "duration": 8,
    "start_time": "2022-09-28T15:38:48.208Z"
   },
   {
    "duration": 12,
    "start_time": "2022-09-28T15:38:48.218Z"
   },
   {
    "duration": 15,
    "start_time": "2022-09-28T15:38:48.232Z"
   },
   {
    "duration": 13,
    "start_time": "2022-09-28T15:38:48.249Z"
   },
   {
    "duration": 8,
    "start_time": "2022-09-28T15:38:48.263Z"
   },
   {
    "duration": 40,
    "start_time": "2022-09-28T15:38:48.273Z"
   },
   {
    "duration": 4,
    "start_time": "2022-09-28T15:38:48.315Z"
   },
   {
    "duration": 6,
    "start_time": "2022-09-28T15:38:48.320Z"
   },
   {
    "duration": 8,
    "start_time": "2022-09-28T15:38:48.328Z"
   },
   {
    "duration": 6,
    "start_time": "2022-09-28T15:38:48.338Z"
   },
   {
    "duration": 5,
    "start_time": "2022-09-28T15:38:48.345Z"
   },
   {
    "duration": 40,
    "start_time": "2022-09-28T15:38:48.352Z"
   },
   {
    "duration": 13,
    "start_time": "2022-09-28T15:38:48.394Z"
   },
   {
    "duration": 9,
    "start_time": "2022-09-28T15:38:48.408Z"
   },
   {
    "duration": 10,
    "start_time": "2022-09-28T15:38:48.418Z"
   },
   {
    "duration": 8,
    "start_time": "2022-09-28T15:38:48.430Z"
   },
   {
    "duration": 20,
    "start_time": "2022-09-28T15:38:48.440Z"
   },
   {
    "duration": 49,
    "start_time": "2022-09-28T15:38:48.465Z"
   },
   {
    "duration": 13,
    "start_time": "2022-09-28T15:38:48.516Z"
   },
   {
    "duration": 7,
    "start_time": "2022-09-28T15:38:48.531Z"
   },
   {
    "duration": 231,
    "start_time": "2022-09-28T15:38:48.539Z"
   },
   {
    "duration": 6,
    "start_time": "2022-09-28T15:39:15.120Z"
   },
   {
    "duration": 117,
    "start_time": "2022-09-28T15:40:05.622Z"
   },
   {
    "duration": 1665,
    "start_time": "2022-09-28T15:40:12.369Z"
   },
   {
    "duration": 41,
    "start_time": "2022-09-28T15:40:14.036Z"
   },
   {
    "duration": 13,
    "start_time": "2022-09-28T15:40:14.078Z"
   },
   {
    "duration": 26,
    "start_time": "2022-09-28T15:40:14.093Z"
   },
   {
    "duration": 48,
    "start_time": "2022-09-28T15:40:14.122Z"
   },
   {
    "duration": 6,
    "start_time": "2022-09-28T15:40:14.171Z"
   },
   {
    "duration": 26,
    "start_time": "2022-09-28T15:40:14.178Z"
   },
   {
    "duration": 25,
    "start_time": "2022-09-28T15:40:14.206Z"
   },
   {
    "duration": 10,
    "start_time": "2022-09-28T15:40:14.232Z"
   },
   {
    "duration": 28,
    "start_time": "2022-09-28T15:40:14.243Z"
   },
   {
    "duration": 17,
    "start_time": "2022-09-28T15:40:14.273Z"
   },
   {
    "duration": 23,
    "start_time": "2022-09-28T15:40:14.291Z"
   },
   {
    "duration": 22,
    "start_time": "2022-09-28T15:40:14.316Z"
   },
   {
    "duration": 9,
    "start_time": "2022-09-28T15:40:14.341Z"
   },
   {
    "duration": 22,
    "start_time": "2022-09-28T15:40:14.352Z"
   },
   {
    "duration": 32,
    "start_time": "2022-09-28T15:40:14.376Z"
   },
   {
    "duration": 10,
    "start_time": "2022-09-28T15:40:14.410Z"
   },
   {
    "duration": 23,
    "start_time": "2022-09-28T15:40:14.421Z"
   },
   {
    "duration": 8,
    "start_time": "2022-09-28T15:40:14.446Z"
   },
   {
    "duration": 20,
    "start_time": "2022-09-28T15:40:14.455Z"
   },
   {
    "duration": 19,
    "start_time": "2022-09-28T15:40:14.477Z"
   },
   {
    "duration": 18,
    "start_time": "2022-09-28T15:40:14.498Z"
   },
   {
    "duration": 24,
    "start_time": "2022-09-28T15:40:14.518Z"
   },
   {
    "duration": 14,
    "start_time": "2022-09-28T15:40:14.544Z"
   },
   {
    "duration": 15,
    "start_time": "2022-09-28T15:40:14.559Z"
   },
   {
    "duration": 33,
    "start_time": "2022-09-28T15:40:14.575Z"
   },
   {
    "duration": 23,
    "start_time": "2022-09-28T15:40:14.610Z"
   },
   {
    "duration": 25,
    "start_time": "2022-09-28T15:40:14.634Z"
   },
   {
    "duration": 9,
    "start_time": "2022-09-28T15:40:14.660Z"
   },
   {
    "duration": 17,
    "start_time": "2022-09-28T15:40:14.670Z"
   },
   {
    "duration": 212,
    "start_time": "2022-09-28T15:40:14.689Z"
   },
   {
    "duration": 4,
    "start_time": "2022-09-28T15:40:14.902Z"
   },
   {
    "duration": 27,
    "start_time": "2022-09-28T15:40:14.908Z"
   },
   {
    "duration": 206,
    "start_time": "2022-09-28T15:44:01.520Z"
   },
   {
    "duration": 206,
    "start_time": "2022-09-28T15:44:35.475Z"
   },
   {
    "duration": 1524,
    "start_time": "2022-09-28T15:46:51.809Z"
   },
   {
    "duration": 49,
    "start_time": "2022-09-28T15:46:53.336Z"
   },
   {
    "duration": 24,
    "start_time": "2022-09-28T15:46:53.387Z"
   },
   {
    "duration": 19,
    "start_time": "2022-09-28T15:46:53.413Z"
   },
   {
    "duration": 55,
    "start_time": "2022-09-28T15:46:53.435Z"
   },
   {
    "duration": 5,
    "start_time": "2022-09-28T15:46:53.492Z"
   },
   {
    "duration": 7,
    "start_time": "2022-09-28T15:46:53.499Z"
   },
   {
    "duration": 10,
    "start_time": "2022-09-28T15:46:53.508Z"
   },
   {
    "duration": 5,
    "start_time": "2022-09-28T15:46:53.520Z"
   },
   {
    "duration": 7,
    "start_time": "2022-09-28T15:46:53.527Z"
   },
   {
    "duration": 5,
    "start_time": "2022-09-28T15:46:53.536Z"
   },
   {
    "duration": 15,
    "start_time": "2022-09-28T15:46:53.544Z"
   },
   {
    "duration": 31,
    "start_time": "2022-09-28T15:46:53.561Z"
   },
   {
    "duration": 8,
    "start_time": "2022-09-28T15:46:53.595Z"
   },
   {
    "duration": 7,
    "start_time": "2022-09-28T15:46:53.605Z"
   },
   {
    "duration": 31,
    "start_time": "2022-09-28T15:46:53.613Z"
   },
   {
    "duration": 4,
    "start_time": "2022-09-28T15:46:53.646Z"
   },
   {
    "duration": 7,
    "start_time": "2022-09-28T15:46:53.652Z"
   },
   {
    "duration": 31,
    "start_time": "2022-09-28T15:46:53.660Z"
   },
   {
    "duration": 6,
    "start_time": "2022-09-28T15:46:53.693Z"
   },
   {
    "duration": 7,
    "start_time": "2022-09-28T15:46:53.700Z"
   },
   {
    "duration": 11,
    "start_time": "2022-09-28T15:46:53.709Z"
   },
   {
    "duration": 5,
    "start_time": "2022-09-28T15:46:53.722Z"
   },
   {
    "duration": 10,
    "start_time": "2022-09-28T15:46:53.729Z"
   },
   {
    "duration": 12,
    "start_time": "2022-09-28T15:46:53.741Z"
   },
   {
    "duration": 8,
    "start_time": "2022-09-28T15:46:53.754Z"
   },
   {
    "duration": 35,
    "start_time": "2022-09-28T15:46:53.763Z"
   },
   {
    "duration": 18,
    "start_time": "2022-09-28T15:46:53.800Z"
   },
   {
    "duration": 12,
    "start_time": "2022-09-28T15:46:53.820Z"
   },
   {
    "duration": 7,
    "start_time": "2022-09-28T15:46:53.834Z"
   },
   {
    "duration": 251,
    "start_time": "2022-09-28T15:46:53.843Z"
   },
   {
    "duration": 213,
    "start_time": "2022-09-28T15:47:28.598Z"
   },
   {
    "duration": 200,
    "start_time": "2022-09-28T15:48:04.311Z"
   },
   {
    "duration": 208,
    "start_time": "2022-09-28T15:48:13.729Z"
   },
   {
    "duration": 205,
    "start_time": "2022-09-28T15:48:18.999Z"
   },
   {
    "duration": 198,
    "start_time": "2022-09-28T15:48:23.241Z"
   },
   {
    "duration": 222,
    "start_time": "2022-09-28T15:48:28.232Z"
   },
   {
    "duration": 208,
    "start_time": "2022-09-28T15:48:33.562Z"
   },
   {
    "duration": 189,
    "start_time": "2022-09-28T15:48:39.892Z"
   },
   {
    "duration": 198,
    "start_time": "2022-09-28T15:48:46.463Z"
   },
   {
    "duration": 201,
    "start_time": "2022-09-28T15:48:51.130Z"
   },
   {
    "duration": 225,
    "start_time": "2022-09-28T15:50:21.906Z"
   },
   {
    "duration": 209,
    "start_time": "2022-09-28T15:50:27.382Z"
   },
   {
    "duration": 313,
    "start_time": "2022-09-28T15:50:33.477Z"
   },
   {
    "duration": 1315,
    "start_time": "2022-09-28T15:50:39.756Z"
   },
   {
    "duration": 2758,
    "start_time": "2022-09-28T15:50:53.688Z"
   },
   {
    "duration": 17,
    "start_time": "2022-09-28T15:51:04.618Z"
   },
   {
    "duration": 29,
    "start_time": "2022-09-28T15:51:12.653Z"
   },
   {
    "duration": 243,
    "start_time": "2022-09-28T15:51:17.358Z"
   },
   {
    "duration": 195,
    "start_time": "2022-09-28T15:51:23.879Z"
   },
   {
    "duration": 109,
    "start_time": "2022-09-28T15:54:26.529Z"
   },
   {
    "duration": 13,
    "start_time": "2022-09-28T15:54:50.398Z"
   },
   {
    "duration": 1457,
    "start_time": "2022-09-28T15:54:53.675Z"
   },
   {
    "duration": 42,
    "start_time": "2022-09-28T15:54:55.134Z"
   },
   {
    "duration": 14,
    "start_time": "2022-09-28T15:54:55.178Z"
   },
   {
    "duration": 30,
    "start_time": "2022-09-28T15:54:55.194Z"
   },
   {
    "duration": 53,
    "start_time": "2022-09-28T15:54:55.226Z"
   },
   {
    "duration": 9,
    "start_time": "2022-09-28T15:54:55.280Z"
   },
   {
    "duration": 12,
    "start_time": "2022-09-28T15:54:55.291Z"
   },
   {
    "duration": 23,
    "start_time": "2022-09-28T15:54:55.304Z"
   },
   {
    "duration": 9,
    "start_time": "2022-09-28T15:54:55.329Z"
   },
   {
    "duration": 20,
    "start_time": "2022-09-28T15:54:55.339Z"
   },
   {
    "duration": 26,
    "start_time": "2022-09-28T15:54:55.361Z"
   },
   {
    "duration": 25,
    "start_time": "2022-09-28T15:54:55.389Z"
   },
   {
    "duration": 11,
    "start_time": "2022-09-28T15:54:55.416Z"
   },
   {
    "duration": 11,
    "start_time": "2022-09-28T15:54:55.430Z"
   },
   {
    "duration": 10,
    "start_time": "2022-09-28T15:54:55.443Z"
   },
   {
    "duration": 32,
    "start_time": "2022-09-28T15:54:55.455Z"
   },
   {
    "duration": 4,
    "start_time": "2022-09-28T15:54:55.488Z"
   },
   {
    "duration": 22,
    "start_time": "2022-09-28T15:54:55.494Z"
   },
   {
    "duration": 23,
    "start_time": "2022-09-28T15:54:55.518Z"
   },
   {
    "duration": 9,
    "start_time": "2022-09-28T15:54:55.543Z"
   },
   {
    "duration": 21,
    "start_time": "2022-09-28T15:54:55.553Z"
   },
   {
    "duration": 14,
    "start_time": "2022-09-28T15:54:55.575Z"
   },
   {
    "duration": 22,
    "start_time": "2022-09-28T15:54:55.591Z"
   },
   {
    "duration": 19,
    "start_time": "2022-09-28T15:54:55.614Z"
   },
   {
    "duration": 16,
    "start_time": "2022-09-28T15:54:55.635Z"
   },
   {
    "duration": 28,
    "start_time": "2022-09-28T15:54:55.652Z"
   },
   {
    "duration": 17,
    "start_time": "2022-09-28T15:54:55.681Z"
   },
   {
    "duration": 32,
    "start_time": "2022-09-28T15:54:55.700Z"
   },
   {
    "duration": 29,
    "start_time": "2022-09-28T15:54:55.733Z"
   },
   {
    "duration": 10,
    "start_time": "2022-09-28T15:54:55.764Z"
   },
   {
    "duration": 197,
    "start_time": "2022-09-28T15:54:55.776Z"
   },
   {
    "duration": 7920,
    "start_time": "2022-09-28T15:54:55.975Z"
   },
   {
    "duration": 8424,
    "start_time": "2022-09-28T15:56:54.183Z"
   },
   {
    "duration": 1613,
    "start_time": "2022-09-28T17:13:55.170Z"
   },
   {
    "duration": 41,
    "start_time": "2022-09-28T17:13:56.785Z"
   },
   {
    "duration": 14,
    "start_time": "2022-09-28T17:13:56.830Z"
   },
   {
    "duration": 18,
    "start_time": "2022-09-28T17:13:56.846Z"
   },
   {
    "duration": 44,
    "start_time": "2022-09-28T17:13:56.866Z"
   },
   {
    "duration": 5,
    "start_time": "2022-09-28T17:13:56.912Z"
   },
   {
    "duration": 8,
    "start_time": "2022-09-28T17:13:56.919Z"
   },
   {
    "duration": 9,
    "start_time": "2022-09-28T17:13:56.929Z"
   },
   {
    "duration": 5,
    "start_time": "2022-09-28T17:13:56.940Z"
   },
   {
    "duration": 8,
    "start_time": "2022-09-28T17:13:56.947Z"
   },
   {
    "duration": 6,
    "start_time": "2022-09-28T17:13:56.957Z"
   },
   {
    "duration": 25,
    "start_time": "2022-09-28T17:13:56.965Z"
   },
   {
    "duration": 6,
    "start_time": "2022-09-28T17:13:56.992Z"
   },
   {
    "duration": 9,
    "start_time": "2022-09-28T17:13:57.000Z"
   },
   {
    "duration": 6,
    "start_time": "2022-09-28T17:13:57.011Z"
   },
   {
    "duration": 22,
    "start_time": "2022-09-28T17:13:57.018Z"
   },
   {
    "duration": 3,
    "start_time": "2022-09-28T17:13:57.042Z"
   },
   {
    "duration": 7,
    "start_time": "2022-09-28T17:13:57.047Z"
   },
   {
    "duration": 34,
    "start_time": "2022-09-28T17:13:57.056Z"
   },
   {
    "duration": 5,
    "start_time": "2022-09-28T17:13:57.092Z"
   },
   {
    "duration": 6,
    "start_time": "2022-09-28T17:13:57.098Z"
   },
   {
    "duration": 11,
    "start_time": "2022-09-28T17:13:57.106Z"
   },
   {
    "duration": 6,
    "start_time": "2022-09-28T17:13:57.119Z"
   },
   {
    "duration": 10,
    "start_time": "2022-09-28T17:13:57.127Z"
   },
   {
    "duration": 8,
    "start_time": "2022-09-28T17:13:57.138Z"
   },
   {
    "duration": 8,
    "start_time": "2022-09-28T17:13:57.147Z"
   },
   {
    "duration": 15,
    "start_time": "2022-09-28T17:13:57.156Z"
   },
   {
    "duration": 19,
    "start_time": "2022-09-28T17:13:57.188Z"
   },
   {
    "duration": 9,
    "start_time": "2022-09-28T17:13:57.209Z"
   },
   {
    "duration": 6,
    "start_time": "2022-09-28T17:13:57.220Z"
   },
   {
    "duration": 222,
    "start_time": "2022-09-28T17:13:57.228Z"
   },
   {
    "duration": 8714,
    "start_time": "2022-09-28T17:13:57.452Z"
   },
   {
    "duration": 9445,
    "start_time": "2022-09-28T17:18:50.751Z"
   },
   {
    "duration": 9296,
    "start_time": "2022-09-28T17:19:24.425Z"
   },
   {
    "duration": 200,
    "start_time": "2022-09-28T17:24:20.961Z"
   },
   {
    "duration": 559,
    "start_time": "2022-09-28T17:25:09.049Z"
   },
   {
    "duration": 1233,
    "start_time": "2022-09-28T17:27:03.074Z"
   },
   {
    "duration": 3,
    "start_time": "2022-09-28T17:29:28.785Z"
   },
   {
    "duration": 1446,
    "start_time": "2022-09-28T17:30:26.767Z"
   },
   {
    "duration": 1485,
    "start_time": "2022-09-28T17:31:07.214Z"
   },
   {
    "duration": 122,
    "start_time": "2022-09-28T17:35:14.764Z"
   },
   {
    "duration": 1991,
    "start_time": "2022-09-28T17:35:24.263Z"
   },
   {
    "duration": 47,
    "start_time": "2022-09-28T17:35:26.256Z"
   },
   {
    "duration": 13,
    "start_time": "2022-09-28T17:35:26.305Z"
   },
   {
    "duration": 25,
    "start_time": "2022-09-28T17:35:26.319Z"
   },
   {
    "duration": 59,
    "start_time": "2022-09-28T17:35:26.346Z"
   },
   {
    "duration": 4,
    "start_time": "2022-09-28T17:35:26.407Z"
   },
   {
    "duration": 6,
    "start_time": "2022-09-28T17:35:26.413Z"
   },
   {
    "duration": 7,
    "start_time": "2022-09-28T17:35:26.420Z"
   },
   {
    "duration": 6,
    "start_time": "2022-09-28T17:35:26.428Z"
   },
   {
    "duration": 6,
    "start_time": "2022-09-28T17:35:26.436Z"
   },
   {
    "duration": 8,
    "start_time": "2022-09-28T17:35:26.443Z"
   },
   {
    "duration": 9,
    "start_time": "2022-09-28T17:35:26.453Z"
   },
   {
    "duration": 24,
    "start_time": "2022-09-28T17:35:26.464Z"
   },
   {
    "duration": 11,
    "start_time": "2022-09-28T17:35:26.492Z"
   },
   {
    "duration": 10,
    "start_time": "2022-09-28T17:35:26.506Z"
   },
   {
    "duration": 19,
    "start_time": "2022-09-28T17:35:26.518Z"
   },
   {
    "duration": 4,
    "start_time": "2022-09-28T17:35:26.539Z"
   },
   {
    "duration": 10,
    "start_time": "2022-09-28T17:35:26.545Z"
   },
   {
    "duration": 9,
    "start_time": "2022-09-28T17:35:26.557Z"
   },
   {
    "duration": 7,
    "start_time": "2022-09-28T17:35:26.589Z"
   },
   {
    "duration": 12,
    "start_time": "2022-09-28T17:35:26.600Z"
   },
   {
    "duration": 11,
    "start_time": "2022-09-28T17:35:26.615Z"
   },
   {
    "duration": 4,
    "start_time": "2022-09-28T17:35:26.627Z"
   },
   {
    "duration": 8,
    "start_time": "2022-09-28T17:35:26.633Z"
   },
   {
    "duration": 6,
    "start_time": "2022-09-28T17:35:26.643Z"
   },
   {
    "duration": 11,
    "start_time": "2022-09-28T17:35:26.651Z"
   },
   {
    "duration": 28,
    "start_time": "2022-09-28T17:35:26.664Z"
   },
   {
    "duration": 21,
    "start_time": "2022-09-28T17:35:26.697Z"
   },
   {
    "duration": 9,
    "start_time": "2022-09-28T17:35:26.720Z"
   },
   {
    "duration": 6,
    "start_time": "2022-09-28T17:35:26.731Z"
   },
   {
    "duration": 194,
    "start_time": "2022-09-28T17:35:26.739Z"
   },
   {
    "duration": 8839,
    "start_time": "2022-09-28T17:35:26.934Z"
   },
   {
    "duration": 2832,
    "start_time": "2022-09-28T17:35:35.775Z"
   },
   {
    "duration": 9433,
    "start_time": "2022-09-28T17:40:18.674Z"
   },
   {
    "duration": 9933,
    "start_time": "2022-09-28T17:40:37.573Z"
   },
   {
    "duration": 10192,
    "start_time": "2022-09-28T17:40:56.815Z"
   },
   {
    "duration": 9388,
    "start_time": "2022-09-28T17:41:13.882Z"
   },
   {
    "duration": 9428,
    "start_time": "2022-09-28T17:41:29.607Z"
   },
   {
    "duration": 9522,
    "start_time": "2022-09-28T17:41:50.644Z"
   },
   {
    "duration": 10283,
    "start_time": "2022-09-28T17:42:07.658Z"
   },
   {
    "duration": 8942,
    "start_time": "2022-09-28T17:42:31.755Z"
   },
   {
    "duration": 7983,
    "start_time": "2022-09-28T17:42:47.274Z"
   },
   {
    "duration": 10694,
    "start_time": "2022-09-28T17:43:02.083Z"
   },
   {
    "duration": 10240,
    "start_time": "2022-09-28T17:43:36.733Z"
   },
   {
    "duration": 191,
    "start_time": "2022-09-28T17:43:56.721Z"
   },
   {
    "duration": 211,
    "start_time": "2022-09-28T17:44:05.345Z"
   },
   {
    "duration": 210,
    "start_time": "2022-09-28T17:44:12.200Z"
   },
   {
    "duration": 189,
    "start_time": "2022-09-28T17:44:17.251Z"
   },
   {
    "duration": 215,
    "start_time": "2022-09-28T17:44:22.010Z"
   },
   {
    "duration": 170,
    "start_time": "2022-09-28T17:44:26.312Z"
   },
   {
    "duration": 167,
    "start_time": "2022-09-28T17:44:31.505Z"
   },
   {
    "duration": 224,
    "start_time": "2022-09-28T17:44:37.482Z"
   },
   {
    "duration": 1495,
    "start_time": "2022-09-28T17:46:18.410Z"
   },
   {
    "duration": 1563,
    "start_time": "2022-09-28T17:46:46.532Z"
   },
   {
    "duration": 926,
    "start_time": "2022-09-28T17:46:56.586Z"
   },
   {
    "duration": 1139,
    "start_time": "2022-09-28T17:47:01.651Z"
   },
   {
    "duration": 1471,
    "start_time": "2022-09-28T17:47:21.434Z"
   },
   {
    "duration": 985,
    "start_time": "2022-09-28T18:37:26.105Z"
   },
   {
    "duration": 1134,
    "start_time": "2022-09-28T18:38:35.671Z"
   },
   {
    "duration": 59,
    "start_time": "2022-09-28T18:40:45.061Z"
   },
   {
    "duration": 1043,
    "start_time": "2022-09-28T18:40:59.472Z"
   },
   {
    "duration": 9680,
    "start_time": "2022-09-28T18:41:30.389Z"
   },
   {
    "duration": 189,
    "start_time": "2022-09-28T18:41:51.440Z"
   },
   {
    "duration": 175,
    "start_time": "2022-09-28T18:42:01.207Z"
   },
   {
    "duration": 9847,
    "start_time": "2022-09-28T18:42:09.472Z"
   },
   {
    "duration": 752,
    "start_time": "2022-09-28T18:42:32.554Z"
   },
   {
    "duration": 1600,
    "start_time": "2022-09-28T18:43:41.546Z"
   },
   {
    "duration": 40,
    "start_time": "2022-09-28T18:43:43.148Z"
   },
   {
    "duration": 17,
    "start_time": "2022-09-28T18:43:43.199Z"
   },
   {
    "duration": 19,
    "start_time": "2022-09-28T18:43:43.218Z"
   },
   {
    "duration": 40,
    "start_time": "2022-09-28T18:43:43.238Z"
   },
   {
    "duration": 17,
    "start_time": "2022-09-28T18:43:43.288Z"
   },
   {
    "duration": 7,
    "start_time": "2022-09-28T18:43:43.307Z"
   },
   {
    "duration": 6,
    "start_time": "2022-09-28T18:43:43.316Z"
   },
   {
    "duration": 7,
    "start_time": "2022-09-28T18:43:43.323Z"
   },
   {
    "duration": 5,
    "start_time": "2022-09-28T18:43:43.332Z"
   },
   {
    "duration": 6,
    "start_time": "2022-09-28T18:43:43.339Z"
   },
   {
    "duration": 9,
    "start_time": "2022-09-28T18:43:43.346Z"
   },
   {
    "duration": 16,
    "start_time": "2022-09-28T18:43:43.357Z"
   },
   {
    "duration": 21,
    "start_time": "2022-09-28T18:43:43.376Z"
   },
   {
    "duration": 23,
    "start_time": "2022-09-28T18:43:43.399Z"
   },
   {
    "duration": 19,
    "start_time": "2022-09-28T18:43:43.424Z"
   },
   {
    "duration": 4,
    "start_time": "2022-09-28T18:43:43.444Z"
   },
   {
    "duration": 10,
    "start_time": "2022-09-28T18:43:43.449Z"
   },
   {
    "duration": 14,
    "start_time": "2022-09-28T18:43:43.461Z"
   },
   {
    "duration": 28,
    "start_time": "2022-09-28T18:43:43.476Z"
   },
   {
    "duration": 5,
    "start_time": "2022-09-28T18:43:43.506Z"
   },
   {
    "duration": 7,
    "start_time": "2022-09-28T18:43:43.513Z"
   },
   {
    "duration": 4,
    "start_time": "2022-09-28T18:43:43.522Z"
   },
   {
    "duration": 9,
    "start_time": "2022-09-28T18:43:43.527Z"
   },
   {
    "duration": 8,
    "start_time": "2022-09-28T18:43:43.537Z"
   },
   {
    "duration": 8,
    "start_time": "2022-09-28T18:43:43.546Z"
   },
   {
    "duration": 15,
    "start_time": "2022-09-28T18:43:43.556Z"
   },
   {
    "duration": 33,
    "start_time": "2022-09-28T18:43:43.573Z"
   },
   {
    "duration": 13,
    "start_time": "2022-09-28T18:43:43.608Z"
   },
   {
    "duration": 8,
    "start_time": "2022-09-28T18:43:43.622Z"
   },
   {
    "duration": 219,
    "start_time": "2022-09-28T18:43:43.632Z"
   },
   {
    "duration": 9416,
    "start_time": "2022-09-28T18:43:43.853Z"
   },
   {
    "duration": 1139,
    "start_time": "2022-09-28T18:43:53.271Z"
   },
   {
    "duration": 1337,
    "start_time": "2022-09-28T19:42:37.619Z"
   },
   {
    "duration": 1519,
    "start_time": "2022-09-28T19:42:43.781Z"
   },
   {
    "duration": 40,
    "start_time": "2022-09-28T19:42:45.305Z"
   },
   {
    "duration": 12,
    "start_time": "2022-09-28T19:42:45.347Z"
   },
   {
    "duration": 22,
    "start_time": "2022-09-28T19:42:45.361Z"
   },
   {
    "duration": 46,
    "start_time": "2022-09-28T19:42:45.385Z"
   },
   {
    "duration": 4,
    "start_time": "2022-09-28T19:42:45.433Z"
   },
   {
    "duration": 7,
    "start_time": "2022-09-28T19:42:45.439Z"
   },
   {
    "duration": 7,
    "start_time": "2022-09-28T19:42:45.447Z"
   },
   {
    "duration": 5,
    "start_time": "2022-09-28T19:42:45.455Z"
   },
   {
    "duration": 6,
    "start_time": "2022-09-28T19:42:45.462Z"
   },
   {
    "duration": 7,
    "start_time": "2022-09-28T19:42:45.491Z"
   },
   {
    "duration": 12,
    "start_time": "2022-09-28T19:42:45.503Z"
   },
   {
    "duration": 5,
    "start_time": "2022-09-28T19:42:45.517Z"
   },
   {
    "duration": 6,
    "start_time": "2022-09-28T19:42:45.525Z"
   },
   {
    "duration": 7,
    "start_time": "2022-09-28T19:42:45.533Z"
   },
   {
    "duration": 19,
    "start_time": "2022-09-28T19:42:45.541Z"
   },
   {
    "duration": 5,
    "start_time": "2022-09-28T19:42:45.561Z"
   },
   {
    "duration": 27,
    "start_time": "2022-09-28T19:42:45.567Z"
   },
   {
    "duration": 9,
    "start_time": "2022-09-28T19:42:45.596Z"
   },
   {
    "duration": 8,
    "start_time": "2022-09-28T19:42:45.609Z"
   },
   {
    "duration": 9,
    "start_time": "2022-09-28T19:42:45.618Z"
   },
   {
    "duration": 8,
    "start_time": "2022-09-28T19:42:45.629Z"
   },
   {
    "duration": 4,
    "start_time": "2022-09-28T19:42:45.638Z"
   },
   {
    "duration": 9,
    "start_time": "2022-09-28T19:42:45.644Z"
   },
   {
    "duration": 5,
    "start_time": "2022-09-28T19:42:45.655Z"
   },
   {
    "duration": 40,
    "start_time": "2022-09-28T19:42:45.661Z"
   },
   {
    "duration": 11,
    "start_time": "2022-09-28T19:42:45.703Z"
   },
   {
    "duration": 16,
    "start_time": "2022-09-28T19:42:45.716Z"
   },
   {
    "duration": 11,
    "start_time": "2022-09-28T19:42:45.734Z"
   },
   {
    "duration": 9,
    "start_time": "2022-09-28T19:42:45.747Z"
   },
   {
    "duration": 186,
    "start_time": "2022-09-28T19:42:45.758Z"
   },
   {
    "duration": 9529,
    "start_time": "2022-09-28T19:42:45.946Z"
   },
   {
    "duration": 934,
    "start_time": "2022-09-28T19:42:55.477Z"
   },
   {
    "duration": 1566,
    "start_time": "2022-09-28T19:43:43.087Z"
   },
   {
    "duration": 52,
    "start_time": "2022-09-28T19:43:44.656Z"
   },
   {
    "duration": 17,
    "start_time": "2022-09-28T19:43:44.710Z"
   },
   {
    "duration": 21,
    "start_time": "2022-09-28T19:43:44.729Z"
   },
   {
    "duration": 63,
    "start_time": "2022-09-28T19:43:44.752Z"
   },
   {
    "duration": 6,
    "start_time": "2022-09-28T19:43:44.816Z"
   },
   {
    "duration": 9,
    "start_time": "2022-09-28T19:43:44.824Z"
   },
   {
    "duration": 19,
    "start_time": "2022-09-28T19:43:44.835Z"
   },
   {
    "duration": 12,
    "start_time": "2022-09-28T19:43:44.856Z"
   },
   {
    "duration": 22,
    "start_time": "2022-09-28T19:43:44.870Z"
   },
   {
    "duration": 31,
    "start_time": "2022-09-28T19:43:44.900Z"
   },
   {
    "duration": 31,
    "start_time": "2022-09-28T19:43:44.933Z"
   },
   {
    "duration": 28,
    "start_time": "2022-09-28T19:43:44.966Z"
   },
   {
    "duration": 36,
    "start_time": "2022-09-28T19:43:44.997Z"
   },
   {
    "duration": 26,
    "start_time": "2022-09-28T19:43:45.035Z"
   },
   {
    "duration": 44,
    "start_time": "2022-09-28T19:43:45.064Z"
   },
   {
    "duration": 5,
    "start_time": "2022-09-28T19:43:45.110Z"
   },
   {
    "duration": 20,
    "start_time": "2022-09-28T19:43:45.117Z"
   },
   {
    "duration": 20,
    "start_time": "2022-09-28T19:43:45.139Z"
   },
   {
    "duration": 14,
    "start_time": "2022-09-28T19:43:45.161Z"
   },
   {
    "duration": 13,
    "start_time": "2022-09-28T19:43:45.177Z"
   },
   {
    "duration": 42,
    "start_time": "2022-09-28T19:43:45.192Z"
   },
   {
    "duration": 21,
    "start_time": "2022-09-28T19:43:45.236Z"
   },
   {
    "duration": 12,
    "start_time": "2022-09-28T19:43:45.259Z"
   },
   {
    "duration": 12,
    "start_time": "2022-09-28T19:43:45.273Z"
   },
   {
    "duration": 40,
    "start_time": "2022-09-28T19:43:45.287Z"
   },
   {
    "duration": 24,
    "start_time": "2022-09-28T19:43:45.329Z"
   },
   {
    "duration": 23,
    "start_time": "2022-09-28T19:43:45.356Z"
   },
   {
    "duration": 26,
    "start_time": "2022-09-28T19:43:45.382Z"
   },
   {
    "duration": 30,
    "start_time": "2022-09-28T19:43:45.410Z"
   },
   {
    "duration": 184,
    "start_time": "2022-09-28T19:43:45.442Z"
   },
   {
    "duration": 9441,
    "start_time": "2022-09-28T19:43:45.629Z"
   },
   {
    "duration": 1139,
    "start_time": "2022-09-28T19:43:55.071Z"
   },
   {
    "duration": 4,
    "start_time": "2022-09-28T20:27:00.014Z"
   },
   {
    "duration": 1464,
    "start_time": "2022-09-28T20:27:05.084Z"
   },
   {
    "duration": 49,
    "start_time": "2022-09-28T20:27:06.550Z"
   },
   {
    "duration": 22,
    "start_time": "2022-09-28T20:27:06.604Z"
   },
   {
    "duration": 17,
    "start_time": "2022-09-28T20:27:06.628Z"
   },
   {
    "duration": 56,
    "start_time": "2022-09-28T20:27:06.647Z"
   },
   {
    "duration": 6,
    "start_time": "2022-09-28T20:27:06.712Z"
   },
   {
    "duration": 4,
    "start_time": "2022-09-28T20:27:06.720Z"
   },
   {
    "duration": 13,
    "start_time": "2022-09-28T20:27:06.725Z"
   },
   {
    "duration": 3,
    "start_time": "2022-09-28T20:27:06.740Z"
   },
   {
    "duration": 7,
    "start_time": "2022-09-28T20:27:06.744Z"
   },
   {
    "duration": 5,
    "start_time": "2022-09-28T20:27:06.752Z"
   },
   {
    "duration": 11,
    "start_time": "2022-09-28T20:27:06.758Z"
   },
   {
    "duration": 7,
    "start_time": "2022-09-28T20:27:06.770Z"
   },
   {
    "duration": 17,
    "start_time": "2022-09-28T20:27:06.780Z"
   },
   {
    "duration": 24,
    "start_time": "2022-09-28T20:27:06.799Z"
   },
   {
    "duration": 19,
    "start_time": "2022-09-28T20:27:06.824Z"
   },
   {
    "duration": 4,
    "start_time": "2022-09-28T20:27:06.844Z"
   },
   {
    "duration": 5,
    "start_time": "2022-09-28T20:27:06.849Z"
   },
   {
    "duration": 8,
    "start_time": "2022-09-28T20:27:06.856Z"
   },
   {
    "duration": 10,
    "start_time": "2022-09-28T20:27:06.865Z"
   },
   {
    "duration": 6,
    "start_time": "2022-09-28T20:27:06.876Z"
   },
   {
    "duration": 12,
    "start_time": "2022-09-28T20:27:06.883Z"
   },
   {
    "duration": 27,
    "start_time": "2022-09-28T20:27:06.896Z"
   },
   {
    "duration": 9,
    "start_time": "2022-09-28T20:27:06.924Z"
   },
   {
    "duration": 4,
    "start_time": "2022-09-28T20:27:06.935Z"
   },
   {
    "duration": 8,
    "start_time": "2022-09-28T20:27:06.941Z"
   },
   {
    "duration": 16,
    "start_time": "2022-09-28T20:27:06.950Z"
   },
   {
    "duration": 16,
    "start_time": "2022-09-28T20:27:06.967Z"
   },
   {
    "duration": 16,
    "start_time": "2022-09-28T20:27:06.984Z"
   },
   {
    "duration": 23,
    "start_time": "2022-09-28T20:27:07.002Z"
   },
   {
    "duration": 160,
    "start_time": "2022-09-28T20:27:07.027Z"
   },
   {
    "duration": 9830,
    "start_time": "2022-09-28T20:27:07.189Z"
   },
   {
    "duration": 2372,
    "start_time": "2022-09-28T20:27:17.021Z"
   },
   {
    "duration": 160,
    "start_time": "2022-09-28T20:30:11.968Z"
   },
   {
    "duration": 6,
    "start_time": "2022-09-28T20:30:16.633Z"
   },
   {
    "duration": 1720,
    "start_time": "2022-09-28T20:41:25.208Z"
   },
   {
    "duration": 42,
    "start_time": "2022-09-28T20:41:26.932Z"
   },
   {
    "duration": 30,
    "start_time": "2022-09-28T20:41:26.976Z"
   },
   {
    "duration": 56,
    "start_time": "2022-09-28T20:41:27.009Z"
   },
   {
    "duration": 49,
    "start_time": "2022-09-28T20:41:27.068Z"
   },
   {
    "duration": 4,
    "start_time": "2022-09-28T20:41:27.119Z"
   },
   {
    "duration": 18,
    "start_time": "2022-09-28T20:41:27.125Z"
   },
   {
    "duration": 12,
    "start_time": "2022-09-28T20:41:27.145Z"
   },
   {
    "duration": 6,
    "start_time": "2022-09-28T20:41:27.159Z"
   },
   {
    "duration": 6,
    "start_time": "2022-09-28T20:41:27.167Z"
   },
   {
    "duration": 5,
    "start_time": "2022-09-28T20:41:27.176Z"
   },
   {
    "duration": 46,
    "start_time": "2022-09-28T20:41:27.182Z"
   },
   {
    "duration": 18,
    "start_time": "2022-09-28T20:41:27.229Z"
   },
   {
    "duration": 8,
    "start_time": "2022-09-28T20:41:27.251Z"
   },
   {
    "duration": 16,
    "start_time": "2022-09-28T20:41:27.261Z"
   },
   {
    "duration": 29,
    "start_time": "2022-09-28T20:41:27.280Z"
   },
   {
    "duration": 23,
    "start_time": "2022-09-28T20:41:27.311Z"
   },
   {
    "duration": 5,
    "start_time": "2022-09-28T20:41:27.336Z"
   },
   {
    "duration": 14,
    "start_time": "2022-09-28T20:41:27.343Z"
   },
   {
    "duration": 20,
    "start_time": "2022-09-28T20:41:27.360Z"
   },
   {
    "duration": 17,
    "start_time": "2022-09-28T20:41:27.382Z"
   },
   {
    "duration": 34,
    "start_time": "2022-09-28T20:41:27.403Z"
   },
   {
    "duration": 4,
    "start_time": "2022-09-28T20:41:27.439Z"
   },
   {
    "duration": 9,
    "start_time": "2022-09-28T20:41:27.445Z"
   },
   {
    "duration": 8,
    "start_time": "2022-09-28T20:41:27.456Z"
   },
   {
    "duration": 10,
    "start_time": "2022-09-28T20:41:27.466Z"
   },
   {
    "duration": 23,
    "start_time": "2022-09-28T20:41:27.478Z"
   },
   {
    "duration": 27,
    "start_time": "2022-09-28T20:41:27.507Z"
   },
   {
    "duration": 12,
    "start_time": "2022-09-28T20:41:27.537Z"
   },
   {
    "duration": 9,
    "start_time": "2022-09-28T20:41:27.551Z"
   },
   {
    "duration": 221,
    "start_time": "2022-09-28T20:41:27.562Z"
   },
   {
    "duration": 12435,
    "start_time": "2022-09-28T20:41:27.788Z"
   },
   {
    "duration": 2075,
    "start_time": "2022-09-28T20:41:40.227Z"
   },
   {
    "duration": 8,
    "start_time": "2022-09-28T20:41:57.775Z"
   },
   {
    "duration": 6,
    "start_time": "2022-09-28T20:42:34.333Z"
   },
   {
    "duration": 1537,
    "start_time": "2022-09-28T20:49:02.764Z"
   },
   {
    "duration": 47,
    "start_time": "2022-09-28T20:49:04.305Z"
   },
   {
    "duration": 14,
    "start_time": "2022-09-28T20:49:04.354Z"
   },
   {
    "duration": 46,
    "start_time": "2022-09-28T20:49:04.369Z"
   },
   {
    "duration": 59,
    "start_time": "2022-09-28T20:49:04.418Z"
   },
   {
    "duration": 4,
    "start_time": "2022-09-28T20:49:04.479Z"
   },
   {
    "duration": 45,
    "start_time": "2022-09-28T20:49:04.485Z"
   },
   {
    "duration": 18,
    "start_time": "2022-09-28T20:49:04.532Z"
   },
   {
    "duration": 28,
    "start_time": "2022-09-28T20:49:04.552Z"
   },
   {
    "duration": 36,
    "start_time": "2022-09-28T20:49:04.581Z"
   },
   {
    "duration": 17,
    "start_time": "2022-09-28T20:49:04.619Z"
   },
   {
    "duration": 48,
    "start_time": "2022-09-28T20:49:04.638Z"
   },
   {
    "duration": 51,
    "start_time": "2022-09-28T20:49:04.688Z"
   },
   {
    "duration": 18,
    "start_time": "2022-09-28T20:49:04.742Z"
   },
   {
    "duration": 24,
    "start_time": "2022-09-28T20:49:04.761Z"
   },
   {
    "duration": 65,
    "start_time": "2022-09-28T20:49:04.786Z"
   },
   {
    "duration": 15,
    "start_time": "2022-09-28T20:49:04.853Z"
   },
   {
    "duration": 53,
    "start_time": "2022-09-28T20:49:04.870Z"
   },
   {
    "duration": 24,
    "start_time": "2022-09-28T20:49:04.925Z"
   },
   {
    "duration": 46,
    "start_time": "2022-09-28T20:49:04.954Z"
   },
   {
    "duration": 40,
    "start_time": "2022-09-28T20:49:05.002Z"
   },
   {
    "duration": 25,
    "start_time": "2022-09-28T20:49:05.044Z"
   },
   {
    "duration": 44,
    "start_time": "2022-09-28T20:49:05.070Z"
   },
   {
    "duration": 37,
    "start_time": "2022-09-28T20:49:05.116Z"
   },
   {
    "duration": 19,
    "start_time": "2022-09-28T20:49:05.155Z"
   },
   {
    "duration": 47,
    "start_time": "2022-09-28T20:49:05.176Z"
   },
   {
    "duration": 34,
    "start_time": "2022-09-28T20:49:05.225Z"
   },
   {
    "duration": 40,
    "start_time": "2022-09-28T20:49:05.261Z"
   },
   {
    "duration": 36,
    "start_time": "2022-09-28T20:49:05.303Z"
   },
   {
    "duration": 29,
    "start_time": "2022-09-28T20:49:05.341Z"
   },
   {
    "duration": 53,
    "start_time": "2022-09-28T20:49:05.372Z"
   },
   {
    "duration": 199,
    "start_time": "2022-09-28T20:49:05.427Z"
   },
   {
    "duration": 10192,
    "start_time": "2022-09-28T20:49:05.628Z"
   },
   {
    "duration": 2406,
    "start_time": "2022-09-28T20:49:15.821Z"
   },
   {
    "duration": 183,
    "start_time": "2022-09-28T20:49:54.134Z"
   },
   {
    "duration": 177,
    "start_time": "2022-09-28T20:50:16.033Z"
   },
   {
    "duration": 101,
    "start_time": "2022-09-28T20:50:46.066Z"
   },
   {
    "duration": 185,
    "start_time": "2022-09-28T20:50:50.881Z"
   },
   {
    "duration": 10133,
    "start_time": "2022-09-28T20:52:00.115Z"
   },
   {
    "duration": 1564,
    "start_time": "2022-09-28T20:57:07.208Z"
   },
   {
    "duration": 54,
    "start_time": "2022-09-28T20:57:08.774Z"
   },
   {
    "duration": 13,
    "start_time": "2022-09-28T20:57:08.830Z"
   },
   {
    "duration": 17,
    "start_time": "2022-09-28T20:57:08.844Z"
   },
   {
    "duration": 53,
    "start_time": "2022-09-28T20:57:08.864Z"
   },
   {
    "duration": 4,
    "start_time": "2022-09-28T20:57:08.919Z"
   },
   {
    "duration": 6,
    "start_time": "2022-09-28T20:57:08.925Z"
   },
   {
    "duration": 6,
    "start_time": "2022-09-28T20:57:08.932Z"
   },
   {
    "duration": 5,
    "start_time": "2022-09-28T20:57:08.940Z"
   },
   {
    "duration": 12,
    "start_time": "2022-09-28T20:57:08.947Z"
   },
   {
    "duration": 6,
    "start_time": "2022-09-28T20:57:08.961Z"
   },
   {
    "duration": 35,
    "start_time": "2022-09-28T20:57:08.969Z"
   },
   {
    "duration": 19,
    "start_time": "2022-09-28T20:57:09.007Z"
   },
   {
    "duration": 11,
    "start_time": "2022-09-28T20:57:09.029Z"
   },
   {
    "duration": 8,
    "start_time": "2022-09-28T20:57:09.041Z"
   },
   {
    "duration": 24,
    "start_time": "2022-09-28T20:57:09.050Z"
   },
   {
    "duration": 4,
    "start_time": "2022-09-28T20:57:09.076Z"
   },
   {
    "duration": 17,
    "start_time": "2022-09-28T20:57:09.082Z"
   },
   {
    "duration": 26,
    "start_time": "2022-09-28T20:57:09.101Z"
   },
   {
    "duration": 7,
    "start_time": "2022-09-28T20:57:09.129Z"
   },
   {
    "duration": 6,
    "start_time": "2022-09-28T20:57:09.138Z"
   },
   {
    "duration": 8,
    "start_time": "2022-09-28T20:57:09.146Z"
   },
   {
    "duration": 4,
    "start_time": "2022-09-28T20:57:09.156Z"
   },
   {
    "duration": 12,
    "start_time": "2022-09-28T20:57:09.161Z"
   },
   {
    "duration": 4,
    "start_time": "2022-09-28T20:57:09.175Z"
   },
   {
    "duration": 15,
    "start_time": "2022-09-28T20:57:09.181Z"
   },
   {
    "duration": 29,
    "start_time": "2022-09-28T20:57:09.200Z"
   },
   {
    "duration": 16,
    "start_time": "2022-09-28T20:57:09.231Z"
   },
   {
    "duration": 10,
    "start_time": "2022-09-28T20:57:09.248Z"
   },
   {
    "duration": 9,
    "start_time": "2022-09-28T20:57:09.259Z"
   },
   {
    "duration": 14,
    "start_time": "2022-09-28T20:57:09.269Z"
   },
   {
    "duration": 239,
    "start_time": "2022-09-28T20:57:09.288Z"
   },
   {
    "duration": 10020,
    "start_time": "2022-09-28T20:57:09.528Z"
   },
   {
    "duration": 3044,
    "start_time": "2022-09-28T20:57:19.550Z"
   },
   {
    "duration": 84,
    "start_time": "2022-09-28T20:59:46.759Z"
   },
   {
    "duration": 318,
    "start_time": "2022-09-28T20:59:50.059Z"
   },
   {
    "duration": 1545,
    "start_time": "2022-09-28T20:59:55.613Z"
   },
   {
    "duration": 47,
    "start_time": "2022-09-28T20:59:57.160Z"
   },
   {
    "duration": 15,
    "start_time": "2022-09-28T20:59:57.209Z"
   },
   {
    "duration": 31,
    "start_time": "2022-09-28T20:59:57.225Z"
   },
   {
    "duration": 44,
    "start_time": "2022-09-28T20:59:57.258Z"
   },
   {
    "duration": 4,
    "start_time": "2022-09-28T20:59:57.304Z"
   },
   {
    "duration": 5,
    "start_time": "2022-09-28T20:59:57.310Z"
   },
   {
    "duration": 18,
    "start_time": "2022-09-28T20:59:57.317Z"
   },
   {
    "duration": 16,
    "start_time": "2022-09-28T20:59:57.337Z"
   },
   {
    "duration": 27,
    "start_time": "2022-09-28T20:59:57.355Z"
   },
   {
    "duration": 40,
    "start_time": "2022-09-28T20:59:57.384Z"
   },
   {
    "duration": 11,
    "start_time": "2022-09-28T20:59:57.426Z"
   },
   {
    "duration": 20,
    "start_time": "2022-09-28T20:59:57.439Z"
   },
   {
    "duration": 13,
    "start_time": "2022-09-28T20:59:57.462Z"
   },
   {
    "duration": 42,
    "start_time": "2022-09-28T20:59:57.477Z"
   },
   {
    "duration": 22,
    "start_time": "2022-09-28T20:59:57.521Z"
   },
   {
    "duration": 8,
    "start_time": "2022-09-28T20:59:57.545Z"
   },
   {
    "duration": 4,
    "start_time": "2022-09-28T20:59:57.554Z"
   },
   {
    "duration": 11,
    "start_time": "2022-09-28T20:59:57.560Z"
   },
   {
    "duration": 5,
    "start_time": "2022-09-28T20:59:57.573Z"
   },
   {
    "duration": 5,
    "start_time": "2022-09-28T20:59:57.580Z"
   },
   {
    "duration": 39,
    "start_time": "2022-09-28T20:59:57.586Z"
   },
   {
    "duration": 6,
    "start_time": "2022-09-28T20:59:57.627Z"
   },
   {
    "duration": 8,
    "start_time": "2022-09-28T20:59:57.634Z"
   },
   {
    "duration": 6,
    "start_time": "2022-09-28T20:59:57.644Z"
   },
   {
    "duration": 16,
    "start_time": "2022-09-28T20:59:57.651Z"
   },
   {
    "duration": 12,
    "start_time": "2022-09-28T20:59:57.669Z"
   },
   {
    "duration": 27,
    "start_time": "2022-09-28T20:59:57.682Z"
   },
   {
    "duration": 16,
    "start_time": "2022-09-28T20:59:57.710Z"
   },
   {
    "duration": 12,
    "start_time": "2022-09-28T20:59:57.728Z"
   },
   {
    "duration": 12,
    "start_time": "2022-09-28T20:59:57.742Z"
   },
   {
    "duration": 312,
    "start_time": "2022-09-28T20:59:57.756Z"
   },
   {
    "duration": 0,
    "start_time": "2022-09-28T20:59:58.069Z"
   },
   {
    "duration": 0,
    "start_time": "2022-09-28T20:59:58.071Z"
   },
   {
    "duration": 202,
    "start_time": "2022-09-28T21:00:58.774Z"
   },
   {
    "duration": 201,
    "start_time": "2022-09-28T21:01:46.134Z"
   },
   {
    "duration": 1532,
    "start_time": "2022-09-28T21:01:52.532Z"
   },
   {
    "duration": 56,
    "start_time": "2022-09-28T21:01:54.067Z"
   },
   {
    "duration": 23,
    "start_time": "2022-09-28T21:01:54.125Z"
   },
   {
    "duration": 20,
    "start_time": "2022-09-28T21:01:54.150Z"
   },
   {
    "duration": 53,
    "start_time": "2022-09-28T21:01:54.173Z"
   },
   {
    "duration": 5,
    "start_time": "2022-09-28T21:01:54.228Z"
   },
   {
    "duration": 6,
    "start_time": "2022-09-28T21:01:54.235Z"
   },
   {
    "duration": 6,
    "start_time": "2022-09-28T21:01:54.242Z"
   },
   {
    "duration": 5,
    "start_time": "2022-09-28T21:01:54.250Z"
   },
   {
    "duration": 6,
    "start_time": "2022-09-28T21:01:54.256Z"
   },
   {
    "duration": 39,
    "start_time": "2022-09-28T21:01:54.264Z"
   },
   {
    "duration": 11,
    "start_time": "2022-09-28T21:01:54.305Z"
   },
   {
    "duration": 8,
    "start_time": "2022-09-28T21:01:54.318Z"
   },
   {
    "duration": 10,
    "start_time": "2022-09-28T21:01:54.330Z"
   },
   {
    "duration": 5,
    "start_time": "2022-09-28T21:01:54.342Z"
   },
   {
    "duration": 22,
    "start_time": "2022-09-28T21:01:54.349Z"
   },
   {
    "duration": 29,
    "start_time": "2022-09-28T21:01:54.372Z"
   },
   {
    "duration": 5,
    "start_time": "2022-09-28T21:01:54.406Z"
   },
   {
    "duration": 10,
    "start_time": "2022-09-28T21:01:54.412Z"
   },
   {
    "duration": 6,
    "start_time": "2022-09-28T21:01:54.424Z"
   },
   {
    "duration": 7,
    "start_time": "2022-09-28T21:01:54.432Z"
   },
   {
    "duration": 8,
    "start_time": "2022-09-28T21:01:54.441Z"
   },
   {
    "duration": 5,
    "start_time": "2022-09-28T21:01:54.450Z"
   },
   {
    "duration": 38,
    "start_time": "2022-09-28T21:01:54.457Z"
   },
   {
    "duration": 5,
    "start_time": "2022-09-28T21:01:54.504Z"
   },
   {
    "duration": 14,
    "start_time": "2022-09-28T21:01:54.511Z"
   },
   {
    "duration": 15,
    "start_time": "2022-09-28T21:01:54.527Z"
   },
   {
    "duration": 17,
    "start_time": "2022-09-28T21:01:54.544Z"
   },
   {
    "duration": 9,
    "start_time": "2022-09-28T21:01:54.563Z"
   },
   {
    "duration": 17,
    "start_time": "2022-09-28T21:01:54.592Z"
   },
   {
    "duration": 14,
    "start_time": "2022-09-28T21:01:54.611Z"
   },
   {
    "duration": 223,
    "start_time": "2022-09-28T21:01:54.627Z"
   },
   {
    "duration": 12066,
    "start_time": "2022-09-28T21:01:54.852Z"
   },
   {
    "duration": 1286,
    "start_time": "2022-09-28T21:02:06.920Z"
   },
   {
    "duration": 1564,
    "start_time": "2022-09-28T21:03:59.418Z"
   },
   {
    "duration": 42,
    "start_time": "2022-09-28T21:04:00.984Z"
   },
   {
    "duration": 14,
    "start_time": "2022-09-28T21:04:01.028Z"
   },
   {
    "duration": 23,
    "start_time": "2022-09-28T21:04:01.043Z"
   },
   {
    "duration": 48,
    "start_time": "2022-09-28T21:04:01.069Z"
   },
   {
    "duration": 6,
    "start_time": "2022-09-28T21:04:01.119Z"
   },
   {
    "duration": 28,
    "start_time": "2022-09-28T21:04:01.127Z"
   },
   {
    "duration": 22,
    "start_time": "2022-09-28T21:04:01.157Z"
   },
   {
    "duration": 11,
    "start_time": "2022-09-28T21:04:01.181Z"
   },
   {
    "duration": 17,
    "start_time": "2022-09-28T21:04:01.195Z"
   },
   {
    "duration": 37,
    "start_time": "2022-09-28T21:04:01.214Z"
   },
   {
    "duration": 52,
    "start_time": "2022-09-28T21:04:01.253Z"
   },
   {
    "duration": 38,
    "start_time": "2022-09-28T21:04:01.307Z"
   },
   {
    "duration": 28,
    "start_time": "2022-09-28T21:04:01.348Z"
   },
   {
    "duration": 34,
    "start_time": "2022-09-28T21:04:01.378Z"
   },
   {
    "duration": 36,
    "start_time": "2022-09-28T21:04:01.414Z"
   },
   {
    "duration": 32,
    "start_time": "2022-09-28T21:04:01.451Z"
   },
   {
    "duration": 36,
    "start_time": "2022-09-28T21:04:01.485Z"
   },
   {
    "duration": 23,
    "start_time": "2022-09-28T21:04:01.523Z"
   },
   {
    "duration": 25,
    "start_time": "2022-09-28T21:04:01.548Z"
   },
   {
    "duration": 31,
    "start_time": "2022-09-28T21:04:01.575Z"
   },
   {
    "duration": 32,
    "start_time": "2022-09-28T21:04:01.608Z"
   },
   {
    "duration": 18,
    "start_time": "2022-09-28T21:04:01.642Z"
   },
   {
    "duration": 21,
    "start_time": "2022-09-28T21:04:01.662Z"
   },
   {
    "duration": 15,
    "start_time": "2022-09-28T21:04:01.685Z"
   },
   {
    "duration": 30,
    "start_time": "2022-09-28T21:04:01.702Z"
   },
   {
    "duration": 28,
    "start_time": "2022-09-28T21:04:01.733Z"
   },
   {
    "duration": 21,
    "start_time": "2022-09-28T21:04:01.763Z"
   },
   {
    "duration": 22,
    "start_time": "2022-09-28T21:04:01.786Z"
   },
   {
    "duration": 18,
    "start_time": "2022-09-28T21:04:01.810Z"
   },
   {
    "duration": 31,
    "start_time": "2022-09-28T21:04:01.830Z"
   },
   {
    "duration": 253,
    "start_time": "2022-09-28T21:04:01.864Z"
   },
   {
    "duration": 10919,
    "start_time": "2022-09-28T21:04:02.120Z"
   },
   {
    "duration": 349,
    "start_time": "2022-09-28T21:04:13.041Z"
   },
   {
    "duration": 10900,
    "start_time": "2022-09-28T21:05:38.222Z"
   },
   {
    "duration": 4,
    "start_time": "2022-09-28T21:11:27.824Z"
   },
   {
    "duration": 184,
    "start_time": "2022-09-28T21:11:49.020Z"
   },
   {
    "duration": 188,
    "start_time": "2022-09-28T21:12:09.368Z"
   },
   {
    "duration": 195,
    "start_time": "2022-09-28T21:12:27.362Z"
   },
   {
    "duration": 194,
    "start_time": "2022-09-28T21:12:35.907Z"
   },
   {
    "duration": 10775,
    "start_time": "2022-09-28T21:20:33.019Z"
   },
   {
    "duration": 1674,
    "start_time": "2022-09-28T21:22:36.916Z"
   },
   {
    "duration": 1150,
    "start_time": "2022-09-28T21:22:58.439Z"
   },
   {
    "duration": 52,
    "start_time": "2022-09-29T19:18:22.464Z"
   },
   {
    "duration": 7,
    "start_time": "2022-09-29T19:18:37.080Z"
   },
   {
    "duration": 6,
    "start_time": "2022-09-29T19:19:55.881Z"
   },
   {
    "duration": 1651,
    "start_time": "2022-09-29T19:20:03.309Z"
   },
   {
    "duration": 85,
    "start_time": "2022-09-29T19:20:04.963Z"
   },
   {
    "duration": 17,
    "start_time": "2022-09-29T19:20:05.051Z"
   },
   {
    "duration": 32,
    "start_time": "2022-09-29T19:20:05.069Z"
   },
   {
    "duration": 66,
    "start_time": "2022-09-29T19:20:05.105Z"
   },
   {
    "duration": 5,
    "start_time": "2022-09-29T19:20:05.173Z"
   },
   {
    "duration": 27,
    "start_time": "2022-09-29T19:20:05.180Z"
   },
   {
    "duration": 11,
    "start_time": "2022-09-29T19:20:05.209Z"
   },
   {
    "duration": 11,
    "start_time": "2022-09-29T19:20:05.221Z"
   },
   {
    "duration": 25,
    "start_time": "2022-09-29T19:20:05.234Z"
   },
   {
    "duration": 6,
    "start_time": "2022-09-29T19:20:05.261Z"
   },
   {
    "duration": 15,
    "start_time": "2022-09-29T19:20:05.269Z"
   },
   {
    "duration": 7,
    "start_time": "2022-09-29T19:20:05.286Z"
   },
   {
    "duration": 6,
    "start_time": "2022-09-29T19:20:05.296Z"
   },
   {
    "duration": 8,
    "start_time": "2022-09-29T19:20:05.303Z"
   },
   {
    "duration": 19,
    "start_time": "2022-09-29T19:20:05.313Z"
   },
   {
    "duration": 7,
    "start_time": "2022-09-29T19:20:05.341Z"
   },
   {
    "duration": 14,
    "start_time": "2022-09-29T19:20:05.349Z"
   },
   {
    "duration": 10,
    "start_time": "2022-09-29T19:20:05.365Z"
   },
   {
    "duration": 5,
    "start_time": "2022-09-29T19:20:05.377Z"
   },
   {
    "duration": 7,
    "start_time": "2022-09-29T19:20:05.384Z"
   },
   {
    "duration": 7,
    "start_time": "2022-09-29T19:20:05.392Z"
   },
   {
    "duration": 4,
    "start_time": "2022-09-29T19:20:05.401Z"
   },
   {
    "duration": 6,
    "start_time": "2022-09-29T19:20:05.407Z"
   },
   {
    "duration": 38,
    "start_time": "2022-09-29T19:20:05.415Z"
   },
   {
    "duration": 8,
    "start_time": "2022-09-29T19:20:05.454Z"
   },
   {
    "duration": 13,
    "start_time": "2022-09-29T19:20:05.464Z"
   },
   {
    "duration": 23,
    "start_time": "2022-09-29T19:20:05.479Z"
   },
   {
    "duration": 8,
    "start_time": "2022-09-29T19:20:05.503Z"
   },
   {
    "duration": 10,
    "start_time": "2022-09-29T19:20:05.513Z"
   },
   {
    "duration": 25,
    "start_time": "2022-09-29T19:20:05.525Z"
   },
   {
    "duration": 214,
    "start_time": "2022-09-29T19:20:05.551Z"
   },
   {
    "duration": 11022,
    "start_time": "2022-09-29T19:20:05.767Z"
   },
   {
    "duration": 2167,
    "start_time": "2022-09-29T19:20:16.791Z"
   },
   {
    "duration": 222,
    "start_time": "2022-09-29T19:20:18.960Z"
   },
   {
    "duration": 12,
    "start_time": "2022-09-29T19:20:22.832Z"
   },
   {
    "duration": 1565,
    "start_time": "2022-09-29T19:20:26.059Z"
   },
   {
    "duration": 50,
    "start_time": "2022-09-29T19:20:27.627Z"
   },
   {
    "duration": 13,
    "start_time": "2022-09-29T19:20:27.678Z"
   },
   {
    "duration": 17,
    "start_time": "2022-09-29T19:20:27.693Z"
   },
   {
    "duration": 46,
    "start_time": "2022-09-29T19:20:27.712Z"
   },
   {
    "duration": 5,
    "start_time": "2022-09-29T19:20:27.759Z"
   },
   {
    "duration": 7,
    "start_time": "2022-09-29T19:20:27.765Z"
   },
   {
    "duration": 6,
    "start_time": "2022-09-29T19:20:27.774Z"
   },
   {
    "duration": 7,
    "start_time": "2022-09-29T19:20:27.781Z"
   },
   {
    "duration": 6,
    "start_time": "2022-09-29T19:20:27.790Z"
   },
   {
    "duration": 7,
    "start_time": "2022-09-29T19:20:27.797Z"
   },
   {
    "duration": 36,
    "start_time": "2022-09-29T19:20:27.806Z"
   },
   {
    "duration": 10,
    "start_time": "2022-09-29T19:20:27.845Z"
   },
   {
    "duration": 12,
    "start_time": "2022-09-29T19:20:27.857Z"
   },
   {
    "duration": 11,
    "start_time": "2022-09-29T19:20:27.871Z"
   },
   {
    "duration": 19,
    "start_time": "2022-09-29T19:20:27.883Z"
   },
   {
    "duration": 4,
    "start_time": "2022-09-29T19:20:27.904Z"
   },
   {
    "duration": 20,
    "start_time": "2022-09-29T19:20:27.909Z"
   },
   {
    "duration": 28,
    "start_time": "2022-09-29T19:20:27.930Z"
   },
   {
    "duration": 7,
    "start_time": "2022-09-29T19:20:27.960Z"
   },
   {
    "duration": 5,
    "start_time": "2022-09-29T19:20:27.969Z"
   },
   {
    "duration": 9,
    "start_time": "2022-09-29T19:20:27.975Z"
   },
   {
    "duration": 8,
    "start_time": "2022-09-29T19:20:27.985Z"
   },
   {
    "duration": 9,
    "start_time": "2022-09-29T19:20:27.994Z"
   },
   {
    "duration": 5,
    "start_time": "2022-09-29T19:20:28.004Z"
   },
   {
    "duration": 10,
    "start_time": "2022-09-29T19:20:28.010Z"
   },
   {
    "duration": 29,
    "start_time": "2022-09-29T19:20:28.021Z"
   },
   {
    "duration": 20,
    "start_time": "2022-09-29T19:20:28.068Z"
   },
   {
    "duration": 9,
    "start_time": "2022-09-29T19:20:28.090Z"
   },
   {
    "duration": 11,
    "start_time": "2022-09-29T19:20:28.100Z"
   },
   {
    "duration": 18,
    "start_time": "2022-09-29T19:20:28.112Z"
   },
   {
    "duration": 225,
    "start_time": "2022-09-29T19:20:28.131Z"
   },
   {
    "duration": 2085,
    "start_time": "2022-09-29T19:20:28.358Z"
   },
   {
    "duration": 207,
    "start_time": "2022-09-29T19:20:30.448Z"
   },
   {
    "duration": 1449,
    "start_time": "2022-09-29T19:24:34.110Z"
   },
   {
    "duration": 41,
    "start_time": "2022-09-29T19:24:35.561Z"
   },
   {
    "duration": 13,
    "start_time": "2022-09-29T19:24:35.604Z"
   },
   {
    "duration": 17,
    "start_time": "2022-09-29T19:24:35.619Z"
   },
   {
    "duration": 40,
    "start_time": "2022-09-29T19:24:35.638Z"
   },
   {
    "duration": 4,
    "start_time": "2022-09-29T19:24:35.680Z"
   },
   {
    "duration": 7,
    "start_time": "2022-09-29T19:24:35.685Z"
   },
   {
    "duration": 6,
    "start_time": "2022-09-29T19:24:35.693Z"
   },
   {
    "duration": 5,
    "start_time": "2022-09-29T19:24:35.701Z"
   },
   {
    "duration": 7,
    "start_time": "2022-09-29T19:24:35.708Z"
   },
   {
    "duration": 22,
    "start_time": "2022-09-29T19:24:35.716Z"
   },
   {
    "duration": 23,
    "start_time": "2022-09-29T19:24:35.740Z"
   },
   {
    "duration": 10,
    "start_time": "2022-09-29T19:24:35.764Z"
   },
   {
    "duration": 6,
    "start_time": "2022-09-29T19:24:35.777Z"
   },
   {
    "duration": 14,
    "start_time": "2022-09-29T19:24:35.785Z"
   },
   {
    "duration": 21,
    "start_time": "2022-09-29T19:24:35.800Z"
   },
   {
    "duration": 5,
    "start_time": "2022-09-29T19:24:35.822Z"
   },
   {
    "duration": 26,
    "start_time": "2022-09-29T19:24:35.828Z"
   },
   {
    "duration": 15,
    "start_time": "2022-09-29T19:24:35.856Z"
   },
   {
    "duration": 11,
    "start_time": "2022-09-29T19:24:35.872Z"
   },
   {
    "duration": 9,
    "start_time": "2022-09-29T19:24:35.884Z"
   },
   {
    "duration": 17,
    "start_time": "2022-09-29T19:24:35.894Z"
   },
   {
    "duration": 10,
    "start_time": "2022-09-29T19:24:35.912Z"
   },
   {
    "duration": 10,
    "start_time": "2022-09-29T19:24:35.923Z"
   },
   {
    "duration": 18,
    "start_time": "2022-09-29T19:24:35.934Z"
   },
   {
    "duration": 10,
    "start_time": "2022-09-29T19:24:35.953Z"
   },
   {
    "duration": 12,
    "start_time": "2022-09-29T19:24:35.964Z"
   },
   {
    "duration": 16,
    "start_time": "2022-09-29T19:24:35.978Z"
   },
   {
    "duration": 9,
    "start_time": "2022-09-29T19:24:35.995Z"
   },
   {
    "duration": 7,
    "start_time": "2022-09-29T19:24:36.005Z"
   },
   {
    "duration": 9,
    "start_time": "2022-09-29T19:24:36.013Z"
   },
   {
    "duration": 196,
    "start_time": "2022-09-29T19:24:36.024Z"
   },
   {
    "duration": 941,
    "start_time": "2022-09-29T19:24:36.221Z"
   },
   {
    "duration": 1487,
    "start_time": "2022-09-29T19:26:45.619Z"
   },
   {
    "duration": 46,
    "start_time": "2022-09-29T19:26:47.108Z"
   },
   {
    "duration": 13,
    "start_time": "2022-09-29T19:26:47.156Z"
   },
   {
    "duration": 30,
    "start_time": "2022-09-29T19:26:47.171Z"
   },
   {
    "duration": 71,
    "start_time": "2022-09-29T19:26:47.206Z"
   },
   {
    "duration": 6,
    "start_time": "2022-09-29T19:26:47.279Z"
   },
   {
    "duration": 12,
    "start_time": "2022-09-29T19:26:47.287Z"
   },
   {
    "duration": 19,
    "start_time": "2022-09-29T19:26:47.300Z"
   },
   {
    "duration": 32,
    "start_time": "2022-09-29T19:26:47.321Z"
   },
   {
    "duration": 13,
    "start_time": "2022-09-29T19:26:47.358Z"
   },
   {
    "duration": 13,
    "start_time": "2022-09-29T19:26:47.374Z"
   },
   {
    "duration": 17,
    "start_time": "2022-09-29T19:26:47.390Z"
   },
   {
    "duration": 9,
    "start_time": "2022-09-29T19:26:47.409Z"
   },
   {
    "duration": 12,
    "start_time": "2022-09-29T19:26:47.422Z"
   },
   {
    "duration": 30,
    "start_time": "2022-09-29T19:26:47.436Z"
   },
   {
    "duration": 28,
    "start_time": "2022-09-29T19:26:47.468Z"
   },
   {
    "duration": 6,
    "start_time": "2022-09-29T19:26:47.498Z"
   },
   {
    "duration": 11,
    "start_time": "2022-09-29T19:26:47.507Z"
   },
   {
    "duration": 28,
    "start_time": "2022-09-29T19:26:47.520Z"
   },
   {
    "duration": 13,
    "start_time": "2022-09-29T19:26:47.555Z"
   },
   {
    "duration": 6,
    "start_time": "2022-09-29T19:26:47.570Z"
   },
   {
    "duration": 18,
    "start_time": "2022-09-29T19:26:47.579Z"
   },
   {
    "duration": 7,
    "start_time": "2022-09-29T19:26:47.598Z"
   },
   {
    "duration": 11,
    "start_time": "2022-09-29T19:26:47.607Z"
   },
   {
    "duration": 7,
    "start_time": "2022-09-29T19:26:47.620Z"
   },
   {
    "duration": 27,
    "start_time": "2022-09-29T19:26:47.628Z"
   },
   {
    "duration": 15,
    "start_time": "2022-09-29T19:26:47.657Z"
   },
   {
    "duration": 19,
    "start_time": "2022-09-29T19:26:47.674Z"
   },
   {
    "duration": 10,
    "start_time": "2022-09-29T19:26:47.695Z"
   },
   {
    "duration": 8,
    "start_time": "2022-09-29T19:26:47.707Z"
   },
   {
    "duration": 35,
    "start_time": "2022-09-29T19:26:47.717Z"
   },
   {
    "duration": 198,
    "start_time": "2022-09-29T19:26:47.754Z"
   },
   {
    "duration": 1590,
    "start_time": "2022-09-29T19:26:47.955Z"
   },
   {
    "duration": 220,
    "start_time": "2022-09-29T19:41:41.654Z"
   },
   {
    "duration": 10379,
    "start_time": "2022-09-29T19:43:09.511Z"
   },
   {
    "duration": 10775,
    "start_time": "2022-09-29T19:43:19.892Z"
   },
   {
    "duration": 1086,
    "start_time": "2022-09-29T19:44:33.876Z"
   },
   {
    "duration": 1437,
    "start_time": "2022-09-29T20:10:17.430Z"
   },
   {
    "duration": 43,
    "start_time": "2022-09-29T20:10:18.869Z"
   },
   {
    "duration": 14,
    "start_time": "2022-09-29T20:10:18.914Z"
   },
   {
    "duration": 19,
    "start_time": "2022-09-29T20:10:18.930Z"
   },
   {
    "duration": 40,
    "start_time": "2022-09-29T20:10:18.950Z"
   },
   {
    "duration": 4,
    "start_time": "2022-09-29T20:10:18.991Z"
   },
   {
    "duration": 7,
    "start_time": "2022-09-29T20:10:18.997Z"
   },
   {
    "duration": 8,
    "start_time": "2022-09-29T20:10:19.006Z"
   },
   {
    "duration": 23,
    "start_time": "2022-09-29T20:10:19.016Z"
   },
   {
    "duration": 4,
    "start_time": "2022-09-29T20:10:19.041Z"
   },
   {
    "duration": 7,
    "start_time": "2022-09-29T20:10:19.047Z"
   },
   {
    "duration": 12,
    "start_time": "2022-09-29T20:10:19.055Z"
   },
   {
    "duration": 6,
    "start_time": "2022-09-29T20:10:19.069Z"
   },
   {
    "duration": 13,
    "start_time": "2022-09-29T20:10:19.076Z"
   },
   {
    "duration": 7,
    "start_time": "2022-09-29T20:10:19.090Z"
   },
   {
    "duration": 41,
    "start_time": "2022-09-29T20:10:19.098Z"
   },
   {
    "duration": 4,
    "start_time": "2022-09-29T20:10:19.141Z"
   },
   {
    "duration": 62,
    "start_time": "2022-09-29T20:10:19.146Z"
   },
   {
    "duration": 33,
    "start_time": "2022-09-29T20:10:19.210Z"
   },
   {
    "duration": 12,
    "start_time": "2022-09-29T20:10:19.244Z"
   },
   {
    "duration": 21,
    "start_time": "2022-09-29T20:10:19.258Z"
   },
   {
    "duration": 20,
    "start_time": "2022-09-29T20:10:19.280Z"
   },
   {
    "duration": 18,
    "start_time": "2022-09-29T20:10:19.302Z"
   },
   {
    "duration": 25,
    "start_time": "2022-09-29T20:10:19.321Z"
   },
   {
    "duration": 10,
    "start_time": "2022-09-29T20:10:19.348Z"
   },
   {
    "duration": 18,
    "start_time": "2022-09-29T20:10:19.359Z"
   },
   {
    "duration": 38,
    "start_time": "2022-09-29T20:10:19.379Z"
   },
   {
    "duration": 39,
    "start_time": "2022-09-29T20:10:19.420Z"
   },
   {
    "duration": 21,
    "start_time": "2022-09-29T20:10:19.461Z"
   },
   {
    "duration": 27,
    "start_time": "2022-09-29T20:10:19.484Z"
   },
   {
    "duration": 16,
    "start_time": "2022-09-29T20:10:19.513Z"
   },
   {
    "duration": 210,
    "start_time": "2022-09-29T20:10:19.530Z"
   },
   {
    "duration": 9837,
    "start_time": "2022-09-29T20:10:19.741Z"
   },
   {
    "duration": 760,
    "start_time": "2022-09-29T20:10:29.580Z"
   },
   {
    "duration": 260,
    "start_time": "2022-09-29T20:10:30.343Z"
   },
   {
    "duration": 9663,
    "start_time": "2022-09-29T20:10:30.604Z"
   },
   {
    "duration": 771,
    "start_time": "2022-09-29T20:10:40.269Z"
   },
   {
    "duration": 205,
    "start_time": "2022-09-29T20:25:07.114Z"
   },
   {
    "duration": 9668,
    "start_time": "2022-09-29T20:25:07.382Z"
   },
   {
    "duration": 694,
    "start_time": "2022-09-29T20:25:17.052Z"
   },
   {
    "duration": 3,
    "start_time": "2022-09-29T20:25:17.839Z"
   },
   {
    "duration": 120,
    "start_time": "2022-09-29T20:27:55.018Z"
   },
   {
    "duration": 3,
    "start_time": "2022-09-29T20:28:11.019Z"
   },
   {
    "duration": 42,
    "start_time": "2022-09-29T20:28:11.221Z"
   },
   {
    "duration": 24,
    "start_time": "2022-09-29T20:28:15.715Z"
   },
   {
    "duration": 24,
    "start_time": "2022-09-29T20:29:59.310Z"
   },
   {
    "duration": 128,
    "start_time": "2022-09-29T20:30:06.815Z"
   },
   {
    "duration": 122,
    "start_time": "2022-09-29T20:30:20.729Z"
   },
   {
    "duration": 2108,
    "start_time": "2022-09-29T20:30:28.131Z"
   },
   {
    "duration": 829,
    "start_time": "2022-09-29T20:31:47.216Z"
   },
   {
    "duration": 1914,
    "start_time": "2022-09-29T20:32:44.336Z"
   },
   {
    "duration": 18346,
    "start_time": "2022-09-29T20:33:58.283Z"
   },
   {
    "duration": 324,
    "start_time": "2022-09-29T20:35:04.599Z"
   },
   {
    "duration": 2,
    "start_time": "2022-09-29T20:36:23.601Z"
   },
   {
    "duration": 16,
    "start_time": "2022-09-29T20:36:29.171Z"
   },
   {
    "duration": 14,
    "start_time": "2022-09-29T20:36:32.550Z"
   },
   {
    "duration": 331,
    "start_time": "2022-09-29T20:36:47.926Z"
   },
   {
    "duration": 347,
    "start_time": "2022-09-29T20:36:58.246Z"
   },
   {
    "duration": 18230,
    "start_time": "2022-09-29T20:37:11.691Z"
   },
   {
    "duration": 1228,
    "start_time": "2022-09-29T20:38:00.912Z"
   },
   {
    "duration": 354,
    "start_time": "2022-09-29T20:38:48.190Z"
   },
   {
    "duration": 18238,
    "start_time": "2022-09-29T20:40:30.018Z"
   },
   {
    "duration": 1245,
    "start_time": "2022-09-29T20:40:59.301Z"
   },
   {
    "duration": 1534,
    "start_time": "2022-09-29T20:45:38.204Z"
   },
   {
    "duration": 45,
    "start_time": "2022-09-29T20:45:39.744Z"
   },
   {
    "duration": 14,
    "start_time": "2022-09-29T20:45:39.791Z"
   },
   {
    "duration": 24,
    "start_time": "2022-09-29T20:45:39.806Z"
   },
   {
    "duration": 47,
    "start_time": "2022-09-29T20:45:39.833Z"
   },
   {
    "duration": 4,
    "start_time": "2022-09-29T20:45:39.882Z"
   },
   {
    "duration": 14,
    "start_time": "2022-09-29T20:45:39.888Z"
   },
   {
    "duration": 19,
    "start_time": "2022-09-29T20:45:39.904Z"
   },
   {
    "duration": 16,
    "start_time": "2022-09-29T20:45:39.925Z"
   },
   {
    "duration": 24,
    "start_time": "2022-09-29T20:45:39.944Z"
   },
   {
    "duration": 15,
    "start_time": "2022-09-29T20:45:39.970Z"
   },
   {
    "duration": 15,
    "start_time": "2022-09-29T20:45:39.986Z"
   },
   {
    "duration": 11,
    "start_time": "2022-09-29T20:45:40.003Z"
   },
   {
    "duration": 41,
    "start_time": "2022-09-29T20:45:40.017Z"
   },
   {
    "duration": 25,
    "start_time": "2022-09-29T20:45:40.060Z"
   },
   {
    "duration": 29,
    "start_time": "2022-09-29T20:45:40.087Z"
   },
   {
    "duration": 5,
    "start_time": "2022-09-29T20:45:40.117Z"
   },
   {
    "duration": 10,
    "start_time": "2022-09-29T20:45:40.123Z"
   },
   {
    "duration": 28,
    "start_time": "2022-09-29T20:45:40.134Z"
   },
   {
    "duration": 8,
    "start_time": "2022-09-29T20:45:40.164Z"
   },
   {
    "duration": 8,
    "start_time": "2022-09-29T20:45:40.173Z"
   },
   {
    "duration": 18,
    "start_time": "2022-09-29T20:45:40.183Z"
   },
   {
    "duration": 12,
    "start_time": "2022-09-29T20:45:40.202Z"
   },
   {
    "duration": 17,
    "start_time": "2022-09-29T20:45:40.216Z"
   },
   {
    "duration": 23,
    "start_time": "2022-09-29T20:45:40.235Z"
   },
   {
    "duration": 31,
    "start_time": "2022-09-29T20:45:40.260Z"
   },
   {
    "duration": 22,
    "start_time": "2022-09-29T20:45:40.293Z"
   },
   {
    "duration": 30,
    "start_time": "2022-09-29T20:45:40.317Z"
   },
   {
    "duration": 33,
    "start_time": "2022-09-29T20:45:40.349Z"
   },
   {
    "duration": 11,
    "start_time": "2022-09-29T20:45:40.384Z"
   },
   {
    "duration": 21,
    "start_time": "2022-09-29T20:45:40.397Z"
   },
   {
    "duration": 219,
    "start_time": "2022-09-29T20:45:40.420Z"
   },
   {
    "duration": 10333,
    "start_time": "2022-09-29T20:45:40.640Z"
   },
   {
    "duration": 669,
    "start_time": "2022-09-29T20:45:50.975Z"
   },
   {
    "duration": 300,
    "start_time": "2022-09-29T20:45:51.646Z"
   },
   {
    "duration": 10098,
    "start_time": "2022-09-29T20:45:51.948Z"
   },
   {
    "duration": 1592,
    "start_time": "2022-09-29T20:46:02.048Z"
   },
   {
    "duration": 23,
    "start_time": "2022-09-29T20:46:03.641Z"
   },
   {
    "duration": 507,
    "start_time": "2022-09-29T20:46:03.666Z"
   },
   {
    "duration": 26666,
    "start_time": "2022-09-29T20:46:04.174Z"
   },
   {
    "duration": 3695,
    "start_time": "2022-09-29T20:46:30.844Z"
   },
   {
    "duration": 18,
    "start_time": "2022-09-29T20:48:13.073Z"
   },
   {
    "duration": 416,
    "start_time": "2022-09-29T20:48:13.370Z"
   },
   {
    "duration": 53,
    "start_time": "2022-09-29T20:48:13.789Z"
   },
   {
    "duration": 22268,
    "start_time": "2022-09-29T20:48:14.684Z"
   },
   {
    "duration": 48,
    "start_time": "2022-09-29T20:48:36.954Z"
   },
   {
    "duration": 0,
    "start_time": "2022-09-29T20:48:37.004Z"
   },
   {
    "duration": 0,
    "start_time": "2022-09-29T20:48:37.005Z"
   },
   {
    "duration": 23,
    "start_time": "2022-09-29T20:49:23.207Z"
   },
   {
    "duration": 395,
    "start_time": "2022-09-29T20:49:23.671Z"
   },
   {
    "duration": 21738,
    "start_time": "2022-09-29T20:49:27.500Z"
   },
   {
    "duration": 1436,
    "start_time": "2022-09-29T20:50:07.011Z"
   },
   {
    "duration": 42,
    "start_time": "2022-09-29T20:50:08.449Z"
   },
   {
    "duration": 13,
    "start_time": "2022-09-29T20:50:08.493Z"
   },
   {
    "duration": 18,
    "start_time": "2022-09-29T20:50:08.509Z"
   },
   {
    "duration": 56,
    "start_time": "2022-09-29T20:50:08.530Z"
   },
   {
    "duration": 6,
    "start_time": "2022-09-29T20:50:08.588Z"
   },
   {
    "duration": 12,
    "start_time": "2022-09-29T20:50:08.596Z"
   },
   {
    "duration": 6,
    "start_time": "2022-09-29T20:50:08.611Z"
   },
   {
    "duration": 7,
    "start_time": "2022-09-29T20:50:08.619Z"
   },
   {
    "duration": 4,
    "start_time": "2022-09-29T20:50:08.639Z"
   },
   {
    "duration": 7,
    "start_time": "2022-09-29T20:50:08.644Z"
   },
   {
    "duration": 11,
    "start_time": "2022-09-29T20:50:08.652Z"
   },
   {
    "duration": 7,
    "start_time": "2022-09-29T20:50:08.665Z"
   },
   {
    "duration": 9,
    "start_time": "2022-09-29T20:50:08.675Z"
   },
   {
    "duration": 6,
    "start_time": "2022-09-29T20:50:08.685Z"
   },
   {
    "duration": 18,
    "start_time": "2022-09-29T20:50:08.692Z"
   },
   {
    "duration": 4,
    "start_time": "2022-09-29T20:50:08.739Z"
   },
   {
    "duration": 6,
    "start_time": "2022-09-29T20:50:08.744Z"
   },
   {
    "duration": 10,
    "start_time": "2022-09-29T20:50:08.751Z"
   },
   {
    "duration": 6,
    "start_time": "2022-09-29T20:50:08.762Z"
   },
   {
    "duration": 7,
    "start_time": "2022-09-29T20:50:08.769Z"
   },
   {
    "duration": 9,
    "start_time": "2022-09-29T20:50:08.777Z"
   },
   {
    "duration": 5,
    "start_time": "2022-09-29T20:50:08.788Z"
   },
   {
    "duration": 8,
    "start_time": "2022-09-29T20:50:08.794Z"
   },
   {
    "duration": 7,
    "start_time": "2022-09-29T20:50:08.803Z"
   },
   {
    "duration": 6,
    "start_time": "2022-09-29T20:50:08.838Z"
   },
   {
    "duration": 14,
    "start_time": "2022-09-29T20:50:08.845Z"
   },
   {
    "duration": 16,
    "start_time": "2022-09-29T20:50:08.860Z"
   },
   {
    "duration": 8,
    "start_time": "2022-09-29T20:50:08.878Z"
   },
   {
    "duration": 10,
    "start_time": "2022-09-29T20:50:08.888Z"
   },
   {
    "duration": 8,
    "start_time": "2022-09-29T20:50:08.900Z"
   },
   {
    "duration": 239,
    "start_time": "2022-09-29T20:50:08.909Z"
   },
   {
    "duration": 9938,
    "start_time": "2022-09-29T20:50:09.150Z"
   },
   {
    "duration": 752,
    "start_time": "2022-09-29T20:50:19.089Z"
   },
   {
    "duration": 286,
    "start_time": "2022-09-29T20:50:19.845Z"
   },
   {
    "duration": 9603,
    "start_time": "2022-09-29T20:50:20.138Z"
   },
   {
    "duration": 698,
    "start_time": "2022-09-29T20:50:29.743Z"
   },
   {
    "duration": 103,
    "start_time": "2022-09-29T20:50:30.443Z"
   },
   {
    "duration": 353,
    "start_time": "2022-09-29T20:50:30.547Z"
   },
   {
    "duration": 18590,
    "start_time": "2022-09-29T20:50:30.902Z"
   },
   {
    "duration": 2345,
    "start_time": "2022-09-29T20:50:49.495Z"
   },
   {
    "duration": 12,
    "start_time": "2022-09-29T20:52:41.261Z"
   },
   {
    "duration": 99,
    "start_time": "2022-09-29T20:53:08.924Z"
   },
   {
    "duration": 5212,
    "start_time": "2022-09-29T20:53:57.695Z"
   },
   {
    "duration": 5119,
    "start_time": "2022-09-29T20:54:12.363Z"
   },
   {
    "duration": 1490,
    "start_time": "2022-09-29T20:56:32.665Z"
   },
   {
    "duration": 44,
    "start_time": "2022-09-29T20:56:34.158Z"
   },
   {
    "duration": 14,
    "start_time": "2022-09-29T20:56:34.204Z"
   },
   {
    "duration": 17,
    "start_time": "2022-09-29T20:56:34.220Z"
   },
   {
    "duration": 47,
    "start_time": "2022-09-29T20:56:34.240Z"
   },
   {
    "duration": 4,
    "start_time": "2022-09-29T20:56:34.288Z"
   },
   {
    "duration": 6,
    "start_time": "2022-09-29T20:56:34.294Z"
   },
   {
    "duration": 6,
    "start_time": "2022-09-29T20:56:34.301Z"
   },
   {
    "duration": 32,
    "start_time": "2022-09-29T20:56:34.310Z"
   },
   {
    "duration": 10,
    "start_time": "2022-09-29T20:56:34.344Z"
   },
   {
    "duration": 5,
    "start_time": "2022-09-29T20:56:34.356Z"
   },
   {
    "duration": 11,
    "start_time": "2022-09-29T20:56:34.363Z"
   },
   {
    "duration": 7,
    "start_time": "2022-09-29T20:56:34.376Z"
   },
   {
    "duration": 9,
    "start_time": "2022-09-29T20:56:34.385Z"
   },
   {
    "duration": 14,
    "start_time": "2022-09-29T20:56:34.395Z"
   },
   {
    "duration": 43,
    "start_time": "2022-09-29T20:56:34.410Z"
   },
   {
    "duration": 22,
    "start_time": "2022-09-29T20:56:34.455Z"
   },
   {
    "duration": 12,
    "start_time": "2022-09-29T20:56:34.479Z"
   },
   {
    "duration": 11,
    "start_time": "2022-09-29T20:56:34.492Z"
   },
   {
    "duration": 19,
    "start_time": "2022-09-29T20:56:34.505Z"
   },
   {
    "duration": 12,
    "start_time": "2022-09-29T20:56:34.525Z"
   },
   {
    "duration": 45,
    "start_time": "2022-09-29T20:56:34.538Z"
   },
   {
    "duration": 9,
    "start_time": "2022-09-29T20:56:34.585Z"
   },
   {
    "duration": 14,
    "start_time": "2022-09-29T20:56:34.596Z"
   },
   {
    "duration": 13,
    "start_time": "2022-09-29T20:56:34.612Z"
   },
   {
    "duration": 21,
    "start_time": "2022-09-29T20:56:34.627Z"
   },
   {
    "duration": 14,
    "start_time": "2022-09-29T20:56:34.649Z"
   },
   {
    "duration": 17,
    "start_time": "2022-09-29T20:56:34.665Z"
   },
   {
    "duration": 13,
    "start_time": "2022-09-29T20:56:34.684Z"
   },
   {
    "duration": 11,
    "start_time": "2022-09-29T20:56:34.699Z"
   },
   {
    "duration": 28,
    "start_time": "2022-09-29T20:56:34.712Z"
   },
   {
    "duration": 220,
    "start_time": "2022-09-29T20:56:34.742Z"
   },
   {
    "duration": 10129,
    "start_time": "2022-09-29T20:56:34.963Z"
   },
   {
    "duration": 746,
    "start_time": "2022-09-29T20:56:45.093Z"
   },
   {
    "duration": 288,
    "start_time": "2022-09-29T20:56:45.841Z"
   },
   {
    "duration": 9828,
    "start_time": "2022-09-29T20:56:46.139Z"
   },
   {
    "duration": 771,
    "start_time": "2022-09-29T20:56:55.969Z"
   },
   {
    "duration": 104,
    "start_time": "2022-09-29T20:56:56.742Z"
   },
   {
    "duration": 275,
    "start_time": "2022-09-29T20:56:56.848Z"
   },
   {
    "duration": 13839,
    "start_time": "2022-09-29T20:56:57.126Z"
   },
   {
    "duration": 974,
    "start_time": "2022-09-29T20:57:10.969Z"
   },
   {
    "duration": 101,
    "start_time": "2022-09-29T20:57:11.945Z"
   },
   {
    "duration": 118,
    "start_time": "2022-09-29T20:57:12.048Z"
   },
   {
    "duration": 4910,
    "start_time": "2022-09-29T20:57:12.167Z"
   },
   {
    "duration": 1504,
    "start_time": "2022-09-29T21:02:49.903Z"
   },
   {
    "duration": 49,
    "start_time": "2022-09-29T21:02:51.409Z"
   },
   {
    "duration": 15,
    "start_time": "2022-09-29T21:02:51.460Z"
   },
   {
    "duration": 19,
    "start_time": "2022-09-29T21:02:51.477Z"
   },
   {
    "duration": 77,
    "start_time": "2022-09-29T21:02:51.501Z"
   },
   {
    "duration": 5,
    "start_time": "2022-09-29T21:02:51.580Z"
   },
   {
    "duration": 6,
    "start_time": "2022-09-29T21:02:51.587Z"
   },
   {
    "duration": 7,
    "start_time": "2022-09-29T21:02:51.594Z"
   },
   {
    "duration": 7,
    "start_time": "2022-09-29T21:02:51.602Z"
   },
   {
    "duration": 8,
    "start_time": "2022-09-29T21:02:51.611Z"
   },
   {
    "duration": 37,
    "start_time": "2022-09-29T21:02:51.621Z"
   },
   {
    "duration": 16,
    "start_time": "2022-09-29T21:02:51.660Z"
   },
   {
    "duration": 7,
    "start_time": "2022-09-29T21:02:51.678Z"
   },
   {
    "duration": 7,
    "start_time": "2022-09-29T21:02:51.688Z"
   },
   {
    "duration": 6,
    "start_time": "2022-09-29T21:02:51.696Z"
   },
   {
    "duration": 20,
    "start_time": "2022-09-29T21:02:51.704Z"
   },
   {
    "duration": 21,
    "start_time": "2022-09-29T21:02:51.725Z"
   },
   {
    "duration": 15,
    "start_time": "2022-09-29T21:02:51.747Z"
   },
   {
    "duration": 12,
    "start_time": "2022-09-29T21:02:51.764Z"
   },
   {
    "duration": 7,
    "start_time": "2022-09-29T21:02:51.777Z"
   },
   {
    "duration": 5,
    "start_time": "2022-09-29T21:02:51.785Z"
   },
   {
    "duration": 10,
    "start_time": "2022-09-29T21:02:51.791Z"
   },
   {
    "duration": 6,
    "start_time": "2022-09-29T21:02:51.802Z"
   },
   {
    "duration": 11,
    "start_time": "2022-09-29T21:02:51.809Z"
   },
   {
    "duration": 36,
    "start_time": "2022-09-29T21:02:51.821Z"
   },
   {
    "duration": 12,
    "start_time": "2022-09-29T21:02:51.859Z"
   },
   {
    "duration": 12,
    "start_time": "2022-09-29T21:02:51.872Z"
   },
   {
    "duration": 18,
    "start_time": "2022-09-29T21:02:51.886Z"
   },
   {
    "duration": 10,
    "start_time": "2022-09-29T21:02:51.905Z"
   },
   {
    "duration": 31,
    "start_time": "2022-09-29T21:02:51.917Z"
   },
   {
    "duration": 18,
    "start_time": "2022-09-29T21:02:51.952Z"
   },
   {
    "duration": 204,
    "start_time": "2022-09-29T21:02:51.972Z"
   },
   {
    "duration": 10834,
    "start_time": "2022-09-29T21:02:52.178Z"
   },
   {
    "duration": 1233,
    "start_time": "2022-09-29T21:03:03.015Z"
   },
   {
    "duration": 10213,
    "start_time": "2022-09-29T21:03:04.250Z"
   },
   {
    "duration": 1786,
    "start_time": "2022-09-29T21:03:14.464Z"
   },
   {
    "duration": 94,
    "start_time": "2022-09-29T21:03:16.254Z"
   },
   {
    "duration": 256,
    "start_time": "2022-09-29T21:03:16.353Z"
   },
   {
    "duration": 13973,
    "start_time": "2022-09-29T21:03:16.610Z"
   },
   {
    "duration": 2255,
    "start_time": "2022-09-29T21:03:30.585Z"
   },
   {
    "duration": 15,
    "start_time": "2022-09-29T21:03:32.849Z"
   },
   {
    "duration": 140,
    "start_time": "2022-09-29T21:03:32.865Z"
   },
   {
    "duration": 5136,
    "start_time": "2022-09-29T21:03:33.007Z"
   },
   {
    "duration": 1463,
    "start_time": "2022-09-29T21:10:40.001Z"
   },
   {
    "duration": 50,
    "start_time": "2022-09-29T21:10:41.466Z"
   },
   {
    "duration": 18,
    "start_time": "2022-09-29T21:10:41.528Z"
   },
   {
    "duration": 22,
    "start_time": "2022-09-29T21:10:41.548Z"
   },
   {
    "duration": 49,
    "start_time": "2022-09-29T21:10:41.574Z"
   },
   {
    "duration": 5,
    "start_time": "2022-09-29T21:10:41.639Z"
   },
   {
    "duration": 10,
    "start_time": "2022-09-29T21:10:41.646Z"
   },
   {
    "duration": 6,
    "start_time": "2022-09-29T21:10:41.658Z"
   },
   {
    "duration": 6,
    "start_time": "2022-09-29T21:10:41.666Z"
   },
   {
    "duration": 9,
    "start_time": "2022-09-29T21:10:41.673Z"
   },
   {
    "duration": 6,
    "start_time": "2022-09-29T21:10:41.684Z"
   },
   {
    "duration": 13,
    "start_time": "2022-09-29T21:10:41.691Z"
   },
   {
    "duration": 10,
    "start_time": "2022-09-29T21:10:41.706Z"
   },
   {
    "duration": 8,
    "start_time": "2022-09-29T21:10:41.740Z"
   },
   {
    "duration": 12,
    "start_time": "2022-09-29T21:10:41.749Z"
   },
   {
    "duration": 25,
    "start_time": "2022-09-29T21:10:41.763Z"
   },
   {
    "duration": 5,
    "start_time": "2022-09-29T21:10:41.789Z"
   },
   {
    "duration": 4,
    "start_time": "2022-09-29T21:10:41.796Z"
   },
   {
    "duration": 9,
    "start_time": "2022-09-29T21:10:41.802Z"
   },
   {
    "duration": 7,
    "start_time": "2022-09-29T21:10:41.839Z"
   },
   {
    "duration": 7,
    "start_time": "2022-09-29T21:10:41.847Z"
   },
   {
    "duration": 12,
    "start_time": "2022-09-29T21:10:41.855Z"
   },
   {
    "duration": 7,
    "start_time": "2022-09-29T21:10:41.868Z"
   },
   {
    "duration": 8,
    "start_time": "2022-09-29T21:10:41.877Z"
   },
   {
    "duration": 5,
    "start_time": "2022-09-29T21:10:41.887Z"
   },
   {
    "duration": 9,
    "start_time": "2022-09-29T21:10:41.893Z"
   },
   {
    "duration": 37,
    "start_time": "2022-09-29T21:10:41.903Z"
   },
   {
    "duration": 19,
    "start_time": "2022-09-29T21:10:41.941Z"
   },
   {
    "duration": 9,
    "start_time": "2022-09-29T21:10:41.962Z"
   },
   {
    "duration": 9,
    "start_time": "2022-09-29T21:10:41.973Z"
   },
   {
    "duration": 8,
    "start_time": "2022-09-29T21:10:41.983Z"
   },
   {
    "duration": 217,
    "start_time": "2022-09-29T21:10:41.993Z"
   },
   {
    "duration": 10287,
    "start_time": "2022-09-29T21:10:42.212Z"
   },
   {
    "duration": 2245,
    "start_time": "2022-09-29T21:10:52.501Z"
   },
   {
    "duration": 10601,
    "start_time": "2022-09-29T21:10:54.749Z"
   },
   {
    "duration": 1790,
    "start_time": "2022-09-29T21:11:05.352Z"
   },
   {
    "duration": 14,
    "start_time": "2022-09-29T21:11:07.143Z"
   },
   {
    "duration": 328,
    "start_time": "2022-09-29T21:11:07.160Z"
   },
   {
    "duration": 13888,
    "start_time": "2022-09-29T21:11:07.491Z"
   },
   {
    "duration": 1658,
    "start_time": "2022-09-29T21:11:21.381Z"
   },
   {
    "duration": 19,
    "start_time": "2022-09-29T21:11:23.045Z"
   },
   {
    "duration": 111,
    "start_time": "2022-09-29T21:11:23.150Z"
   },
   {
    "duration": 5198,
    "start_time": "2022-09-29T21:11:23.263Z"
   },
   {
    "duration": 4,
    "start_time": "2022-09-29T21:13:22.452Z"
   },
   {
    "duration": 1472,
    "start_time": "2022-09-29T21:13:26.624Z"
   },
   {
    "duration": 44,
    "start_time": "2022-09-29T21:13:28.098Z"
   },
   {
    "duration": 15,
    "start_time": "2022-09-29T21:13:28.143Z"
   },
   {
    "duration": 20,
    "start_time": "2022-09-29T21:13:28.160Z"
   },
   {
    "duration": 61,
    "start_time": "2022-09-29T21:13:28.182Z"
   },
   {
    "duration": 5,
    "start_time": "2022-09-29T21:13:28.245Z"
   },
   {
    "duration": 10,
    "start_time": "2022-09-29T21:13:28.252Z"
   },
   {
    "duration": 6,
    "start_time": "2022-09-29T21:13:28.264Z"
   },
   {
    "duration": 6,
    "start_time": "2022-09-29T21:13:28.272Z"
   },
   {
    "duration": 7,
    "start_time": "2022-09-29T21:13:28.279Z"
   },
   {
    "duration": 10,
    "start_time": "2022-09-29T21:13:28.288Z"
   },
   {
    "duration": 13,
    "start_time": "2022-09-29T21:13:28.300Z"
   },
   {
    "duration": 9,
    "start_time": "2022-09-29T21:13:28.339Z"
   },
   {
    "duration": 12,
    "start_time": "2022-09-29T21:13:28.351Z"
   },
   {
    "duration": 27,
    "start_time": "2022-09-29T21:13:28.365Z"
   },
   {
    "duration": 26,
    "start_time": "2022-09-29T21:13:28.393Z"
   },
   {
    "duration": 5,
    "start_time": "2022-09-29T21:13:28.420Z"
   },
   {
    "duration": 11,
    "start_time": "2022-09-29T21:13:28.427Z"
   },
   {
    "duration": 8,
    "start_time": "2022-09-29T21:13:28.440Z"
   },
   {
    "duration": 6,
    "start_time": "2022-09-29T21:13:28.450Z"
   },
   {
    "duration": 5,
    "start_time": "2022-09-29T21:13:28.458Z"
   },
   {
    "duration": 11,
    "start_time": "2022-09-29T21:13:28.465Z"
   },
   {
    "duration": 4,
    "start_time": "2022-09-29T21:13:28.478Z"
   },
   {
    "duration": 8,
    "start_time": "2022-09-29T21:13:28.483Z"
   },
   {
    "duration": 4,
    "start_time": "2022-09-29T21:13:28.493Z"
   },
   {
    "duration": 42,
    "start_time": "2022-09-29T21:13:28.498Z"
   },
   {
    "duration": 13,
    "start_time": "2022-09-29T21:13:28.542Z"
   },
   {
    "duration": 18,
    "start_time": "2022-09-29T21:13:28.557Z"
   },
   {
    "duration": 13,
    "start_time": "2022-09-29T21:13:28.577Z"
   },
   {
    "duration": 17,
    "start_time": "2022-09-29T21:13:28.592Z"
   },
   {
    "duration": 7,
    "start_time": "2022-09-29T21:13:28.639Z"
   },
   {
    "duration": 224,
    "start_time": "2022-09-29T21:13:28.649Z"
   },
   {
    "duration": 10164,
    "start_time": "2022-09-29T21:13:28.875Z"
   },
   {
    "duration": 706,
    "start_time": "2022-09-29T21:13:39.041Z"
   },
   {
    "duration": 9883,
    "start_time": "2022-09-29T21:13:39.748Z"
   },
   {
    "duration": 807,
    "start_time": "2022-09-29T21:13:49.633Z"
   },
   {
    "duration": 15,
    "start_time": "2022-09-29T21:13:50.442Z"
   },
   {
    "duration": 308,
    "start_time": "2022-09-29T21:13:50.459Z"
   },
   {
    "duration": 13577,
    "start_time": "2022-09-29T21:13:50.769Z"
   },
   {
    "duration": 896,
    "start_time": "2022-09-29T21:14:04.348Z"
   },
   {
    "duration": 98,
    "start_time": "2022-09-29T21:14:05.249Z"
   },
   {
    "duration": 122,
    "start_time": "2022-09-29T21:14:05.349Z"
   },
   {
    "duration": 5036,
    "start_time": "2022-09-29T21:14:05.472Z"
   },
   {
    "duration": 13633,
    "start_time": "2022-09-29T21:15:32.741Z"
   },
   {
    "duration": 4,
    "start_time": "2022-09-29T21:15:59.150Z"
   },
   {
    "duration": 1538,
    "start_time": "2022-09-29T21:16:03.235Z"
   },
   {
    "duration": 46,
    "start_time": "2022-09-29T21:16:04.775Z"
   },
   {
    "duration": 14,
    "start_time": "2022-09-29T21:16:04.823Z"
   },
   {
    "duration": 23,
    "start_time": "2022-09-29T21:16:04.840Z"
   },
   {
    "duration": 44,
    "start_time": "2022-09-29T21:16:04.866Z"
   },
   {
    "duration": 5,
    "start_time": "2022-09-29T21:16:04.912Z"
   },
   {
    "duration": 7,
    "start_time": "2022-09-29T21:16:04.938Z"
   },
   {
    "duration": 10,
    "start_time": "2022-09-29T21:16:04.947Z"
   },
   {
    "duration": 14,
    "start_time": "2022-09-29T21:16:04.959Z"
   },
   {
    "duration": 14,
    "start_time": "2022-09-29T21:16:04.975Z"
   },
   {
    "duration": 10,
    "start_time": "2022-09-29T21:16:04.992Z"
   },
   {
    "duration": 26,
    "start_time": "2022-09-29T21:16:05.004Z"
   },
   {
    "duration": 14,
    "start_time": "2022-09-29T21:16:05.032Z"
   },
   {
    "duration": 9,
    "start_time": "2022-09-29T21:16:05.051Z"
   },
   {
    "duration": 12,
    "start_time": "2022-09-29T21:16:05.062Z"
   },
   {
    "duration": 30,
    "start_time": "2022-09-29T21:16:05.076Z"
   },
   {
    "duration": 10,
    "start_time": "2022-09-29T21:16:05.108Z"
   },
   {
    "duration": 19,
    "start_time": "2022-09-29T21:16:05.120Z"
   },
   {
    "duration": 25,
    "start_time": "2022-09-29T21:16:05.141Z"
   },
   {
    "duration": 13,
    "start_time": "2022-09-29T21:16:05.168Z"
   },
   {
    "duration": 15,
    "start_time": "2022-09-29T21:16:05.182Z"
   },
   {
    "duration": 15,
    "start_time": "2022-09-29T21:16:05.199Z"
   },
   {
    "duration": 13,
    "start_time": "2022-09-29T21:16:05.216Z"
   },
   {
    "duration": 10,
    "start_time": "2022-09-29T21:16:05.231Z"
   },
   {
    "duration": 7,
    "start_time": "2022-09-29T21:16:05.243Z"
   },
   {
    "duration": 14,
    "start_time": "2022-09-29T21:16:05.252Z"
   },
   {
    "duration": 22,
    "start_time": "2022-09-29T21:16:05.267Z"
   },
   {
    "duration": 19,
    "start_time": "2022-09-29T21:16:05.291Z"
   },
   {
    "duration": 30,
    "start_time": "2022-09-29T21:16:05.312Z"
   },
   {
    "duration": 10,
    "start_time": "2022-09-29T21:16:05.344Z"
   },
   {
    "duration": 14,
    "start_time": "2022-09-29T21:16:05.355Z"
   },
   {
    "duration": 213,
    "start_time": "2022-09-29T21:16:05.371Z"
   },
   {
    "duration": 10493,
    "start_time": "2022-09-29T21:16:05.585Z"
   },
   {
    "duration": 560,
    "start_time": "2022-09-29T21:16:16.080Z"
   },
   {
    "duration": 10220,
    "start_time": "2022-09-29T21:16:16.642Z"
   },
   {
    "duration": 675,
    "start_time": "2022-09-29T21:16:26.864Z"
   },
   {
    "duration": 14,
    "start_time": "2022-09-29T21:16:27.540Z"
   },
   {
    "duration": 303,
    "start_time": "2022-09-29T21:16:27.556Z"
   },
   {
    "duration": 14153,
    "start_time": "2022-09-29T21:16:27.861Z"
   },
   {
    "duration": 729,
    "start_time": "2022-09-29T21:16:42.016Z"
   },
   {
    "duration": 98,
    "start_time": "2022-09-29T21:16:42.751Z"
   },
   {
    "duration": 121,
    "start_time": "2022-09-29T21:16:42.851Z"
   },
   {
    "duration": 4969,
    "start_time": "2022-09-29T21:16:42.974Z"
   },
   {
    "duration": 4,
    "start_time": "2022-09-29T21:24:00.639Z"
   },
   {
    "duration": 19,
    "start_time": "2022-09-29T21:25:30.203Z"
   },
   {
    "duration": 1473,
    "start_time": "2022-09-29T21:26:29.628Z"
   },
   {
    "duration": 44,
    "start_time": "2022-09-29T21:26:31.104Z"
   },
   {
    "duration": 16,
    "start_time": "2022-09-29T21:26:31.150Z"
   },
   {
    "duration": 23,
    "start_time": "2022-09-29T21:26:31.168Z"
   },
   {
    "duration": 83,
    "start_time": "2022-09-29T21:26:31.196Z"
   },
   {
    "duration": 6,
    "start_time": "2022-09-29T21:26:31.280Z"
   },
   {
    "duration": 8,
    "start_time": "2022-09-29T21:26:31.287Z"
   },
   {
    "duration": 14,
    "start_time": "2022-09-29T21:26:31.297Z"
   },
   {
    "duration": 6,
    "start_time": "2022-09-29T21:26:31.313Z"
   },
   {
    "duration": 18,
    "start_time": "2022-09-29T21:26:31.321Z"
   },
   {
    "duration": 6,
    "start_time": "2022-09-29T21:26:31.341Z"
   },
   {
    "duration": 12,
    "start_time": "2022-09-29T21:26:31.348Z"
   },
   {
    "duration": 11,
    "start_time": "2022-09-29T21:26:31.361Z"
   },
   {
    "duration": 12,
    "start_time": "2022-09-29T21:26:31.375Z"
   },
   {
    "duration": 8,
    "start_time": "2022-09-29T21:26:31.389Z"
   },
   {
    "duration": 40,
    "start_time": "2022-09-29T21:26:31.399Z"
   },
   {
    "duration": 13,
    "start_time": "2022-09-29T21:26:31.441Z"
   },
   {
    "duration": 17,
    "start_time": "2022-09-29T21:26:31.456Z"
   },
   {
    "duration": 12,
    "start_time": "2022-09-29T21:26:31.475Z"
   },
   {
    "duration": 7,
    "start_time": "2022-09-29T21:26:31.490Z"
   },
   {
    "duration": 16,
    "start_time": "2022-09-29T21:26:31.499Z"
   },
   {
    "duration": 12,
    "start_time": "2022-09-29T21:26:31.517Z"
   },
   {
    "duration": 10,
    "start_time": "2022-09-29T21:26:31.531Z"
   },
   {
    "duration": 17,
    "start_time": "2022-09-29T21:26:31.543Z"
   },
   {
    "duration": 28,
    "start_time": "2022-09-29T21:26:31.562Z"
   },
   {
    "duration": 13,
    "start_time": "2022-09-29T21:26:31.592Z"
   },
   {
    "duration": 16,
    "start_time": "2022-09-29T21:26:31.607Z"
   },
   {
    "duration": 37,
    "start_time": "2022-09-29T21:26:31.625Z"
   },
   {
    "duration": 13,
    "start_time": "2022-09-29T21:26:31.664Z"
   },
   {
    "duration": 26,
    "start_time": "2022-09-29T21:26:31.679Z"
   },
   {
    "duration": 24,
    "start_time": "2022-09-29T21:26:31.707Z"
   },
   {
    "duration": 58,
    "start_time": "2022-09-29T21:26:31.733Z"
   },
   {
    "duration": 8,
    "start_time": "2022-09-29T21:26:31.792Z"
   },
   {
    "duration": 199,
    "start_time": "2022-09-29T21:26:31.802Z"
   },
   {
    "duration": 10389,
    "start_time": "2022-09-29T21:26:32.002Z"
   },
   {
    "duration": 158,
    "start_time": "2022-09-29T21:26:42.393Z"
   },
   {
    "duration": 10149,
    "start_time": "2022-09-29T21:26:42.637Z"
   },
   {
    "duration": 465,
    "start_time": "2022-09-29T21:26:52.788Z"
   },
   {
    "duration": 91,
    "start_time": "2022-09-29T21:26:53.257Z"
   },
   {
    "duration": 301,
    "start_time": "2022-09-29T21:26:53.354Z"
   },
   {
    "duration": 14268,
    "start_time": "2022-09-29T21:26:53.659Z"
   },
   {
    "duration": 418,
    "start_time": "2022-09-29T21:27:07.928Z"
   },
   {
    "duration": 96,
    "start_time": "2022-09-29T21:27:08.348Z"
   },
   {
    "duration": 129,
    "start_time": "2022-09-29T21:27:08.447Z"
   },
   {
    "duration": 5120,
    "start_time": "2022-09-29T21:27:08.578Z"
   },
   {
    "duration": 267,
    "start_time": "2022-09-29T21:31:55.188Z"
   },
   {
    "duration": 5223,
    "start_time": "2022-09-29T21:32:22.831Z"
   },
   {
    "duration": 1457,
    "start_time": "2022-09-29T21:42:54.597Z"
   },
   {
    "duration": 42,
    "start_time": "2022-09-29T21:42:56.056Z"
   },
   {
    "duration": 12,
    "start_time": "2022-09-29T21:42:56.100Z"
   },
   {
    "duration": 18,
    "start_time": "2022-09-29T21:42:56.114Z"
   },
   {
    "duration": 53,
    "start_time": "2022-09-29T21:42:56.135Z"
   },
   {
    "duration": 5,
    "start_time": "2022-09-29T21:42:56.189Z"
   },
   {
    "duration": 20,
    "start_time": "2022-09-29T21:42:56.195Z"
   },
   {
    "duration": 21,
    "start_time": "2022-09-29T21:42:56.217Z"
   },
   {
    "duration": 19,
    "start_time": "2022-09-29T21:42:56.240Z"
   },
   {
    "duration": 22,
    "start_time": "2022-09-29T21:42:56.261Z"
   },
   {
    "duration": 15,
    "start_time": "2022-09-29T21:42:56.285Z"
   },
   {
    "duration": 33,
    "start_time": "2022-09-29T21:42:56.302Z"
   },
   {
    "duration": 31,
    "start_time": "2022-09-29T21:42:56.337Z"
   },
   {
    "duration": 28,
    "start_time": "2022-09-29T21:42:56.371Z"
   },
   {
    "duration": 10,
    "start_time": "2022-09-29T21:42:56.401Z"
   },
   {
    "duration": 43,
    "start_time": "2022-09-29T21:42:56.413Z"
   },
   {
    "duration": 4,
    "start_time": "2022-09-29T21:42:56.457Z"
   },
   {
    "duration": 20,
    "start_time": "2022-09-29T21:42:56.463Z"
   },
   {
    "duration": 16,
    "start_time": "2022-09-29T21:42:56.485Z"
   },
   {
    "duration": 9,
    "start_time": "2022-09-29T21:42:56.502Z"
   },
   {
    "duration": 5,
    "start_time": "2022-09-29T21:42:56.513Z"
   },
   {
    "duration": 10,
    "start_time": "2022-09-29T21:42:56.519Z"
   },
   {
    "duration": 7,
    "start_time": "2022-09-29T21:42:56.531Z"
   },
   {
    "duration": 7,
    "start_time": "2022-09-29T21:42:56.540Z"
   },
   {
    "duration": 7,
    "start_time": "2022-09-29T21:42:56.549Z"
   },
   {
    "duration": 10,
    "start_time": "2022-09-29T21:42:56.557Z"
   },
   {
    "duration": 12,
    "start_time": "2022-09-29T21:42:56.569Z"
   },
   {
    "duration": 25,
    "start_time": "2022-09-29T21:42:56.583Z"
   },
   {
    "duration": 9,
    "start_time": "2022-09-29T21:42:56.610Z"
   },
   {
    "duration": 25,
    "start_time": "2022-09-29T21:42:56.621Z"
   },
   {
    "duration": 6,
    "start_time": "2022-09-29T21:42:56.647Z"
   },
   {
    "duration": 30,
    "start_time": "2022-09-29T21:42:56.654Z"
   },
   {
    "duration": 7,
    "start_time": "2022-09-29T21:42:56.685Z"
   },
   {
    "duration": 213,
    "start_time": "2022-09-29T21:42:56.693Z"
   },
   {
    "duration": 10190,
    "start_time": "2022-09-29T21:42:56.908Z"
   },
   {
    "duration": 741,
    "start_time": "2022-09-29T21:43:07.100Z"
   },
   {
    "duration": 10325,
    "start_time": "2022-09-29T21:43:07.845Z"
   },
   {
    "duration": 570,
    "start_time": "2022-09-29T21:43:18.172Z"
   },
   {
    "duration": 16,
    "start_time": "2022-09-29T21:43:18.744Z"
   },
   {
    "duration": 333,
    "start_time": "2022-09-29T21:43:18.762Z"
   },
   {
    "duration": 18671,
    "start_time": "2022-09-29T21:43:19.098Z"
   },
   {
    "duration": 975,
    "start_time": "2022-09-29T21:43:37.771Z"
   },
   {
    "duration": 13,
    "start_time": "2022-09-29T21:43:38.749Z"
   },
   {
    "duration": 125,
    "start_time": "2022-09-29T21:43:38.764Z"
   },
   {
    "duration": 4559,
    "start_time": "2022-09-29T21:43:38.891Z"
   },
   {
    "duration": 203,
    "start_time": "2022-09-29T21:44:46.581Z"
   },
   {
    "duration": 12,
    "start_time": "2022-09-29T21:45:01.197Z"
   },
   {
    "duration": 223,
    "start_time": "2022-09-29T21:45:01.401Z"
   },
   {
    "duration": 11745,
    "start_time": "2022-09-29T21:45:02.543Z"
   },
   {
    "duration": 453,
    "start_time": "2022-09-29T21:45:14.290Z"
   },
   {
    "duration": 21,
    "start_time": "2022-09-29T21:45:28.229Z"
   },
   {
    "duration": 242,
    "start_time": "2022-09-29T21:45:28.252Z"
   },
   {
    "duration": 13146,
    "start_time": "2022-09-29T21:45:28.954Z"
   },
   {
    "duration": 552,
    "start_time": "2022-09-29T21:45:42.102Z"
   },
   {
    "duration": 13,
    "start_time": "2022-09-29T21:46:04.268Z"
   },
   {
    "duration": 276,
    "start_time": "2022-09-29T21:46:04.507Z"
   },
   {
    "duration": 14801,
    "start_time": "2022-09-29T21:46:06.155Z"
   },
   {
    "duration": 13,
    "start_time": "2022-09-29T21:46:21.406Z"
   },
   {
    "duration": 146,
    "start_time": "2022-09-29T21:46:21.834Z"
   },
   {
    "duration": 7670,
    "start_time": "2022-09-29T21:46:22.322Z"
   },
   {
    "duration": 12,
    "start_time": "2022-09-29T21:46:37.574Z"
   },
   {
    "duration": 161,
    "start_time": "2022-09-29T21:46:37.991Z"
   },
   {
    "duration": 8788,
    "start_time": "2022-09-29T21:46:38.432Z"
   },
   {
    "duration": 12,
    "start_time": "2022-09-29T21:47:06.563Z"
   },
   {
    "duration": 248,
    "start_time": "2022-09-29T21:47:06.753Z"
   },
   {
    "duration": 13806,
    "start_time": "2022-09-29T21:47:07.895Z"
   },
   {
    "duration": 545,
    "start_time": "2022-09-29T21:47:21.703Z"
   },
   {
    "duration": 12,
    "start_time": "2022-09-29T21:47:36.057Z"
   },
   {
    "duration": 148,
    "start_time": "2022-09-29T21:47:36.519Z"
   },
   {
    "duration": 7059,
    "start_time": "2022-09-29T21:47:36.971Z"
   },
   {
    "duration": 3,
    "start_time": "2022-09-29T21:48:41.694Z"
   },
   {
    "duration": 1409,
    "start_time": "2022-09-29T21:48:45.185Z"
   },
   {
    "duration": 50,
    "start_time": "2022-09-29T21:48:46.596Z"
   },
   {
    "duration": 15,
    "start_time": "2022-09-29T21:48:46.651Z"
   },
   {
    "duration": 17,
    "start_time": "2022-09-29T21:48:46.667Z"
   },
   {
    "duration": 64,
    "start_time": "2022-09-29T21:48:46.687Z"
   },
   {
    "duration": 5,
    "start_time": "2022-09-29T21:48:46.753Z"
   },
   {
    "duration": 8,
    "start_time": "2022-09-29T21:48:46.759Z"
   },
   {
    "duration": 6,
    "start_time": "2022-09-29T21:48:46.769Z"
   },
   {
    "duration": 7,
    "start_time": "2022-09-29T21:48:46.776Z"
   },
   {
    "duration": 7,
    "start_time": "2022-09-29T21:48:46.785Z"
   },
   {
    "duration": 7,
    "start_time": "2022-09-29T21:48:46.793Z"
   },
   {
    "duration": 12,
    "start_time": "2022-09-29T21:48:46.802Z"
   },
   {
    "duration": 39,
    "start_time": "2022-09-29T21:48:46.816Z"
   },
   {
    "duration": 8,
    "start_time": "2022-09-29T21:48:46.859Z"
   },
   {
    "duration": 6,
    "start_time": "2022-09-29T21:48:46.869Z"
   },
   {
    "duration": 18,
    "start_time": "2022-09-29T21:48:46.877Z"
   },
   {
    "duration": 6,
    "start_time": "2022-09-29T21:48:46.897Z"
   },
   {
    "duration": 4,
    "start_time": "2022-09-29T21:48:46.905Z"
   },
   {
    "duration": 31,
    "start_time": "2022-09-29T21:48:46.911Z"
   },
   {
    "duration": 10,
    "start_time": "2022-09-29T21:48:46.943Z"
   },
   {
    "duration": 8,
    "start_time": "2022-09-29T21:48:46.955Z"
   },
   {
    "duration": 8,
    "start_time": "2022-09-29T21:48:46.964Z"
   },
   {
    "duration": 4,
    "start_time": "2022-09-29T21:48:46.973Z"
   },
   {
    "duration": 10,
    "start_time": "2022-09-29T21:48:46.979Z"
   },
   {
    "duration": 5,
    "start_time": "2022-09-29T21:48:46.990Z"
   },
   {
    "duration": 54,
    "start_time": "2022-09-29T21:48:46.996Z"
   },
   {
    "duration": 11,
    "start_time": "2022-09-29T21:48:47.052Z"
   },
   {
    "duration": 17,
    "start_time": "2022-09-29T21:48:47.064Z"
   },
   {
    "duration": 8,
    "start_time": "2022-09-29T21:48:47.083Z"
   },
   {
    "duration": 7,
    "start_time": "2022-09-29T21:48:47.092Z"
   },
   {
    "duration": 4,
    "start_time": "2022-09-29T21:48:47.101Z"
   },
   {
    "duration": 70,
    "start_time": "2022-09-29T21:48:47.107Z"
   },
   {
    "duration": 21,
    "start_time": "2022-09-29T21:48:47.179Z"
   },
   {
    "duration": 20,
    "start_time": "2022-09-29T21:48:47.202Z"
   },
   {
    "duration": 223,
    "start_time": "2022-09-29T21:48:47.224Z"
   },
   {
    "duration": 10308,
    "start_time": "2022-09-29T21:48:47.450Z"
   },
   {
    "duration": 398,
    "start_time": "2022-09-29T21:48:57.760Z"
   },
   {
    "duration": 297,
    "start_time": "2022-09-29T21:48:58.162Z"
   },
   {
    "duration": 10138,
    "start_time": "2022-09-29T21:48:58.461Z"
   },
   {
    "duration": 441,
    "start_time": "2022-09-29T21:49:08.601Z"
   },
   {
    "duration": 89,
    "start_time": "2022-09-29T21:49:09.063Z"
   },
   {
    "duration": 251,
    "start_time": "2022-09-29T21:49:09.155Z"
   },
   {
    "duration": 13726,
    "start_time": "2022-09-29T21:49:09.407Z"
   },
   {
    "duration": 413,
    "start_time": "2022-09-29T21:49:23.138Z"
   },
   {
    "duration": 87,
    "start_time": "2022-09-29T21:49:23.555Z"
   },
   {
    "duration": 140,
    "start_time": "2022-09-29T21:49:23.653Z"
   },
   {
    "duration": 7273,
    "start_time": "2022-09-29T21:49:23.795Z"
   },
   {
    "duration": 18,
    "start_time": "2022-09-29T21:49:44.761Z"
   },
   {
    "duration": 1381,
    "start_time": "2022-09-29T21:52:06.159Z"
   },
   {
    "duration": 41,
    "start_time": "2022-09-29T21:52:07.543Z"
   },
   {
    "duration": 13,
    "start_time": "2022-09-29T21:52:07.586Z"
   },
   {
    "duration": 23,
    "start_time": "2022-09-29T21:52:07.601Z"
   },
   {
    "duration": 40,
    "start_time": "2022-09-29T21:52:07.626Z"
   },
   {
    "duration": 4,
    "start_time": "2022-09-29T21:52:07.667Z"
   },
   {
    "duration": 8,
    "start_time": "2022-09-29T21:52:07.673Z"
   },
   {
    "duration": 6,
    "start_time": "2022-09-29T21:52:07.682Z"
   },
   {
    "duration": 6,
    "start_time": "2022-09-29T21:52:07.689Z"
   },
   {
    "duration": 10,
    "start_time": "2022-09-29T21:52:07.696Z"
   },
   {
    "duration": 11,
    "start_time": "2022-09-29T21:52:07.708Z"
   },
   {
    "duration": 19,
    "start_time": "2022-09-29T21:52:07.720Z"
   },
   {
    "duration": 6,
    "start_time": "2022-09-29T21:52:07.741Z"
   },
   {
    "duration": 8,
    "start_time": "2022-09-29T21:52:07.749Z"
   },
   {
    "duration": 9,
    "start_time": "2022-09-29T21:52:07.758Z"
   },
   {
    "duration": 21,
    "start_time": "2022-09-29T21:52:07.768Z"
   },
   {
    "duration": 5,
    "start_time": "2022-09-29T21:52:07.790Z"
   },
   {
    "duration": 5,
    "start_time": "2022-09-29T21:52:07.797Z"
   },
   {
    "duration": 37,
    "start_time": "2022-09-29T21:52:07.803Z"
   },
   {
    "duration": 7,
    "start_time": "2022-09-29T21:52:07.841Z"
   },
   {
    "duration": 8,
    "start_time": "2022-09-29T21:52:07.849Z"
   },
   {
    "duration": 10,
    "start_time": "2022-09-29T21:52:07.859Z"
   },
   {
    "duration": 7,
    "start_time": "2022-09-29T21:52:07.871Z"
   },
   {
    "duration": 9,
    "start_time": "2022-09-29T21:52:07.879Z"
   },
   {
    "duration": 5,
    "start_time": "2022-09-29T21:52:07.889Z"
   },
   {
    "duration": 8,
    "start_time": "2022-09-29T21:52:07.896Z"
   },
   {
    "duration": 34,
    "start_time": "2022-09-29T21:52:07.905Z"
   },
   {
    "duration": 17,
    "start_time": "2022-09-29T21:52:07.940Z"
   },
   {
    "duration": 9,
    "start_time": "2022-09-29T21:52:07.958Z"
   },
   {
    "duration": 8,
    "start_time": "2022-09-29T21:52:07.969Z"
   },
   {
    "duration": 7,
    "start_time": "2022-09-29T21:52:07.979Z"
   },
   {
    "duration": 28,
    "start_time": "2022-09-29T21:52:07.987Z"
   },
   {
    "duration": 6,
    "start_time": "2022-09-29T21:52:08.038Z"
   },
   {
    "duration": 195,
    "start_time": "2022-09-29T21:52:08.046Z"
   },
   {
    "duration": 9509,
    "start_time": "2022-09-29T21:52:08.243Z"
   },
   {
    "duration": 389,
    "start_time": "2022-09-29T21:52:17.754Z"
   },
   {
    "duration": 300,
    "start_time": "2022-09-29T21:52:18.145Z"
   },
   {
    "duration": 9511,
    "start_time": "2022-09-29T21:52:18.446Z"
   },
   {
    "duration": 380,
    "start_time": "2022-09-29T21:52:27.958Z"
   },
   {
    "duration": 12,
    "start_time": "2022-09-29T21:52:28.340Z"
   },
   {
    "duration": 284,
    "start_time": "2022-09-29T21:52:28.356Z"
   },
   {
    "duration": 13013,
    "start_time": "2022-09-29T21:52:28.642Z"
   },
   {
    "duration": 484,
    "start_time": "2022-09-29T21:52:41.656Z"
   },
   {
    "duration": 14,
    "start_time": "2022-09-29T21:52:42.142Z"
   },
   {
    "duration": 133,
    "start_time": "2022-09-29T21:52:42.239Z"
   },
   {
    "duration": 6694,
    "start_time": "2022-09-29T21:52:42.374Z"
   },
   {
    "duration": 6964,
    "start_time": "2022-09-29T22:00:48.104Z"
   },
   {
    "duration": 20,
    "start_time": "2022-09-29T22:01:16.982Z"
   },
   {
    "duration": 24,
    "start_time": "2022-09-29T22:01:31.799Z"
   },
   {
    "duration": 22,
    "start_time": "2022-09-29T22:03:38.083Z"
   },
   {
    "duration": 23,
    "start_time": "2022-09-29T22:04:30.756Z"
   },
   {
    "duration": 25,
    "start_time": "2022-09-29T22:04:54.484Z"
   },
   {
    "duration": 13367,
    "start_time": "2022-09-29T22:06:53.718Z"
   },
   {
    "duration": 31,
    "start_time": "2022-09-29T22:08:03.825Z"
   },
   {
    "duration": 11,
    "start_time": "2022-09-29T22:11:05.654Z"
   },
   {
    "duration": 9,
    "start_time": "2022-09-29T22:11:34.014Z"
   },
   {
    "duration": 115,
    "start_time": "2022-09-29T22:13:53.834Z"
   },
   {
    "duration": 12,
    "start_time": "2022-09-29T22:14:47.649Z"
   },
   {
    "duration": 9,
    "start_time": "2022-09-29T22:14:48.403Z"
   },
   {
    "duration": 1410,
    "start_time": "2022-09-29T22:14:52.166Z"
   },
   {
    "duration": 43,
    "start_time": "2022-09-29T22:14:53.578Z"
   },
   {
    "duration": 13,
    "start_time": "2022-09-29T22:14:53.623Z"
   },
   {
    "duration": 17,
    "start_time": "2022-09-29T22:14:53.639Z"
   },
   {
    "duration": 43,
    "start_time": "2022-09-29T22:14:53.658Z"
   },
   {
    "duration": 6,
    "start_time": "2022-09-29T22:14:53.703Z"
   },
   {
    "duration": 35,
    "start_time": "2022-09-29T22:14:53.710Z"
   },
   {
    "duration": 12,
    "start_time": "2022-09-29T22:14:53.747Z"
   },
   {
    "duration": 6,
    "start_time": "2022-09-29T22:14:53.760Z"
   },
   {
    "duration": 6,
    "start_time": "2022-09-29T22:14:53.769Z"
   },
   {
    "duration": 6,
    "start_time": "2022-09-29T22:14:53.777Z"
   },
   {
    "duration": 11,
    "start_time": "2022-09-29T22:14:53.784Z"
   },
   {
    "duration": 8,
    "start_time": "2022-09-29T22:14:53.797Z"
   },
   {
    "duration": 10,
    "start_time": "2022-09-29T22:14:53.838Z"
   },
   {
    "duration": 10,
    "start_time": "2022-09-29T22:14:53.850Z"
   },
   {
    "duration": 32,
    "start_time": "2022-09-29T22:14:53.863Z"
   },
   {
    "duration": 5,
    "start_time": "2022-09-29T22:14:53.897Z"
   },
   {
    "duration": 6,
    "start_time": "2022-09-29T22:14:53.904Z"
   },
   {
    "duration": 37,
    "start_time": "2022-09-29T22:14:53.911Z"
   },
   {
    "duration": 7,
    "start_time": "2022-09-29T22:14:53.950Z"
   },
   {
    "duration": 6,
    "start_time": "2022-09-29T22:14:53.960Z"
   },
   {
    "duration": 10,
    "start_time": "2022-09-29T22:14:53.968Z"
   },
   {
    "duration": 8,
    "start_time": "2022-09-29T22:14:53.979Z"
   },
   {
    "duration": 9,
    "start_time": "2022-09-29T22:14:53.989Z"
   },
   {
    "duration": 5,
    "start_time": "2022-09-29T22:14:54.000Z"
   },
   {
    "duration": 38,
    "start_time": "2022-09-29T22:14:54.007Z"
   },
   {
    "duration": 19,
    "start_time": "2022-09-29T22:14:54.047Z"
   },
   {
    "duration": 26,
    "start_time": "2022-09-29T22:14:54.071Z"
   },
   {
    "duration": 4,
    "start_time": "2022-09-29T22:14:54.099Z"
   },
   {
    "duration": 34,
    "start_time": "2022-09-29T22:14:54.105Z"
   },
   {
    "duration": 6,
    "start_time": "2022-09-29T22:14:54.141Z"
   },
   {
    "duration": 3,
    "start_time": "2022-09-29T22:14:54.149Z"
   },
   {
    "duration": 32,
    "start_time": "2022-09-29T22:14:54.154Z"
   },
   {
    "duration": 7,
    "start_time": "2022-09-29T22:14:54.187Z"
   },
   {
    "duration": 218,
    "start_time": "2022-09-29T22:14:54.195Z"
   },
   {
    "duration": 11099,
    "start_time": "2022-09-29T22:14:54.415Z"
   },
   {
    "duration": 324,
    "start_time": "2022-09-29T22:15:05.516Z"
   },
   {
    "duration": 296,
    "start_time": "2022-09-29T22:15:05.842Z"
   },
   {
    "duration": 10021,
    "start_time": "2022-09-29T22:15:06.140Z"
   },
   {
    "duration": 689,
    "start_time": "2022-09-29T22:15:16.162Z"
   },
   {
    "duration": 189,
    "start_time": "2022-09-29T22:15:16.852Z"
   },
   {
    "duration": 281,
    "start_time": "2022-09-29T22:15:17.043Z"
   },
   {
    "duration": 13859,
    "start_time": "2022-09-29T22:15:17.325Z"
   },
   {
    "duration": 458,
    "start_time": "2022-09-29T22:15:31.185Z"
   },
   {
    "duration": 101,
    "start_time": "2022-09-29T22:15:31.645Z"
   },
   {
    "duration": 147,
    "start_time": "2022-09-29T22:15:31.747Z"
   },
   {
    "duration": 7036,
    "start_time": "2022-09-29T22:15:31.896Z"
   },
   {
    "duration": 28,
    "start_time": "2022-09-29T22:15:38.939Z"
   },
   {
    "duration": 10,
    "start_time": "2022-09-29T22:15:38.969Z"
   },
   {
    "duration": 8,
    "start_time": "2022-09-29T22:15:38.980Z"
   },
   {
    "duration": 1497,
    "start_time": "2022-09-29T22:17:52.703Z"
   },
   {
    "duration": 42,
    "start_time": "2022-09-29T22:17:54.202Z"
   },
   {
    "duration": 13,
    "start_time": "2022-09-29T22:17:54.246Z"
   },
   {
    "duration": 17,
    "start_time": "2022-09-29T22:17:54.261Z"
   },
   {
    "duration": 63,
    "start_time": "2022-09-29T22:17:54.279Z"
   },
   {
    "duration": 4,
    "start_time": "2022-09-29T22:17:54.344Z"
   },
   {
    "duration": 9,
    "start_time": "2022-09-29T22:17:54.350Z"
   },
   {
    "duration": 11,
    "start_time": "2022-09-29T22:17:54.361Z"
   },
   {
    "duration": 6,
    "start_time": "2022-09-29T22:17:54.374Z"
   },
   {
    "duration": 9,
    "start_time": "2022-09-29T22:17:54.383Z"
   },
   {
    "duration": 6,
    "start_time": "2022-09-29T22:17:54.393Z"
   },
   {
    "duration": 13,
    "start_time": "2022-09-29T22:17:54.401Z"
   },
   {
    "duration": 6,
    "start_time": "2022-09-29T22:17:54.416Z"
   },
   {
    "duration": 7,
    "start_time": "2022-09-29T22:17:54.440Z"
   },
   {
    "duration": 8,
    "start_time": "2022-09-29T22:17:54.448Z"
   },
   {
    "duration": 19,
    "start_time": "2022-09-29T22:17:54.458Z"
   },
   {
    "duration": 7,
    "start_time": "2022-09-29T22:17:54.479Z"
   },
   {
    "duration": 6,
    "start_time": "2022-09-29T22:17:54.487Z"
   },
   {
    "duration": 8,
    "start_time": "2022-09-29T22:17:54.495Z"
   },
   {
    "duration": 39,
    "start_time": "2022-09-29T22:17:54.505Z"
   },
   {
    "duration": 5,
    "start_time": "2022-09-29T22:17:54.545Z"
   },
   {
    "duration": 8,
    "start_time": "2022-09-29T22:17:54.551Z"
   },
   {
    "duration": 9,
    "start_time": "2022-09-29T22:17:54.561Z"
   },
   {
    "duration": 12,
    "start_time": "2022-09-29T22:17:54.572Z"
   },
   {
    "duration": 5,
    "start_time": "2022-09-29T22:17:54.586Z"
   },
   {
    "duration": 8,
    "start_time": "2022-09-29T22:17:54.593Z"
   },
   {
    "duration": 40,
    "start_time": "2022-09-29T22:17:54.603Z"
   },
   {
    "duration": 19,
    "start_time": "2022-09-29T22:17:54.647Z"
   },
   {
    "duration": 6,
    "start_time": "2022-09-29T22:17:54.668Z"
   },
   {
    "duration": 9,
    "start_time": "2022-09-29T22:17:54.675Z"
   },
   {
    "duration": 8,
    "start_time": "2022-09-29T22:17:54.686Z"
   },
   {
    "duration": 43,
    "start_time": "2022-09-29T22:17:54.696Z"
   },
   {
    "duration": 10,
    "start_time": "2022-09-29T22:17:54.741Z"
   },
   {
    "duration": 191,
    "start_time": "2022-09-29T22:17:54.753Z"
   },
   {
    "duration": 9939,
    "start_time": "2022-09-29T22:17:54.946Z"
   },
   {
    "duration": 462,
    "start_time": "2022-09-29T22:18:04.886Z"
   },
   {
    "duration": 295,
    "start_time": "2022-09-29T22:18:05.440Z"
   },
   {
    "duration": 9715,
    "start_time": "2022-09-29T22:18:05.738Z"
   },
   {
    "duration": 685,
    "start_time": "2022-09-29T22:18:15.455Z"
   },
   {
    "duration": 105,
    "start_time": "2022-09-29T22:18:16.144Z"
   },
   {
    "duration": 251,
    "start_time": "2022-09-29T22:18:16.251Z"
   },
   {
    "duration": 13238,
    "start_time": "2022-09-29T22:18:16.504Z"
   },
   {
    "duration": 896,
    "start_time": "2022-09-29T22:18:29.744Z"
   },
   {
    "duration": 105,
    "start_time": "2022-09-29T22:18:30.642Z"
   },
   {
    "duration": 147,
    "start_time": "2022-09-29T22:18:30.748Z"
   },
   {
    "duration": 6794,
    "start_time": "2022-09-29T22:18:30.897Z"
   },
   {
    "duration": 28,
    "start_time": "2022-09-29T22:18:37.693Z"
   },
   {
    "duration": 10,
    "start_time": "2022-09-29T22:18:37.738Z"
   },
   {
    "duration": 8,
    "start_time": "2022-09-29T22:18:37.749Z"
   },
   {
    "duration": 7,
    "start_time": "2022-09-29T22:22:27.131Z"
   },
   {
    "duration": 1460,
    "start_time": "2022-09-29T22:22:30.702Z"
   },
   {
    "duration": 42,
    "start_time": "2022-09-29T22:22:32.164Z"
   },
   {
    "duration": 13,
    "start_time": "2022-09-29T22:22:32.209Z"
   },
   {
    "duration": 20,
    "start_time": "2022-09-29T22:22:32.224Z"
   },
   {
    "duration": 40,
    "start_time": "2022-09-29T22:22:32.246Z"
   },
   {
    "duration": 6,
    "start_time": "2022-09-29T22:22:32.288Z"
   },
   {
    "duration": 10,
    "start_time": "2022-09-29T22:22:32.296Z"
   },
   {
    "duration": 12,
    "start_time": "2022-09-29T22:22:32.309Z"
   },
   {
    "duration": 17,
    "start_time": "2022-09-29T22:22:32.323Z"
   },
   {
    "duration": 11,
    "start_time": "2022-09-29T22:22:32.342Z"
   },
   {
    "duration": 6,
    "start_time": "2022-09-29T22:22:32.355Z"
   },
   {
    "duration": 11,
    "start_time": "2022-09-29T22:22:32.363Z"
   },
   {
    "duration": 8,
    "start_time": "2022-09-29T22:22:32.378Z"
   },
   {
    "duration": 14,
    "start_time": "2022-09-29T22:22:32.387Z"
   },
   {
    "duration": 6,
    "start_time": "2022-09-29T22:22:32.403Z"
   },
   {
    "duration": 47,
    "start_time": "2022-09-29T22:22:32.411Z"
   },
   {
    "duration": 17,
    "start_time": "2022-09-29T22:22:32.460Z"
   },
   {
    "duration": 18,
    "start_time": "2022-09-29T22:22:32.478Z"
   },
   {
    "duration": 12,
    "start_time": "2022-09-29T22:22:32.498Z"
   },
   {
    "duration": 6,
    "start_time": "2022-09-29T22:22:32.513Z"
   },
   {
    "duration": 7,
    "start_time": "2022-09-29T22:22:32.521Z"
   },
   {
    "duration": 12,
    "start_time": "2022-09-29T22:22:32.530Z"
   },
   {
    "duration": 10,
    "start_time": "2022-09-29T22:22:32.543Z"
   },
   {
    "duration": 17,
    "start_time": "2022-09-29T22:22:32.554Z"
   },
   {
    "duration": 22,
    "start_time": "2022-09-29T22:22:32.573Z"
   },
   {
    "duration": 14,
    "start_time": "2022-09-29T22:22:32.597Z"
   },
   {
    "duration": 24,
    "start_time": "2022-09-29T22:22:32.613Z"
   },
   {
    "duration": 17,
    "start_time": "2022-09-29T22:22:32.639Z"
   },
   {
    "duration": 4,
    "start_time": "2022-09-29T22:22:32.658Z"
   },
   {
    "duration": 8,
    "start_time": "2022-09-29T22:22:32.664Z"
   },
   {
    "duration": 6,
    "start_time": "2022-09-29T22:22:32.674Z"
   },
   {
    "duration": 7,
    "start_time": "2022-09-29T22:22:32.681Z"
   },
   {
    "duration": 9,
    "start_time": "2022-09-29T22:22:32.689Z"
   },
   {
    "duration": 267,
    "start_time": "2022-09-29T22:22:32.699Z"
   },
   {
    "duration": 11714,
    "start_time": "2022-09-29T22:22:32.967Z"
   },
   {
    "duration": 765,
    "start_time": "2022-09-29T22:22:44.682Z"
   },
   {
    "duration": 338,
    "start_time": "2022-09-29T22:22:45.449Z"
   },
   {
    "duration": 11571,
    "start_time": "2022-09-29T22:22:45.789Z"
   },
   {
    "duration": 785,
    "start_time": "2022-09-29T22:22:57.362Z"
   },
   {
    "duration": 99,
    "start_time": "2022-09-29T22:22:58.152Z"
   },
   {
    "duration": 318,
    "start_time": "2022-09-29T22:22:58.253Z"
   },
   {
    "duration": 16182,
    "start_time": "2022-09-29T22:22:58.573Z"
   },
   {
    "duration": 1084,
    "start_time": "2022-09-29T22:23:14.756Z"
   },
   {
    "duration": 100,
    "start_time": "2022-09-29T22:23:15.842Z"
   },
   {
    "duration": 147,
    "start_time": "2022-09-29T22:23:15.943Z"
   },
   {
    "duration": 7598,
    "start_time": "2022-09-29T22:23:16.091Z"
   },
   {
    "duration": 17,
    "start_time": "2022-09-29T22:23:23.691Z"
   },
   {
    "duration": 31,
    "start_time": "2022-09-29T22:23:23.710Z"
   },
   {
    "duration": 9,
    "start_time": "2022-09-29T22:23:23.742Z"
   },
   {
    "duration": 1392,
    "start_time": "2022-09-29T22:25:29.558Z"
   },
   {
    "duration": 43,
    "start_time": "2022-09-29T22:25:30.952Z"
   },
   {
    "duration": 13,
    "start_time": "2022-09-29T22:25:30.996Z"
   },
   {
    "duration": 29,
    "start_time": "2022-09-29T22:25:31.011Z"
   },
   {
    "duration": 69,
    "start_time": "2022-09-29T22:25:31.041Z"
   },
   {
    "duration": 5,
    "start_time": "2022-09-29T22:25:31.111Z"
   },
   {
    "duration": 28,
    "start_time": "2022-09-29T22:25:31.117Z"
   },
   {
    "duration": 38,
    "start_time": "2022-09-29T22:25:31.147Z"
   },
   {
    "duration": 9,
    "start_time": "2022-09-29T22:25:31.187Z"
   },
   {
    "duration": 27,
    "start_time": "2022-09-29T22:25:31.198Z"
   },
   {
    "duration": 50,
    "start_time": "2022-09-29T22:25:31.227Z"
   },
   {
    "duration": 29,
    "start_time": "2022-09-29T22:25:31.278Z"
   },
   {
    "duration": 28,
    "start_time": "2022-09-29T22:25:31.309Z"
   },
   {
    "duration": 26,
    "start_time": "2022-09-29T22:25:31.338Z"
   },
   {
    "duration": 24,
    "start_time": "2022-09-29T22:25:31.365Z"
   },
   {
    "duration": 38,
    "start_time": "2022-09-29T22:25:31.391Z"
   },
   {
    "duration": 16,
    "start_time": "2022-09-29T22:25:31.431Z"
   },
   {
    "duration": 25,
    "start_time": "2022-09-29T22:25:31.448Z"
   },
   {
    "duration": 13,
    "start_time": "2022-09-29T22:25:31.475Z"
   },
   {
    "duration": 6,
    "start_time": "2022-09-29T22:25:31.489Z"
   },
   {
    "duration": 17,
    "start_time": "2022-09-29T22:25:31.497Z"
   },
   {
    "duration": 23,
    "start_time": "2022-09-29T22:25:31.516Z"
   },
   {
    "duration": 13,
    "start_time": "2022-09-29T22:25:31.541Z"
   },
   {
    "duration": 36,
    "start_time": "2022-09-29T22:25:31.555Z"
   },
   {
    "duration": 8,
    "start_time": "2022-09-29T22:25:31.593Z"
   },
   {
    "duration": 24,
    "start_time": "2022-09-29T22:25:31.603Z"
   },
   {
    "duration": 22,
    "start_time": "2022-09-29T22:25:31.628Z"
   },
   {
    "duration": 23,
    "start_time": "2022-09-29T22:25:31.653Z"
   },
   {
    "duration": 20,
    "start_time": "2022-09-29T22:25:31.678Z"
   },
   {
    "duration": 9,
    "start_time": "2022-09-29T22:25:31.700Z"
   },
   {
    "duration": 23,
    "start_time": "2022-09-29T22:25:31.711Z"
   },
   {
    "duration": 28,
    "start_time": "2022-09-29T22:25:31.735Z"
   },
   {
    "duration": 19,
    "start_time": "2022-09-29T22:25:31.764Z"
   },
   {
    "duration": 220,
    "start_time": "2022-09-29T22:25:31.784Z"
   },
   {
    "duration": 11428,
    "start_time": "2022-09-29T22:25:32.005Z"
   },
   {
    "duration": 706,
    "start_time": "2022-09-29T22:25:43.438Z"
   },
   {
    "duration": 243,
    "start_time": "2022-09-29T22:25:44.238Z"
   },
   {
    "duration": 11328,
    "start_time": "2022-09-29T22:25:44.483Z"
   },
   {
    "duration": 828,
    "start_time": "2022-09-29T22:25:55.813Z"
   },
   {
    "duration": 106,
    "start_time": "2022-09-29T22:25:56.643Z"
   },
   {
    "duration": 297,
    "start_time": "2022-09-29T22:25:56.750Z"
   },
   {
    "duration": 15694,
    "start_time": "2022-09-29T22:25:57.049Z"
   },
   {
    "duration": 1096,
    "start_time": "2022-09-29T22:26:12.745Z"
   },
   {
    "duration": 100,
    "start_time": "2022-09-29T22:26:13.843Z"
   },
   {
    "duration": 145,
    "start_time": "2022-09-29T22:26:13.944Z"
   },
   {
    "duration": 7524,
    "start_time": "2022-09-29T22:26:14.090Z"
   },
   {
    "duration": 30,
    "start_time": "2022-09-29T22:26:21.615Z"
   },
   {
    "duration": 114,
    "start_time": "2022-09-29T22:30:13.124Z"
   },
   {
    "duration": 6,
    "start_time": "2022-09-29T22:31:00.210Z"
   },
   {
    "duration": 1429,
    "start_time": "2022-09-29T22:32:27.584Z"
   },
   {
    "duration": 43,
    "start_time": "2022-09-29T22:32:29.015Z"
   },
   {
    "duration": 15,
    "start_time": "2022-09-29T22:32:29.059Z"
   },
   {
    "duration": 18,
    "start_time": "2022-09-29T22:32:29.076Z"
   },
   {
    "duration": 62,
    "start_time": "2022-09-29T22:32:29.098Z"
   },
   {
    "duration": 5,
    "start_time": "2022-09-29T22:32:29.162Z"
   },
   {
    "duration": 11,
    "start_time": "2022-09-29T22:32:29.169Z"
   },
   {
    "duration": 7,
    "start_time": "2022-09-29T22:32:29.182Z"
   },
   {
    "duration": 12,
    "start_time": "2022-09-29T22:32:29.191Z"
   },
   {
    "duration": 7,
    "start_time": "2022-09-29T22:32:29.205Z"
   },
   {
    "duration": 6,
    "start_time": "2022-09-29T22:32:29.214Z"
   },
   {
    "duration": 20,
    "start_time": "2022-09-29T22:32:29.222Z"
   },
   {
    "duration": 10,
    "start_time": "2022-09-29T22:32:29.244Z"
   },
   {
    "duration": 8,
    "start_time": "2022-09-29T22:32:29.257Z"
   },
   {
    "duration": 10,
    "start_time": "2022-09-29T22:32:29.266Z"
   },
   {
    "duration": 20,
    "start_time": "2022-09-29T22:32:29.278Z"
   },
   {
    "duration": 39,
    "start_time": "2022-09-29T22:32:29.300Z"
   },
   {
    "duration": 4,
    "start_time": "2022-09-29T22:32:29.340Z"
   },
   {
    "duration": 12,
    "start_time": "2022-09-29T22:32:29.346Z"
   },
   {
    "duration": 6,
    "start_time": "2022-09-29T22:32:29.359Z"
   },
   {
    "duration": 8,
    "start_time": "2022-09-29T22:32:29.367Z"
   },
   {
    "duration": 8,
    "start_time": "2022-09-29T22:32:29.377Z"
   },
   {
    "duration": 5,
    "start_time": "2022-09-29T22:32:29.387Z"
   },
   {
    "duration": 36,
    "start_time": "2022-09-29T22:32:29.393Z"
   },
   {
    "duration": 9,
    "start_time": "2022-09-29T22:32:29.431Z"
   },
   {
    "duration": 11,
    "start_time": "2022-09-29T22:32:29.442Z"
   },
   {
    "duration": 12,
    "start_time": "2022-09-29T22:32:29.455Z"
   },
   {
    "duration": 20,
    "start_time": "2022-09-29T22:32:29.469Z"
   },
   {
    "duration": 13,
    "start_time": "2022-09-29T22:32:29.490Z"
   },
   {
    "duration": 41,
    "start_time": "2022-09-29T22:32:29.505Z"
   },
   {
    "duration": 13,
    "start_time": "2022-09-29T22:32:29.547Z"
   },
   {
    "duration": 26,
    "start_time": "2022-09-29T22:32:29.562Z"
   },
   {
    "duration": 197,
    "start_time": "2022-09-29T22:32:29.591Z"
   },
   {
    "duration": 10053,
    "start_time": "2022-09-29T22:32:29.789Z"
   },
   {
    "duration": 796,
    "start_time": "2022-09-29T22:32:39.843Z"
   },
   {
    "duration": 242,
    "start_time": "2022-09-29T22:32:40.641Z"
   },
   {
    "duration": 9869,
    "start_time": "2022-09-29T22:32:40.885Z"
   },
   {
    "duration": 784,
    "start_time": "2022-09-29T22:32:50.756Z"
   },
   {
    "duration": 15,
    "start_time": "2022-09-29T22:32:51.542Z"
   },
   {
    "duration": 288,
    "start_time": "2022-09-29T22:32:51.559Z"
   },
   {
    "duration": 13581,
    "start_time": "2022-09-29T22:32:51.850Z"
   },
   {
    "duration": 912,
    "start_time": "2022-09-29T22:33:05.433Z"
   },
   {
    "duration": 101,
    "start_time": "2022-09-29T22:33:06.347Z"
   },
   {
    "duration": 150,
    "start_time": "2022-09-29T22:33:06.449Z"
   },
   {
    "duration": 6894,
    "start_time": "2022-09-29T22:33:06.601Z"
   },
   {
    "duration": 41,
    "start_time": "2022-09-29T22:33:13.497Z"
   },
   {
    "duration": 11,
    "start_time": "2022-09-29T22:33:13.540Z"
   },
   {
    "duration": 17,
    "start_time": "2022-09-29T22:33:13.553Z"
   },
   {
    "duration": 10,
    "start_time": "2022-09-29T22:34:58.010Z"
   },
   {
    "duration": 1410,
    "start_time": "2022-09-29T22:35:04.743Z"
   },
   {
    "duration": 46,
    "start_time": "2022-09-29T22:35:06.155Z"
   },
   {
    "duration": 15,
    "start_time": "2022-09-29T22:35:06.203Z"
   },
   {
    "duration": 18,
    "start_time": "2022-09-29T22:35:06.220Z"
   },
   {
    "duration": 40,
    "start_time": "2022-09-29T22:35:06.242Z"
   },
   {
    "duration": 5,
    "start_time": "2022-09-29T22:35:06.284Z"
   },
   {
    "duration": 7,
    "start_time": "2022-09-29T22:35:06.291Z"
   },
   {
    "duration": 7,
    "start_time": "2022-09-29T22:35:06.299Z"
   },
   {
    "duration": 32,
    "start_time": "2022-09-29T22:35:06.307Z"
   },
   {
    "duration": 9,
    "start_time": "2022-09-29T22:35:06.340Z"
   },
   {
    "duration": 5,
    "start_time": "2022-09-29T22:35:06.351Z"
   },
   {
    "duration": 14,
    "start_time": "2022-09-29T22:35:06.358Z"
   },
   {
    "duration": 7,
    "start_time": "2022-09-29T22:35:06.374Z"
   },
   {
    "duration": 8,
    "start_time": "2022-09-29T22:35:06.386Z"
   },
   {
    "duration": 6,
    "start_time": "2022-09-29T22:35:06.396Z"
   },
   {
    "duration": 47,
    "start_time": "2022-09-29T22:35:06.404Z"
   },
   {
    "duration": 5,
    "start_time": "2022-09-29T22:35:06.453Z"
   },
   {
    "duration": 6,
    "start_time": "2022-09-29T22:35:06.460Z"
   },
   {
    "duration": 9,
    "start_time": "2022-09-29T22:35:06.468Z"
   },
   {
    "duration": 6,
    "start_time": "2022-09-29T22:35:06.479Z"
   },
   {
    "duration": 6,
    "start_time": "2022-09-29T22:35:06.486Z"
   },
   {
    "duration": 9,
    "start_time": "2022-09-29T22:35:06.493Z"
   },
   {
    "duration": 38,
    "start_time": "2022-09-29T22:35:06.503Z"
   },
   {
    "duration": 8,
    "start_time": "2022-09-29T22:35:06.543Z"
   },
   {
    "duration": 4,
    "start_time": "2022-09-29T22:35:06.553Z"
   },
   {
    "duration": 8,
    "start_time": "2022-09-29T22:35:06.558Z"
   },
   {
    "duration": 12,
    "start_time": "2022-09-29T22:35:06.568Z"
   },
   {
    "duration": 16,
    "start_time": "2022-09-29T22:35:06.582Z"
   },
   {
    "duration": 9,
    "start_time": "2022-09-29T22:35:06.599Z"
   },
   {
    "duration": 8,
    "start_time": "2022-09-29T22:35:06.639Z"
   },
   {
    "duration": 4,
    "start_time": "2022-09-29T22:35:06.649Z"
   },
   {
    "duration": 9,
    "start_time": "2022-09-29T22:35:06.654Z"
   },
   {
    "duration": 198,
    "start_time": "2022-09-29T22:35:06.665Z"
   },
   {
    "duration": 9698,
    "start_time": "2022-09-29T22:35:06.864Z"
   },
   {
    "duration": 475,
    "start_time": "2022-09-29T22:35:16.564Z"
   },
   {
    "duration": 317,
    "start_time": "2022-09-29T22:35:17.041Z"
   },
   {
    "duration": 9608,
    "start_time": "2022-09-29T22:35:17.359Z"
   },
   {
    "duration": 671,
    "start_time": "2022-09-29T22:35:26.969Z"
   },
   {
    "duration": 105,
    "start_time": "2022-09-29T22:35:27.643Z"
   },
   {
    "duration": 246,
    "start_time": "2022-09-29T22:35:27.750Z"
   },
   {
    "duration": 13514,
    "start_time": "2022-09-29T22:35:28.000Z"
   },
   {
    "duration": 931,
    "start_time": "2022-09-29T22:35:41.516Z"
   },
   {
    "duration": 12,
    "start_time": "2022-09-29T22:35:42.539Z"
   },
   {
    "duration": 148,
    "start_time": "2022-09-29T22:35:42.553Z"
   },
   {
    "duration": 6816,
    "start_time": "2022-09-29T22:35:42.702Z"
   },
   {
    "duration": 42,
    "start_time": "2022-09-29T22:35:49.519Z"
   },
   {
    "duration": 10,
    "start_time": "2022-09-29T22:35:49.562Z"
   },
   {
    "duration": 9,
    "start_time": "2022-09-29T22:35:49.573Z"
   },
   {
    "duration": 184,
    "start_time": "2022-09-29T22:44:01.960Z"
   },
   {
    "duration": 72,
    "start_time": "2022-09-29T22:44:15.384Z"
   },
   {
    "duration": 182,
    "start_time": "2022-09-29T22:44:26.882Z"
   },
   {
    "duration": 6837,
    "start_time": "2022-09-29T22:46:25.941Z"
   },
   {
    "duration": 29,
    "start_time": "2022-09-29T22:46:50.852Z"
   },
   {
    "duration": 23,
    "start_time": "2022-09-29T22:46:51.787Z"
   },
   {
    "duration": 1426,
    "start_time": "2022-09-29T22:47:09.228Z"
   },
   {
    "duration": 43,
    "start_time": "2022-09-29T22:47:10.657Z"
   },
   {
    "duration": 13,
    "start_time": "2022-09-29T22:47:10.702Z"
   },
   {
    "duration": 19,
    "start_time": "2022-09-29T22:47:10.716Z"
   },
   {
    "duration": 40,
    "start_time": "2022-09-29T22:47:10.738Z"
   },
   {
    "duration": 5,
    "start_time": "2022-09-29T22:47:10.779Z"
   },
   {
    "duration": 7,
    "start_time": "2022-09-29T22:47:10.785Z"
   },
   {
    "duration": 6,
    "start_time": "2022-09-29T22:47:10.793Z"
   },
   {
    "duration": 3,
    "start_time": "2022-09-29T22:47:10.801Z"
   },
   {
    "duration": 6,
    "start_time": "2022-09-29T22:47:10.806Z"
   },
   {
    "duration": 4,
    "start_time": "2022-09-29T22:47:10.840Z"
   },
   {
    "duration": 11,
    "start_time": "2022-09-29T22:47:10.845Z"
   },
   {
    "duration": 7,
    "start_time": "2022-09-29T22:47:10.857Z"
   },
   {
    "duration": 8,
    "start_time": "2022-09-29T22:47:10.867Z"
   },
   {
    "duration": 5,
    "start_time": "2022-09-29T22:47:10.876Z"
   },
   {
    "duration": 20,
    "start_time": "2022-09-29T22:47:10.883Z"
   },
   {
    "duration": 37,
    "start_time": "2022-09-29T22:47:10.904Z"
   },
   {
    "duration": 6,
    "start_time": "2022-09-29T22:47:10.943Z"
   },
   {
    "duration": 11,
    "start_time": "2022-09-29T22:47:10.951Z"
   },
   {
    "duration": 7,
    "start_time": "2022-09-29T22:47:10.963Z"
   },
   {
    "duration": 6,
    "start_time": "2022-09-29T22:47:10.971Z"
   },
   {
    "duration": 8,
    "start_time": "2022-09-29T22:47:10.979Z"
   },
   {
    "duration": 3,
    "start_time": "2022-09-29T22:47:10.989Z"
   },
   {
    "duration": 7,
    "start_time": "2022-09-29T22:47:10.994Z"
   },
   {
    "duration": 36,
    "start_time": "2022-09-29T22:47:11.003Z"
   },
   {
    "duration": 6,
    "start_time": "2022-09-29T22:47:11.041Z"
   },
   {
    "duration": 11,
    "start_time": "2022-09-29T22:47:11.048Z"
   },
   {
    "duration": 17,
    "start_time": "2022-09-29T22:47:11.061Z"
   },
   {
    "duration": 9,
    "start_time": "2022-09-29T22:47:11.080Z"
   },
   {
    "duration": 8,
    "start_time": "2022-09-29T22:47:11.091Z"
   },
   {
    "duration": 38,
    "start_time": "2022-09-29T22:47:11.101Z"
   },
   {
    "duration": 10,
    "start_time": "2022-09-29T22:47:11.141Z"
   },
   {
    "duration": 204,
    "start_time": "2022-09-29T22:47:11.153Z"
   },
   {
    "duration": 9587,
    "start_time": "2022-09-29T22:47:11.359Z"
   },
   {
    "duration": 699,
    "start_time": "2022-09-29T22:47:20.948Z"
   },
   {
    "duration": 216,
    "start_time": "2022-09-29T22:47:21.739Z"
   },
   {
    "duration": 9881,
    "start_time": "2022-09-29T22:47:21.957Z"
   },
   {
    "duration": 799,
    "start_time": "2022-09-29T22:47:31.840Z"
   },
   {
    "duration": 16,
    "start_time": "2022-09-29T22:47:32.642Z"
   },
   {
    "duration": 326,
    "start_time": "2022-09-29T22:47:32.659Z"
   },
   {
    "duration": 13182,
    "start_time": "2022-09-29T22:47:32.990Z"
   },
   {
    "duration": 869,
    "start_time": "2022-09-29T22:47:46.173Z"
   },
   {
    "duration": 101,
    "start_time": "2022-09-29T22:47:47.044Z"
   },
   {
    "duration": 167,
    "start_time": "2022-09-29T22:47:47.147Z"
   },
   {
    "duration": 6709,
    "start_time": "2022-09-29T22:47:47.315Z"
   },
   {
    "duration": 37,
    "start_time": "2022-09-29T22:47:54.026Z"
   },
   {
    "duration": 22,
    "start_time": "2022-09-29T22:47:54.065Z"
   },
   {
    "duration": 10,
    "start_time": "2022-09-29T22:47:54.089Z"
   },
   {
    "duration": 39,
    "start_time": "2022-09-29T22:47:54.100Z"
   },
   {
    "duration": 9786,
    "start_time": "2022-09-29T22:49:57.438Z"
   },
   {
    "duration": 31,
    "start_time": "2022-09-29T22:50:51.841Z"
   },
   {
    "duration": 1370,
    "start_time": "2022-09-29T22:52:19.183Z"
   },
   {
    "duration": 44,
    "start_time": "2022-09-29T22:52:20.555Z"
   },
   {
    "duration": 14,
    "start_time": "2022-09-29T22:52:20.600Z"
   },
   {
    "duration": 35,
    "start_time": "2022-09-29T22:52:20.616Z"
   },
   {
    "duration": 44,
    "start_time": "2022-09-29T22:52:20.655Z"
   },
   {
    "duration": 4,
    "start_time": "2022-09-29T22:52:20.701Z"
   },
   {
    "duration": 23,
    "start_time": "2022-09-29T22:52:20.707Z"
   },
   {
    "duration": 22,
    "start_time": "2022-09-29T22:52:20.731Z"
   },
   {
    "duration": 16,
    "start_time": "2022-09-29T22:52:20.755Z"
   },
   {
    "duration": 12,
    "start_time": "2022-09-29T22:52:20.773Z"
   },
   {
    "duration": 28,
    "start_time": "2022-09-29T22:52:20.787Z"
   },
   {
    "duration": 41,
    "start_time": "2022-09-29T22:52:20.816Z"
   },
   {
    "duration": 25,
    "start_time": "2022-09-29T22:52:20.858Z"
   },
   {
    "duration": 30,
    "start_time": "2022-09-29T22:52:20.886Z"
   },
   {
    "duration": 7,
    "start_time": "2022-09-29T22:52:20.918Z"
   },
   {
    "duration": 21,
    "start_time": "2022-09-29T22:52:20.927Z"
   },
   {
    "duration": 4,
    "start_time": "2022-09-29T22:52:20.949Z"
   },
   {
    "duration": 18,
    "start_time": "2022-09-29T22:52:20.955Z"
   },
   {
    "duration": 9,
    "start_time": "2022-09-29T22:52:20.975Z"
   },
   {
    "duration": 7,
    "start_time": "2022-09-29T22:52:20.985Z"
   },
   {
    "duration": 8,
    "start_time": "2022-09-29T22:52:20.993Z"
   },
   {
    "duration": 12,
    "start_time": "2022-09-29T22:52:21.002Z"
   },
   {
    "duration": 4,
    "start_time": "2022-09-29T22:52:21.016Z"
   },
   {
    "duration": 17,
    "start_time": "2022-09-29T22:52:21.022Z"
   },
   {
    "duration": 8,
    "start_time": "2022-09-29T22:52:21.040Z"
   },
   {
    "duration": 11,
    "start_time": "2022-09-29T22:52:21.050Z"
   },
   {
    "duration": 12,
    "start_time": "2022-09-29T22:52:21.063Z"
   },
   {
    "duration": 16,
    "start_time": "2022-09-29T22:52:21.076Z"
   },
   {
    "duration": 9,
    "start_time": "2022-09-29T22:52:21.093Z"
   },
   {
    "duration": 8,
    "start_time": "2022-09-29T22:52:21.103Z"
   },
   {
    "duration": 3,
    "start_time": "2022-09-29T22:52:21.138Z"
   },
   {
    "duration": 30,
    "start_time": "2022-09-29T22:52:21.142Z"
   },
   {
    "duration": 6,
    "start_time": "2022-09-29T22:52:21.174Z"
   },
   {
    "duration": 212,
    "start_time": "2022-09-29T22:52:21.181Z"
   },
   {
    "duration": 9878,
    "start_time": "2022-09-29T22:52:21.395Z"
   },
   {
    "duration": 370,
    "start_time": "2022-09-29T22:52:31.274Z"
   },
   {
    "duration": 292,
    "start_time": "2022-09-29T22:52:31.646Z"
   },
   {
    "duration": 9575,
    "start_time": "2022-09-29T22:52:31.940Z"
   },
   {
    "duration": 326,
    "start_time": "2022-09-29T22:52:41.517Z"
   },
   {
    "duration": 101,
    "start_time": "2022-09-29T22:52:41.846Z"
   },
   {
    "duration": 243,
    "start_time": "2022-09-29T22:52:41.950Z"
   },
   {
    "duration": 12856,
    "start_time": "2022-09-29T22:52:42.194Z"
   },
   {
    "duration": 394,
    "start_time": "2022-09-29T22:52:55.052Z"
   },
   {
    "duration": 100,
    "start_time": "2022-09-29T22:52:55.448Z"
   },
   {
    "duration": 136,
    "start_time": "2022-09-29T22:52:55.550Z"
   },
   {
    "duration": 6714,
    "start_time": "2022-09-29T22:52:55.687Z"
   },
   {
    "duration": 44,
    "start_time": "2022-09-29T22:53:02.403Z"
   },
   {
    "duration": 22,
    "start_time": "2022-09-29T22:53:02.449Z"
   },
   {
    "duration": 31,
    "start_time": "2022-09-29T22:53:02.473Z"
   },
   {
    "duration": 399,
    "start_time": "2022-09-29T23:00:26.940Z"
   },
   {
    "duration": 1561,
    "start_time": "2022-09-29T23:00:38.956Z"
   },
   {
    "duration": 44,
    "start_time": "2022-09-29T23:00:40.519Z"
   },
   {
    "duration": 14,
    "start_time": "2022-09-29T23:00:40.564Z"
   },
   {
    "duration": 22,
    "start_time": "2022-09-29T23:00:40.579Z"
   },
   {
    "duration": 51,
    "start_time": "2022-09-29T23:00:40.604Z"
   },
   {
    "duration": 5,
    "start_time": "2022-09-29T23:00:40.657Z"
   },
   {
    "duration": 8,
    "start_time": "2022-09-29T23:00:40.664Z"
   },
   {
    "duration": 8,
    "start_time": "2022-09-29T23:00:40.674Z"
   },
   {
    "duration": 21,
    "start_time": "2022-09-29T23:00:40.684Z"
   },
   {
    "duration": 22,
    "start_time": "2022-09-29T23:00:40.707Z"
   },
   {
    "duration": 7,
    "start_time": "2022-09-29T23:00:40.731Z"
   },
   {
    "duration": 11,
    "start_time": "2022-09-29T23:00:40.740Z"
   },
   {
    "duration": 7,
    "start_time": "2022-09-29T23:00:40.753Z"
   },
   {
    "duration": 12,
    "start_time": "2022-09-29T23:00:40.763Z"
   },
   {
    "duration": 17,
    "start_time": "2022-09-29T23:00:40.776Z"
   },
   {
    "duration": 32,
    "start_time": "2022-09-29T23:00:40.794Z"
   },
   {
    "duration": 11,
    "start_time": "2022-09-29T23:00:40.827Z"
   },
   {
    "duration": 4,
    "start_time": "2022-09-29T23:00:40.840Z"
   },
   {
    "duration": 12,
    "start_time": "2022-09-29T23:00:40.846Z"
   },
   {
    "duration": 6,
    "start_time": "2022-09-29T23:00:40.860Z"
   },
   {
    "duration": 6,
    "start_time": "2022-09-29T23:00:40.868Z"
   },
   {
    "duration": 14,
    "start_time": "2022-09-29T23:00:40.876Z"
   },
   {
    "duration": 5,
    "start_time": "2022-09-29T23:00:40.892Z"
   },
   {
    "duration": 9,
    "start_time": "2022-09-29T23:00:40.898Z"
   },
   {
    "duration": 34,
    "start_time": "2022-09-29T23:00:40.909Z"
   },
   {
    "duration": 9,
    "start_time": "2022-09-29T23:00:40.945Z"
   },
   {
    "duration": 16,
    "start_time": "2022-09-29T23:00:40.956Z"
   },
   {
    "duration": 20,
    "start_time": "2022-09-29T23:00:40.974Z"
   },
   {
    "duration": 44,
    "start_time": "2022-09-29T23:00:40.996Z"
   },
   {
    "duration": 10,
    "start_time": "2022-09-29T23:00:41.042Z"
   },
   {
    "duration": 10,
    "start_time": "2022-09-29T23:00:41.053Z"
   },
   {
    "duration": 219,
    "start_time": "2022-09-29T23:00:41.065Z"
   },
   {
    "duration": 9910,
    "start_time": "2022-09-29T23:00:41.286Z"
   },
   {
    "duration": 841,
    "start_time": "2022-09-29T23:00:51.198Z"
   },
   {
    "duration": 279,
    "start_time": "2022-09-29T23:00:52.041Z"
   },
   {
    "duration": 10255,
    "start_time": "2022-09-29T23:00:52.321Z"
   },
   {
    "duration": 770,
    "start_time": "2022-09-29T23:01:02.578Z"
   },
   {
    "duration": 15,
    "start_time": "2022-09-29T23:01:03.439Z"
   },
   {
    "duration": 263,
    "start_time": "2022-09-29T23:01:03.456Z"
   },
   {
    "duration": 13341,
    "start_time": "2022-09-29T23:01:03.720Z"
   },
   {
    "duration": 976,
    "start_time": "2022-09-29T23:01:17.064Z"
   },
   {
    "duration": 106,
    "start_time": "2022-09-29T23:01:18.042Z"
   },
   {
    "duration": 158,
    "start_time": "2022-09-29T23:01:18.152Z"
   },
   {
    "duration": 6861,
    "start_time": "2022-09-29T23:01:18.312Z"
   },
   {
    "duration": 28,
    "start_time": "2022-09-29T23:01:25.175Z"
   },
   {
    "duration": 43,
    "start_time": "2022-09-29T23:01:25.205Z"
   },
   {
    "duration": 30,
    "start_time": "2022-09-29T23:01:25.249Z"
   },
   {
    "duration": 562,
    "start_time": "2022-09-29T23:07:20.076Z"
   },
   {
    "duration": 1456,
    "start_time": "2022-09-29T23:08:00.138Z"
   },
   {
    "duration": 45,
    "start_time": "2022-09-29T23:08:01.595Z"
   },
   {
    "duration": 15,
    "start_time": "2022-09-29T23:08:01.641Z"
   },
   {
    "duration": 41,
    "start_time": "2022-09-29T23:08:01.658Z"
   },
   {
    "duration": 64,
    "start_time": "2022-09-29T23:08:01.702Z"
   },
   {
    "duration": 6,
    "start_time": "2022-09-29T23:08:01.768Z"
   },
   {
    "duration": 11,
    "start_time": "2022-09-29T23:08:01.776Z"
   },
   {
    "duration": 9,
    "start_time": "2022-09-29T23:08:01.789Z"
   },
   {
    "duration": 23,
    "start_time": "2022-09-29T23:08:01.800Z"
   },
   {
    "duration": 7,
    "start_time": "2022-09-29T23:08:01.827Z"
   },
   {
    "duration": 8,
    "start_time": "2022-09-29T23:08:01.836Z"
   },
   {
    "duration": 21,
    "start_time": "2022-09-29T23:08:01.845Z"
   },
   {
    "duration": 13,
    "start_time": "2022-09-29T23:08:01.867Z"
   },
   {
    "duration": 20,
    "start_time": "2022-09-29T23:08:01.883Z"
   },
   {
    "duration": 25,
    "start_time": "2022-09-29T23:08:01.905Z"
   },
   {
    "duration": 26,
    "start_time": "2022-09-29T23:08:01.932Z"
   },
   {
    "duration": 6,
    "start_time": "2022-09-29T23:08:01.960Z"
   },
   {
    "duration": 8,
    "start_time": "2022-09-29T23:08:01.968Z"
   },
   {
    "duration": 19,
    "start_time": "2022-09-29T23:08:01.978Z"
   },
   {
    "duration": 25,
    "start_time": "2022-09-29T23:08:02.000Z"
   },
   {
    "duration": 8,
    "start_time": "2022-09-29T23:08:02.027Z"
   },
   {
    "duration": 14,
    "start_time": "2022-09-29T23:08:02.037Z"
   },
   {
    "duration": 20,
    "start_time": "2022-09-29T23:08:02.053Z"
   },
   {
    "duration": 8,
    "start_time": "2022-09-29T23:08:02.075Z"
   },
   {
    "duration": 10,
    "start_time": "2022-09-29T23:08:02.085Z"
   },
   {
    "duration": 14,
    "start_time": "2022-09-29T23:08:02.097Z"
   },
   {
    "duration": 32,
    "start_time": "2022-09-29T23:08:02.114Z"
   },
   {
    "duration": 20,
    "start_time": "2022-09-29T23:08:02.151Z"
   },
   {
    "duration": 10,
    "start_time": "2022-09-29T23:08:02.173Z"
   },
   {
    "duration": 8,
    "start_time": "2022-09-29T23:08:02.185Z"
   },
   {
    "duration": 14,
    "start_time": "2022-09-29T23:08:02.194Z"
   },
   {
    "duration": 212,
    "start_time": "2022-09-29T23:08:02.210Z"
   },
   {
    "duration": 9808,
    "start_time": "2022-09-29T23:08:02.423Z"
   },
   {
    "duration": 807,
    "start_time": "2022-09-29T23:08:12.232Z"
   },
   {
    "duration": 268,
    "start_time": "2022-09-29T23:08:13.042Z"
   },
   {
    "duration": 9792,
    "start_time": "2022-09-29T23:08:13.312Z"
   },
   {
    "duration": 734,
    "start_time": "2022-09-29T23:08:23.106Z"
   },
   {
    "duration": 97,
    "start_time": "2022-09-29T23:08:23.842Z"
   },
   {
    "duration": 260,
    "start_time": "2022-09-29T23:08:23.941Z"
   },
   {
    "duration": 13479,
    "start_time": "2022-09-29T23:08:24.203Z"
   },
   {
    "duration": 958,
    "start_time": "2022-09-29T23:08:37.684Z"
   },
   {
    "duration": 94,
    "start_time": "2022-09-29T23:08:38.647Z"
   },
   {
    "duration": 134,
    "start_time": "2022-09-29T23:08:38.742Z"
   },
   {
    "duration": 6806,
    "start_time": "2022-09-29T23:08:38.877Z"
   },
   {
    "duration": 556,
    "start_time": "2022-09-29T23:08:45.685Z"
   },
   {
    "duration": 110,
    "start_time": "2022-09-29T23:08:46.243Z"
   },
   {
    "duration": 22,
    "start_time": "2022-09-29T23:08:46.355Z"
   },
   {
    "duration": 31,
    "start_time": "2022-09-29T23:08:46.379Z"
   },
   {
    "duration": 32,
    "start_time": "2022-09-29T23:45:59.237Z"
   },
   {
    "duration": 30,
    "start_time": "2022-09-29T23:46:44.962Z"
   },
   {
    "duration": 30,
    "start_time": "2022-09-29T23:47:25.781Z"
   },
   {
    "duration": 109,
    "start_time": "2022-09-29T23:48:13.230Z"
   },
   {
    "duration": 4,
    "start_time": "2022-09-29T23:48:17.072Z"
   },
   {
    "duration": 5,
    "start_time": "2022-09-29T23:48:19.430Z"
   },
   {
    "duration": 8,
    "start_time": "2022-09-29T23:48:36.273Z"
   },
   {
    "duration": 8,
    "start_time": "2022-09-29T23:48:49.831Z"
   },
   {
    "duration": 52,
    "start_time": "2022-09-29T23:52:15.307Z"
   },
   {
    "duration": 34,
    "start_time": "2022-09-29T23:52:40.227Z"
   },
   {
    "duration": 54,
    "start_time": "2022-09-29T23:52:43.990Z"
   },
   {
    "duration": 35,
    "start_time": "2022-09-29T23:52:45.214Z"
   },
   {
    "duration": 11,
    "start_time": "2022-09-29T23:52:59.470Z"
   },
   {
    "duration": 55,
    "start_time": "2022-09-29T23:53:02.132Z"
   },
   {
    "duration": 11,
    "start_time": "2022-09-29T23:53:03.806Z"
   },
   {
    "duration": 191,
    "start_time": "2022-09-29T23:54:18.086Z"
   },
   {
    "duration": 1480,
    "start_time": "2022-09-30T21:36:14.176Z"
   },
   {
    "duration": 78,
    "start_time": "2022-09-30T21:36:15.658Z"
   },
   {
    "duration": 13,
    "start_time": "2022-09-30T21:36:15.738Z"
   },
   {
    "duration": 15,
    "start_time": "2022-09-30T21:36:15.754Z"
   },
   {
    "duration": 38,
    "start_time": "2022-09-30T21:36:15.771Z"
   },
   {
    "duration": 25,
    "start_time": "2022-09-30T21:36:15.811Z"
   },
   {
    "duration": 7,
    "start_time": "2022-09-30T21:36:15.838Z"
   },
   {
    "duration": 16,
    "start_time": "2022-09-30T21:36:15.847Z"
   },
   {
    "duration": 6,
    "start_time": "2022-09-30T21:36:15.864Z"
   },
   {
    "duration": 5,
    "start_time": "2022-09-30T21:36:15.872Z"
   },
   {
    "duration": 6,
    "start_time": "2022-09-30T21:36:15.879Z"
   },
   {
    "duration": 10,
    "start_time": "2022-09-30T21:36:15.886Z"
   },
   {
    "duration": 6,
    "start_time": "2022-09-30T21:36:15.898Z"
   },
   {
    "duration": 8,
    "start_time": "2022-09-30T21:36:15.905Z"
   },
   {
    "duration": 20,
    "start_time": "2022-09-30T21:36:15.914Z"
   },
   {
    "duration": 22,
    "start_time": "2022-09-30T21:36:15.935Z"
   },
   {
    "duration": 3,
    "start_time": "2022-09-30T21:36:15.959Z"
   },
   {
    "duration": 13,
    "start_time": "2022-09-30T21:36:15.963Z"
   },
   {
    "duration": 12,
    "start_time": "2022-09-30T21:36:15.977Z"
   },
   {
    "duration": 14,
    "start_time": "2022-09-30T21:36:15.990Z"
   },
   {
    "duration": 12,
    "start_time": "2022-09-30T21:36:16.005Z"
   },
   {
    "duration": 7,
    "start_time": "2022-09-30T21:36:16.019Z"
   },
   {
    "duration": 9,
    "start_time": "2022-09-30T21:36:16.028Z"
   },
   {
    "duration": 9,
    "start_time": "2022-09-30T21:36:16.038Z"
   },
   {
    "duration": 5,
    "start_time": "2022-09-30T21:36:16.049Z"
   },
   {
    "duration": 7,
    "start_time": "2022-09-30T21:36:16.056Z"
   },
   {
    "duration": 14,
    "start_time": "2022-09-30T21:36:16.065Z"
   },
   {
    "duration": 15,
    "start_time": "2022-09-30T21:36:16.082Z"
   },
   {
    "duration": 8,
    "start_time": "2022-09-30T21:36:16.099Z"
   },
   {
    "duration": 26,
    "start_time": "2022-09-30T21:36:16.108Z"
   },
   {
    "duration": 8,
    "start_time": "2022-09-30T21:36:16.135Z"
   },
   {
    "duration": 208,
    "start_time": "2022-09-30T21:36:16.145Z"
   },
   {
    "duration": 8856,
    "start_time": "2022-09-30T21:36:16.355Z"
   },
   {
    "duration": 631,
    "start_time": "2022-09-30T21:36:25.213Z"
   },
   {
    "duration": 308,
    "start_time": "2022-09-30T21:36:25.845Z"
   },
   {
    "duration": 8951,
    "start_time": "2022-09-30T21:36:26.158Z"
   },
   {
    "duration": 628,
    "start_time": "2022-09-30T21:36:35.111Z"
   },
   {
    "duration": 102,
    "start_time": "2022-09-30T21:36:35.741Z"
   },
   {
    "duration": 232,
    "start_time": "2022-09-30T21:36:35.844Z"
   },
   {
    "duration": 13191,
    "start_time": "2022-09-30T21:36:36.077Z"
   },
   {
    "duration": 1665,
    "start_time": "2022-09-30T21:36:49.270Z"
   },
   {
    "duration": 13,
    "start_time": "2022-09-30T21:36:50.936Z"
   },
   {
    "duration": 139,
    "start_time": "2022-09-30T21:36:50.950Z"
   },
   {
    "duration": 6514,
    "start_time": "2022-09-30T21:36:51.091Z"
   },
   {
    "duration": 833,
    "start_time": "2022-09-30T21:36:57.606Z"
   },
   {
    "duration": 141,
    "start_time": "2022-09-30T21:36:58.442Z"
   },
   {
    "duration": 14,
    "start_time": "2022-09-30T21:36:58.586Z"
   },
   {
    "duration": 57,
    "start_time": "2022-09-30T22:01:20.504Z"
   },
   {
    "duration": 4,
    "start_time": "2022-09-30T22:01:27.731Z"
   },
   {
    "duration": 38,
    "start_time": "2022-09-30T22:01:27.953Z"
   },
   {
    "duration": 12,
    "start_time": "2022-09-30T22:01:28.460Z"
   },
   {
    "duration": 15,
    "start_time": "2022-09-30T22:01:28.701Z"
   },
   {
    "duration": 44,
    "start_time": "2022-09-30T22:01:28.920Z"
   },
   {
    "duration": 5,
    "start_time": "2022-09-30T22:01:29.749Z"
   },
   {
    "duration": 4,
    "start_time": "2022-09-30T22:01:29.990Z"
   },
   {
    "duration": 4,
    "start_time": "2022-09-30T22:01:30.530Z"
   },
   {
    "duration": 4,
    "start_time": "2022-09-30T22:01:30.904Z"
   },
   {
    "duration": 51,
    "start_time": "2022-09-30T22:01:31.995Z"
   },
   {
    "duration": 48,
    "start_time": "2022-09-30T22:01:39.415Z"
   },
   {
    "duration": 53,
    "start_time": "2022-09-30T22:01:54.981Z"
   },
   {
    "duration": 1443,
    "start_time": "2022-09-30T22:05:49.163Z"
   },
   {
    "duration": 39,
    "start_time": "2022-09-30T22:05:50.608Z"
   },
   {
    "duration": 12,
    "start_time": "2022-09-30T22:05:50.648Z"
   },
   {
    "duration": 14,
    "start_time": "2022-09-30T22:05:50.662Z"
   },
   {
    "duration": 36,
    "start_time": "2022-09-30T22:05:50.680Z"
   },
   {
    "duration": 17,
    "start_time": "2022-09-30T22:05:50.718Z"
   },
   {
    "duration": 4,
    "start_time": "2022-09-30T22:05:50.736Z"
   },
   {
    "duration": 6,
    "start_time": "2022-09-30T22:05:50.742Z"
   },
   {
    "duration": 15,
    "start_time": "2022-09-30T22:05:50.749Z"
   },
   {
    "duration": 17,
    "start_time": "2022-09-30T22:05:50.766Z"
   },
   {
    "duration": 11,
    "start_time": "2022-09-30T22:05:50.784Z"
   },
   {
    "duration": 9,
    "start_time": "2022-09-30T22:05:50.797Z"
   },
   {
    "duration": 20,
    "start_time": "2022-09-30T22:05:50.807Z"
   },
   {
    "duration": 6,
    "start_time": "2022-09-30T22:05:50.835Z"
   },
   {
    "duration": 22,
    "start_time": "2022-09-30T22:05:50.843Z"
   },
   {
    "duration": 4,
    "start_time": "2022-09-30T22:05:50.867Z"
   },
   {
    "duration": 19,
    "start_time": "2022-09-30T22:05:50.873Z"
   },
   {
    "duration": 10,
    "start_time": "2022-09-30T22:05:50.893Z"
   },
   {
    "duration": 7,
    "start_time": "2022-09-30T22:05:50.905Z"
   },
   {
    "duration": 17,
    "start_time": "2022-09-30T22:05:50.913Z"
   },
   {
    "duration": 13,
    "start_time": "2022-09-30T22:05:50.932Z"
   },
   {
    "duration": 10,
    "start_time": "2022-09-30T22:05:50.947Z"
   },
   {
    "duration": 10,
    "start_time": "2022-09-30T22:05:50.959Z"
   },
   {
    "duration": 8,
    "start_time": "2022-09-30T22:05:50.971Z"
   },
   {
    "duration": 23,
    "start_time": "2022-09-30T22:05:50.981Z"
   },
   {
    "duration": 48,
    "start_time": "2022-09-30T22:05:51.006Z"
   },
   {
    "duration": 36,
    "start_time": "2022-09-30T22:05:51.056Z"
   },
   {
    "duration": 15,
    "start_time": "2022-09-30T22:05:51.094Z"
   },
   {
    "duration": 29,
    "start_time": "2022-09-30T22:05:51.111Z"
   },
   {
    "duration": 26,
    "start_time": "2022-09-30T22:05:51.143Z"
   },
   {
    "duration": 177,
    "start_time": "2022-09-30T22:05:51.170Z"
   },
   {
    "duration": 9122,
    "start_time": "2022-09-30T22:05:51.349Z"
   },
   {
    "duration": 362,
    "start_time": "2022-09-30T22:06:00.473Z"
   },
   {
    "duration": 287,
    "start_time": "2022-09-30T22:06:00.837Z"
   },
   {
    "duration": 9244,
    "start_time": "2022-09-30T22:06:01.127Z"
   },
   {
    "duration": 1363,
    "start_time": "2022-09-30T22:06:10.372Z"
   },
   {
    "duration": 14,
    "start_time": "2022-09-30T22:06:11.737Z"
   },
   {
    "duration": 258,
    "start_time": "2022-09-30T22:06:11.753Z"
   },
   {
    "duration": 12203,
    "start_time": "2022-09-30T22:06:12.012Z"
   },
   {
    "duration": 1025,
    "start_time": "2022-09-30T22:06:24.218Z"
   },
   {
    "duration": 12,
    "start_time": "2022-09-30T22:06:25.336Z"
   },
   {
    "duration": 136,
    "start_time": "2022-09-30T22:06:25.349Z"
   },
   {
    "duration": 6304,
    "start_time": "2022-09-30T22:06:25.487Z"
   },
   {
    "duration": 741,
    "start_time": "2022-09-30T22:06:31.793Z"
   },
   {
    "duration": 52,
    "start_time": "2022-09-30T22:06:32.536Z"
   },
   {
    "duration": 11,
    "start_time": "2022-09-30T22:06:32.589Z"
   },
   {
    "duration": 1456,
    "start_time": "2022-09-30T22:07:41.565Z"
   },
   {
    "duration": 42,
    "start_time": "2022-09-30T22:07:43.023Z"
   },
   {
    "duration": 11,
    "start_time": "2022-09-30T22:07:43.067Z"
   },
   {
    "duration": 14,
    "start_time": "2022-09-30T22:07:43.080Z"
   },
   {
    "duration": 37,
    "start_time": "2022-09-30T22:07:43.096Z"
   },
   {
    "duration": 5,
    "start_time": "2022-09-30T22:07:43.135Z"
   },
   {
    "duration": 9,
    "start_time": "2022-09-30T22:07:43.141Z"
   },
   {
    "duration": 8,
    "start_time": "2022-09-30T22:07:43.151Z"
   },
   {
    "duration": 6,
    "start_time": "2022-09-30T22:07:43.160Z"
   },
   {
    "duration": 10,
    "start_time": "2022-09-30T22:07:43.168Z"
   },
   {
    "duration": 12,
    "start_time": "2022-09-30T22:07:43.181Z"
   },
   {
    "duration": 8,
    "start_time": "2022-09-30T22:07:43.194Z"
   },
   {
    "duration": 16,
    "start_time": "2022-09-30T22:07:43.203Z"
   },
   {
    "duration": 5,
    "start_time": "2022-09-30T22:07:43.233Z"
   },
   {
    "duration": 20,
    "start_time": "2022-09-30T22:07:43.239Z"
   },
   {
    "duration": 3,
    "start_time": "2022-09-30T22:07:43.260Z"
   },
   {
    "duration": 6,
    "start_time": "2022-09-30T22:07:43.265Z"
   },
   {
    "duration": 13,
    "start_time": "2022-09-30T22:07:43.272Z"
   },
   {
    "duration": 8,
    "start_time": "2022-09-30T22:07:43.287Z"
   },
   {
    "duration": 5,
    "start_time": "2022-09-30T22:07:43.296Z"
   },
   {
    "duration": 13,
    "start_time": "2022-09-30T22:07:43.303Z"
   },
   {
    "duration": 4,
    "start_time": "2022-09-30T22:07:43.333Z"
   },
   {
    "duration": 16,
    "start_time": "2022-09-30T22:07:43.338Z"
   },
   {
    "duration": 7,
    "start_time": "2022-09-30T22:07:43.355Z"
   },
   {
    "duration": 10,
    "start_time": "2022-09-30T22:07:43.364Z"
   },
   {
    "duration": 12,
    "start_time": "2022-09-30T22:07:43.375Z"
   },
   {
    "duration": 16,
    "start_time": "2022-09-30T22:07:43.389Z"
   },
   {
    "duration": 26,
    "start_time": "2022-09-30T22:07:43.409Z"
   },
   {
    "duration": 8,
    "start_time": "2022-09-30T22:07:43.436Z"
   },
   {
    "duration": 9,
    "start_time": "2022-09-30T22:07:43.446Z"
   },
   {
    "duration": 178,
    "start_time": "2022-09-30T22:07:43.457Z"
   },
   {
    "duration": 9154,
    "start_time": "2022-09-30T22:07:43.637Z"
   },
   {
    "duration": 742,
    "start_time": "2022-09-30T22:07:52.793Z"
   },
   {
    "duration": 272,
    "start_time": "2022-09-30T22:07:53.537Z"
   },
   {
    "duration": 9946,
    "start_time": "2022-09-30T22:07:53.811Z"
   },
   {
    "duration": 776,
    "start_time": "2022-09-30T22:08:03.759Z"
   },
   {
    "duration": 101,
    "start_time": "2022-09-30T22:08:04.537Z"
   },
   {
    "duration": 227,
    "start_time": "2022-09-30T22:08:04.640Z"
   },
   {
    "duration": 12150,
    "start_time": "2022-09-30T22:08:04.869Z"
   },
   {
    "duration": 813,
    "start_time": "2022-09-30T22:08:17.021Z"
   },
   {
    "duration": 98,
    "start_time": "2022-09-30T22:08:17.836Z"
   },
   {
    "duration": 133,
    "start_time": "2022-09-30T22:08:17.936Z"
   },
   {
    "duration": 6291,
    "start_time": "2022-09-30T22:08:18.072Z"
   },
   {
    "duration": 572,
    "start_time": "2022-09-30T22:08:24.364Z"
   },
   {
    "duration": 139,
    "start_time": "2022-09-30T22:08:24.938Z"
   },
   {
    "duration": 9,
    "start_time": "2022-09-30T22:08:25.078Z"
   },
   {
    "duration": 1455,
    "start_time": "2022-09-30T22:09:02.759Z"
   },
   {
    "duration": 39,
    "start_time": "2022-09-30T22:09:04.217Z"
   },
   {
    "duration": 13,
    "start_time": "2022-09-30T22:09:04.257Z"
   },
   {
    "duration": 15,
    "start_time": "2022-09-30T22:09:04.272Z"
   },
   {
    "duration": 48,
    "start_time": "2022-09-30T22:09:04.289Z"
   },
   {
    "duration": 5,
    "start_time": "2022-09-30T22:09:04.339Z"
   },
   {
    "duration": 6,
    "start_time": "2022-09-30T22:09:04.346Z"
   },
   {
    "duration": 8,
    "start_time": "2022-09-30T22:09:04.353Z"
   },
   {
    "duration": 8,
    "start_time": "2022-09-30T22:09:04.363Z"
   },
   {
    "duration": 4,
    "start_time": "2022-09-30T22:09:04.373Z"
   },
   {
    "duration": 14,
    "start_time": "2022-09-30T22:09:04.378Z"
   },
   {
    "duration": 7,
    "start_time": "2022-09-30T22:09:04.394Z"
   },
   {
    "duration": 11,
    "start_time": "2022-09-30T22:09:04.402Z"
   },
   {
    "duration": 23,
    "start_time": "2022-09-30T22:09:04.415Z"
   },
   {
    "duration": 32,
    "start_time": "2022-09-30T22:09:04.439Z"
   },
   {
    "duration": 4,
    "start_time": "2022-09-30T22:09:04.473Z"
   },
   {
    "duration": 5,
    "start_time": "2022-09-30T22:09:04.479Z"
   },
   {
    "duration": 11,
    "start_time": "2022-09-30T22:09:04.486Z"
   },
   {
    "duration": 7,
    "start_time": "2022-09-30T22:09:04.499Z"
   },
   {
    "duration": 26,
    "start_time": "2022-09-30T22:09:04.507Z"
   },
   {
    "duration": 6,
    "start_time": "2022-09-30T22:09:04.535Z"
   },
   {
    "duration": 8,
    "start_time": "2022-09-30T22:09:04.544Z"
   },
   {
    "duration": 7,
    "start_time": "2022-09-30T22:09:04.553Z"
   },
   {
    "duration": 9,
    "start_time": "2022-09-30T22:09:04.562Z"
   },
   {
    "duration": 10,
    "start_time": "2022-09-30T22:09:04.572Z"
   },
   {
    "duration": 12,
    "start_time": "2022-09-30T22:09:04.583Z"
   },
   {
    "duration": 22,
    "start_time": "2022-09-30T22:09:04.597Z"
   },
   {
    "duration": 9,
    "start_time": "2022-09-30T22:09:04.637Z"
   },
   {
    "duration": 9,
    "start_time": "2022-09-30T22:09:04.649Z"
   },
   {
    "duration": 11,
    "start_time": "2022-09-30T22:09:04.660Z"
   },
   {
    "duration": 215,
    "start_time": "2022-09-30T22:09:04.673Z"
   },
   {
    "duration": 9284,
    "start_time": "2022-09-30T22:09:04.890Z"
   },
   {
    "duration": 1971,
    "start_time": "2022-09-30T22:09:14.176Z"
   },
   {
    "duration": 325,
    "start_time": "2022-09-30T22:09:16.234Z"
   },
   {
    "duration": 9425,
    "start_time": "2022-09-30T22:09:16.561Z"
   },
   {
    "duration": 556,
    "start_time": "2022-09-30T22:09:25.988Z"
   },
   {
    "duration": 95,
    "start_time": "2022-09-30T22:09:26.546Z"
   },
   {
    "duration": 272,
    "start_time": "2022-09-30T22:09:26.644Z"
   },
   {
    "duration": 12222,
    "start_time": "2022-09-30T22:09:26.917Z"
   },
   {
    "duration": 898,
    "start_time": "2022-09-30T22:09:39.140Z"
   },
   {
    "duration": 101,
    "start_time": "2022-09-30T22:09:40.040Z"
   },
   {
    "duration": 134,
    "start_time": "2022-09-30T22:09:40.143Z"
   },
   {
    "duration": 6334,
    "start_time": "2022-09-30T22:09:40.279Z"
   },
   {
    "duration": 1021,
    "start_time": "2022-09-30T22:09:46.614Z"
   },
   {
    "duration": 53,
    "start_time": "2022-09-30T22:09:47.636Z"
   },
   {
    "duration": 10,
    "start_time": "2022-09-30T22:09:47.691Z"
   },
   {
    "duration": 123360,
    "start_time": "2022-09-30T22:23:24.320Z"
   },
   {
    "duration": 24330,
    "start_time": "2022-09-30T22:25:55.734Z"
   },
   {
    "duration": 15727,
    "start_time": "2022-09-30T22:27:00.628Z"
   },
   {
    "duration": 112,
    "start_time": "2022-09-30T22:27:57.521Z"
   },
   {
    "duration": 14786,
    "start_time": "2022-09-30T22:31:53.796Z"
   },
   {
    "duration": 36331,
    "start_time": "2022-09-30T22:32:46.475Z"
   },
   {
    "duration": 1502,
    "start_time": "2022-09-30T22:43:35.780Z"
   },
   {
    "duration": 39,
    "start_time": "2022-09-30T22:43:37.284Z"
   },
   {
    "duration": 14,
    "start_time": "2022-09-30T22:43:37.325Z"
   },
   {
    "duration": 20,
    "start_time": "2022-09-30T22:43:37.341Z"
   },
   {
    "duration": 45,
    "start_time": "2022-09-30T22:43:37.363Z"
   },
   {
    "duration": 4,
    "start_time": "2022-09-30T22:43:37.409Z"
   },
   {
    "duration": 20,
    "start_time": "2022-09-30T22:43:37.415Z"
   },
   {
    "duration": 10,
    "start_time": "2022-09-30T22:43:37.437Z"
   },
   {
    "duration": 11,
    "start_time": "2022-09-30T22:43:37.449Z"
   },
   {
    "duration": 9,
    "start_time": "2022-09-30T22:43:37.462Z"
   },
   {
    "duration": 10,
    "start_time": "2022-09-30T22:43:37.472Z"
   },
   {
    "duration": 7,
    "start_time": "2022-09-30T22:43:37.484Z"
   },
   {
    "duration": 8,
    "start_time": "2022-09-30T22:43:37.493Z"
   },
   {
    "duration": 17,
    "start_time": "2022-09-30T22:43:37.502Z"
   },
   {
    "duration": 20,
    "start_time": "2022-09-30T22:43:37.521Z"
   },
   {
    "duration": 5,
    "start_time": "2022-09-30T22:43:37.543Z"
   },
   {
    "duration": 6,
    "start_time": "2022-09-30T22:43:37.550Z"
   },
   {
    "duration": 10,
    "start_time": "2022-09-30T22:43:37.558Z"
   },
   {
    "duration": 8,
    "start_time": "2022-09-30T22:43:37.570Z"
   },
   {
    "duration": 5,
    "start_time": "2022-09-30T22:43:37.580Z"
   },
   {
    "duration": 20,
    "start_time": "2022-09-30T22:43:37.587Z"
   },
   {
    "duration": 7,
    "start_time": "2022-09-30T22:43:37.609Z"
   },
   {
    "duration": 9,
    "start_time": "2022-09-30T22:43:37.633Z"
   },
   {
    "duration": 9,
    "start_time": "2022-09-30T22:43:37.643Z"
   },
   {
    "duration": 15,
    "start_time": "2022-09-30T22:43:37.653Z"
   },
   {
    "duration": 15,
    "start_time": "2022-09-30T22:43:37.670Z"
   },
   {
    "duration": 19,
    "start_time": "2022-09-30T22:43:37.687Z"
   },
   {
    "duration": 8,
    "start_time": "2022-09-30T22:43:37.709Z"
   },
   {
    "duration": 14,
    "start_time": "2022-09-30T22:43:37.719Z"
   },
   {
    "duration": 10,
    "start_time": "2022-09-30T22:43:37.735Z"
   },
   {
    "duration": 37149,
    "start_time": "2022-09-30T22:43:37.746Z"
   },
   {
    "duration": 241154,
    "start_time": "2022-09-30T22:44:14.896Z"
   },
   {
    "duration": 288,
    "start_time": "2022-09-30T22:48:16.052Z"
   },
   {
    "duration": 306,
    "start_time": "2022-09-30T22:48:16.342Z"
   },
   {
    "duration": 8806,
    "start_time": "2022-09-30T22:48:16.649Z"
   },
   {
    "duration": 282,
    "start_time": "2022-09-30T22:48:25.457Z"
   },
   {
    "duration": 92,
    "start_time": "2022-09-30T22:48:25.742Z"
   },
   {
    "duration": 225,
    "start_time": "2022-09-30T22:48:25.835Z"
   },
   {
    "duration": 12152,
    "start_time": "2022-09-30T22:48:26.061Z"
   },
   {
    "duration": 918,
    "start_time": "2022-09-30T22:48:38.215Z"
   },
   {
    "duration": 12,
    "start_time": "2022-09-30T22:48:39.135Z"
   },
   {
    "duration": 128,
    "start_time": "2022-09-30T22:48:39.149Z"
   },
   {
    "duration": 6303,
    "start_time": "2022-09-30T22:48:39.279Z"
   },
   {
    "duration": 167,
    "start_time": "2022-09-30T22:48:45.584Z"
   },
   {
    "duration": 213,
    "start_time": "2022-09-30T22:48:45.753Z"
   },
   {
    "duration": 9,
    "start_time": "2022-09-30T22:48:45.968Z"
   },
   {
    "duration": 8924,
    "start_time": "2022-09-30T22:51:22.528Z"
   },
   {
    "duration": 9330,
    "start_time": "2022-09-30T22:51:54.532Z"
   },
   {
    "duration": 9103,
    "start_time": "2022-09-30T22:52:19.720Z"
   },
   {
    "duration": 751,
    "start_time": "2022-09-30T22:55:34.743Z"
   },
   {
    "duration": 17301,
    "start_time": "2022-09-30T22:55:59.639Z"
   },
   {
    "duration": 32595,
    "start_time": "2022-09-30T22:57:51.027Z"
   },
   {
    "duration": 65287,
    "start_time": "2022-09-30T22:58:46.652Z"
   },
   {
    "duration": 55676,
    "start_time": "2022-09-30T23:00:39.296Z"
   },
   {
    "duration": 183,
    "start_time": "2022-09-30T23:06:13.580Z"
   },
   {
    "duration": 173,
    "start_time": "2022-09-30T23:06:21.514Z"
   },
   {
    "duration": 189,
    "start_time": "2022-09-30T23:06:38.041Z"
   },
   {
    "duration": 18181,
    "start_time": "2022-09-30T23:07:40.294Z"
   },
   {
    "duration": 55047,
    "start_time": "2022-09-30T23:10:20.503Z"
   },
   {
    "duration": 121937,
    "start_time": "2022-09-30T23:11:29.316Z"
   },
   {
    "duration": 15454,
    "start_time": "2022-09-30T23:15:12.633Z"
   },
   {
    "duration": 9428,
    "start_time": "2022-09-30T23:16:11.664Z"
   },
   {
    "duration": 15383,
    "start_time": "2022-09-30T23:16:26.752Z"
   },
   {
    "duration": 29161,
    "start_time": "2022-09-30T23:17:13.408Z"
   },
   {
    "duration": 21091,
    "start_time": "2022-09-30T23:17:52.112Z"
   },
   {
    "duration": 9449,
    "start_time": "2022-09-30T23:18:37.865Z"
   },
   {
    "duration": 113713,
    "start_time": "2022-09-30T23:18:54.731Z"
   },
   {
    "duration": 16372,
    "start_time": "2022-09-30T23:21:15.104Z"
   },
   {
    "duration": 22967,
    "start_time": "2022-09-30T23:23:11.890Z"
   },
   {
    "duration": 7,
    "start_time": "2022-09-30T23:24:36.655Z"
   },
   {
    "duration": 481,
    "start_time": "2022-09-30T23:26:50.160Z"
   },
   {
    "duration": 11825,
    "start_time": "2022-09-30T23:27:36.192Z"
   },
   {
    "duration": 21255,
    "start_time": "2022-09-30T23:30:00.399Z"
   },
   {
    "duration": 69,
    "start_time": "2022-09-30T23:32:22.051Z"
   },
   {
    "duration": 7,
    "start_time": "2022-09-30T23:32:52.999Z"
   },
   {
    "duration": 48,
    "start_time": "2022-09-30T23:33:18.239Z"
   },
   {
    "duration": 13938,
    "start_time": "2022-09-30T23:34:03.671Z"
   },
   {
    "duration": 10645,
    "start_time": "2022-09-30T23:35:53.258Z"
   },
   {
    "duration": 11,
    "start_time": "2022-09-30T23:36:51.497Z"
   },
   {
    "duration": 10,
    "start_time": "2022-09-30T23:37:01.869Z"
   },
   {
    "duration": 15427,
    "start_time": "2022-09-30T23:37:45.656Z"
   },
   {
    "duration": 48,
    "start_time": "2022-09-30T23:38:09.361Z"
   },
   {
    "duration": 1518,
    "start_time": "2022-11-20T16:53:43.701Z"
   },
   {
    "duration": 152,
    "start_time": "2022-11-20T16:53:45.221Z"
   },
   {
    "duration": 15,
    "start_time": "2022-11-20T16:53:45.375Z"
   },
   {
    "duration": 17,
    "start_time": "2022-11-20T16:53:45.392Z"
   },
   {
    "duration": 51,
    "start_time": "2022-11-20T16:53:45.411Z"
   },
   {
    "duration": 5,
    "start_time": "2022-11-20T16:53:45.464Z"
   },
   {
    "duration": 6,
    "start_time": "2022-11-20T16:53:45.471Z"
   },
   {
    "duration": 9,
    "start_time": "2022-11-20T16:53:45.478Z"
   },
   {
    "duration": 6,
    "start_time": "2022-11-20T16:53:45.489Z"
   },
   {
    "duration": 3,
    "start_time": "2022-11-20T16:53:45.498Z"
   },
   {
    "duration": 12,
    "start_time": "2022-11-20T16:53:45.503Z"
   },
   {
    "duration": 7,
    "start_time": "2022-11-20T16:53:45.517Z"
   },
   {
    "duration": 8,
    "start_time": "2022-11-20T16:53:45.553Z"
   },
   {
    "duration": 7,
    "start_time": "2022-11-20T16:53:45.563Z"
   },
   {
    "duration": 22,
    "start_time": "2022-11-20T16:53:45.572Z"
   },
   {
    "duration": 5,
    "start_time": "2022-11-20T16:53:45.596Z"
   },
   {
    "duration": 4,
    "start_time": "2022-11-20T16:53:45.603Z"
   },
   {
    "duration": 8,
    "start_time": "2022-11-20T16:53:45.609Z"
   },
   {
    "duration": 6,
    "start_time": "2022-11-20T16:53:45.653Z"
   },
   {
    "duration": 12,
    "start_time": "2022-11-20T16:53:45.660Z"
   },
   {
    "duration": 7,
    "start_time": "2022-11-20T16:53:45.674Z"
   },
   {
    "duration": 6,
    "start_time": "2022-11-20T16:53:45.683Z"
   },
   {
    "duration": 9,
    "start_time": "2022-11-20T16:53:45.691Z"
   },
   {
    "duration": 5,
    "start_time": "2022-11-20T16:53:45.702Z"
   },
   {
    "duration": 8,
    "start_time": "2022-11-20T16:53:45.709Z"
   },
   {
    "duration": 11,
    "start_time": "2022-11-20T16:53:45.719Z"
   },
   {
    "duration": 35,
    "start_time": "2022-11-20T16:53:45.731Z"
   },
   {
    "duration": 9,
    "start_time": "2022-11-20T16:53:45.769Z"
   },
   {
    "duration": 8,
    "start_time": "2022-11-20T16:53:45.780Z"
   },
   {
    "duration": 10,
    "start_time": "2022-11-20T16:53:45.789Z"
   },
   {
    "duration": 17957,
    "start_time": "2022-11-20T16:53:45.801Z"
   },
   {
    "duration": 56615,
    "start_time": "2022-11-20T16:54:03.760Z"
   },
   {
    "duration": 1475,
    "start_time": "2022-11-20T16:55:00.377Z"
   },
   {
    "duration": 18140,
    "start_time": "2022-11-20T16:55:01.854Z"
   },
   {
    "duration": 15869,
    "start_time": "2022-11-20T16:55:19.996Z"
   },
   {
    "duration": 394,
    "start_time": "2022-11-20T16:55:35.867Z"
   },
   {
    "duration": 104,
    "start_time": "2022-11-20T16:55:36.351Z"
   },
   {
    "duration": 6,
    "start_time": "2022-11-20T16:55:36.457Z"
   },
   {
    "duration": 23054,
    "start_time": "2022-11-20T16:55:36.465Z"
   },
   {
    "duration": 21103,
    "start_time": "2022-11-20T16:55:59.521Z"
   },
   {
    "duration": 727,
    "start_time": "2022-11-20T16:56:20.626Z"
   },
   {
    "duration": 100,
    "start_time": "2022-11-20T16:56:21.355Z"
   },
   {
    "duration": 16,
    "start_time": "2022-11-20T16:56:21.456Z"
   },
   {
    "duration": 12470,
    "start_time": "2022-11-20T16:56:21.474Z"
   },
   {
    "duration": 10759,
    "start_time": "2022-11-20T16:56:33.952Z"
   },
   {
    "duration": 441,
    "start_time": "2022-11-20T16:56:44.712Z"
   },
   {
    "duration": 130,
    "start_time": "2022-11-20T16:56:45.155Z"
   },
   {
    "duration": 9,
    "start_time": "2022-11-20T16:56:45.287Z"
   }
  ],
  "kernelspec": {
   "display_name": "Python 3 (ipykernel)",
   "language": "python",
   "name": "python3"
  },
  "language_info": {
   "codemirror_mode": {
    "name": "ipython",
    "version": 3
   },
   "file_extension": ".py",
   "mimetype": "text/x-python",
   "name": "python",
   "nbconvert_exporter": "python",
   "pygments_lexer": "ipython3",
   "version": "3.10.7"
  },
  "toc": {
   "base_numbering": 1,
   "nav_menu": {},
   "number_sections": true,
   "sideBar": true,
   "skip_h1_title": true,
   "title_cell": "Содержание",
   "title_sidebar": "Contents",
   "toc_cell": true,
   "toc_position": {
    "height": "calc(100% - 180px)",
    "left": "10px",
    "top": "150px",
    "width": "367px"
   },
   "toc_section_display": true,
   "toc_window_display": true
  }
 },
 "nbformat": 4,
 "nbformat_minor": 2
}
